{
 "cells": [
  {
   "cell_type": "markdown",
   "metadata": {},
   "source": [
    "# Teste de completude - tabela STG_FNT_ITT"
   ]
  },
  {
   "cell_type": "markdown",
   "metadata": {},
   "source": [
    "# 1. Importação das bibliotecas utilizadas"
   ]
  },
  {
   "cell_type": "code",
   "execution_count": 1,
   "metadata": {},
   "outputs": [],
   "source": [
    "import pandas as pd\n",
    "import numpy as np\n",
    "import matplotlib.pyplot as plt"
   ]
  },
  {
   "cell_type": "markdown",
   "metadata": {},
   "source": [
    "# 2. Criação do data frame para importação da tabela"
   ]
  },
  {
   "cell_type": "code",
   "execution_count": 2,
   "metadata": {
    "scrolled": true
   },
   "outputs": [
    {
     "data": {
      "text/html": [
       "<div>\n",
       "<style scoped>\n",
       "    .dataframe tbody tr th:only-of-type {\n",
       "        vertical-align: middle;\n",
       "    }\n",
       "\n",
       "    .dataframe tbody tr th {\n",
       "        vertical-align: top;\n",
       "    }\n",
       "\n",
       "    .dataframe thead th {\n",
       "        text-align: right;\n",
       "    }\n",
       "</style>\n",
       "<table border=\"1\" class=\"dataframe\">\n",
       "  <thead>\n",
       "    <tr style=\"text-align: right;\">\n",
       "      <th></th>\n",
       "      <th>ID_STG_FNT_ITT</th>\n",
       "      <th>NUM_CNPJ</th>\n",
       "      <th>NUM_CMP_CNPJ</th>\n",
       "      <th>NOM_COM</th>\n",
       "      <th>NOM_RAZ_SCL</th>\n",
       "      <th>DAT_INC_DBO</th>\n",
       "    </tr>\n",
       "  </thead>\n",
       "  <tbody>\n",
       "    <tr>\n",
       "      <th>0</th>\n",
       "      <td>1</td>\n",
       "      <td>9876194098</td>\n",
       "      <td>5406</td>\n",
       "      <td>SPP MRMSVL</td>\n",
       "      <td>PPNJJJJRMPMP NMPVPNML JVRVPJNTJS LPJVSTMS</td>\n",
       "      <td>2019-12-19 13:43:41.914</td>\n",
       "    </tr>\n",
       "    <tr>\n",
       "      <th>1</th>\n",
       "      <td>2</td>\n",
       "      <td>17968176180</td>\n",
       "      <td>3060</td>\n",
       "      <td>SJRMSM</td>\n",
       "      <td>SJRMSM JXPJRVMN</td>\n",
       "      <td>2019-12-19 13:43:41.914</td>\n",
       "    </tr>\n",
       "    <tr>\n",
       "      <th>2</th>\n",
       "      <td>3</td>\n",
       "      <td>3388575864</td>\n",
       "      <td>2159</td>\n",
       "      <td>MPM VVSTM</td>\n",
       "      <td>MPM VVSTM SJRVVPPS</td>\n",
       "      <td>2019-12-19 13:43:41.914</td>\n",
       "    </tr>\n",
       "    <tr>\n",
       "      <th>3</th>\n",
       "      <td>4</td>\n",
       "      <td>17939154800</td>\n",
       "      <td>2057</td>\n",
       "      <td>MMNK PJ MMJRVPM</td>\n",
       "      <td>MMNK PJ MMJRVPM MJRRVLL LYNPV MMNPP MZLTVPLP S.M.</td>\n",
       "      <td>2019-12-19 13:43:41.914</td>\n",
       "    </tr>\n",
       "    <tr>\n",
       "      <th>4</th>\n",
       "      <td>5</td>\n",
       "      <td>3448352913</td>\n",
       "      <td>1717</td>\n",
       "      <td>STMNJMRJ PVMRTJRJJ MMNK (MRMSVL) S.M.</td>\n",
       "      <td>STMNJMRJ PVMRTJRJJ MMNK (MRMSVL) S.M. - MMNPP ...</td>\n",
       "      <td>2019-12-19 13:43:41.914</td>\n",
       "    </tr>\n",
       "    <tr>\n",
       "      <th>...</th>\n",
       "      <td>...</td>\n",
       "      <td>...</td>\n",
       "      <td>...</td>\n",
       "      <td>...</td>\n",
       "      <td>...</td>\n",
       "      <td>...</td>\n",
       "    </tr>\n",
       "    <tr>\n",
       "      <th>1003</th>\n",
       "      <td>1021</td>\n",
       "      <td>1133325927</td>\n",
       "      <td>2210</td>\n",
       "      <td>NMN</td>\n",
       "      <td>NMN</td>\n",
       "      <td>2019-12-19 13:43:41.914</td>\n",
       "    </tr>\n",
       "    <tr>\n",
       "      <th>1004</th>\n",
       "      <td>1022</td>\n",
       "      <td>2186049176</td>\n",
       "      <td>2737</td>\n",
       "      <td>NMN</td>\n",
       "      <td>NMN</td>\n",
       "      <td>2019-12-19 13:43:41.914</td>\n",
       "    </tr>\n",
       "    <tr>\n",
       "      <th>1005</th>\n",
       "      <td>1023</td>\n",
       "      <td>5012274390</td>\n",
       "      <td>2788</td>\n",
       "      <td>NMN</td>\n",
       "      <td>NMN</td>\n",
       "      <td>2019-12-19 13:43:41.914</td>\n",
       "    </tr>\n",
       "    <tr>\n",
       "      <th>1006</th>\n",
       "      <td>1024</td>\n",
       "      <td>2179698979</td>\n",
       "      <td>1751</td>\n",
       "      <td>NMN</td>\n",
       "      <td>NMN</td>\n",
       "      <td>2019-12-19 13:43:41.914</td>\n",
       "    </tr>\n",
       "    <tr>\n",
       "      <th>1007</th>\n",
       "      <td>1025</td>\n",
       "      <td>17085140437</td>\n",
       "      <td>1700</td>\n",
       "      <td>MMNPP LZSP MRMSVLJVRP S/M</td>\n",
       "      <td>MMNPP LZSP MRMSVLJVRP S/M</td>\n",
       "      <td>2019-12-19 13:43:41.914</td>\n",
       "    </tr>\n",
       "  </tbody>\n",
       "</table>\n",
       "<p>1008 rows × 6 columns</p>\n",
       "</div>"
      ],
      "text/plain": [
       "      ID_STG_FNT_ITT     NUM_CNPJ  NUM_CMP_CNPJ  \\\n",
       "0                  1   9876194098          5406   \n",
       "1                  2  17968176180          3060   \n",
       "2                  3   3388575864          2159   \n",
       "3                  4  17939154800          2057   \n",
       "4                  5   3448352913          1717   \n",
       "...              ...          ...           ...   \n",
       "1003            1021   1133325927          2210   \n",
       "1004            1022   2186049176          2737   \n",
       "1005            1023   5012274390          2788   \n",
       "1006            1024   2179698979          1751   \n",
       "1007            1025  17085140437          1700   \n",
       "\n",
       "                                    NOM_COM  \\\n",
       "0                                SPP MRMSVL   \n",
       "1                                    SJRMSM   \n",
       "2                                 MPM VVSTM   \n",
       "3                           MMNK PJ MMJRVPM   \n",
       "4     STMNJMRJ PVMRTJRJJ MMNK (MRMSVL) S.M.   \n",
       "...                                     ...   \n",
       "1003                                    NMN   \n",
       "1004                                    NMN   \n",
       "1005                                    NMN   \n",
       "1006                                    NMN   \n",
       "1007              MMNPP LZSP MRMSVLJVRP S/M   \n",
       "\n",
       "                                            NOM_RAZ_SCL  \\\n",
       "0             PPNJJJJRMPMP NMPVPNML JVRVPJNTJS LPJVSTMS   \n",
       "1                                       SJRMSM JXPJRVMN   \n",
       "2                                    MPM VVSTM SJRVVPPS   \n",
       "3     MMNK PJ MMJRVPM MJRRVLL LYNPV MMNPP MZLTVPLP S.M.   \n",
       "4     STMNJMRJ PVMRTJRJJ MMNK (MRMSVL) S.M. - MMNPP ...   \n",
       "...                                                 ...   \n",
       "1003                                                NMN   \n",
       "1004                                                NMN   \n",
       "1005                                                NMN   \n",
       "1006                                                NMN   \n",
       "1007                          MMNPP LZSP MRMSVLJVRP S/M   \n",
       "\n",
       "                  DAT_INC_DBO  \n",
       "0     2019-12-19 13:43:41.914  \n",
       "1     2019-12-19 13:43:41.914  \n",
       "2     2019-12-19 13:43:41.914  \n",
       "3     2019-12-19 13:43:41.914  \n",
       "4     2019-12-19 13:43:41.914  \n",
       "...                       ...  \n",
       "1003  2019-12-19 13:43:41.914  \n",
       "1004  2019-12-19 13:43:41.914  \n",
       "1005  2019-12-19 13:43:41.914  \n",
       "1006  2019-12-19 13:43:41.914  \n",
       "1007  2019-12-19 13:43:41.914  \n",
       "\n",
       "[1008 rows x 6 columns]"
      ]
     },
     "execution_count": 2,
     "metadata": {},
     "output_type": "execute_result"
    }
   ],
   "source": [
    "fnt = pd.read_excel('STG_FNT_ITT.xlsx')\n",
    "fnt"
   ]
  },
  {
   "cell_type": "markdown",
   "metadata": {},
   "source": [
    "# 3. Verificando completude das colunas"
   ]
  },
  {
   "cell_type": "code",
   "execution_count": 6,
   "metadata": {},
   "outputs": [
    {
     "data": {
      "text/plain": [
       "(1008, 0)"
      ]
     },
     "execution_count": 6,
     "metadata": {},
     "output_type": "execute_result"
    }
   ],
   "source": [
    "total = len(fnt)\n",
    "cont1, cont2, cont3, cont4 = 0, 0, 0, 0\n",
    "for i in range (len(fnt)):\n",
    "    if (str(fnt.NUM_CNPJ) == ''):\n",
    "        cont1 += 1\n",
    "    if (str(fnt.NUM_CMP_CNPJ) == ''):\n",
    "        cont2 += 1\n",
    "    if (str(fnt.NOM_COM) == ''):\n",
    "        cont3 += 1\n",
    "    if (str(fnt.NOM_RAZ_SCL) == ''):\n",
    "        cont4 += 1\n",
    "\n",
    "nulos = cont1 + cont2 + cont3 + cont4\n",
    "\n",
    "total, nulos"
   ]
  },
  {
   "cell_type": "markdown",
   "metadata": {},
   "source": [
    "# 4. Representação gráfica"
   ]
  },
  {
   "cell_type": "code",
   "execution_count": 7,
   "metadata": {
    "scrolled": true
   },
   "outputs": [
    {
     "data": {
      "image/png": "[encoded data removed]",
      "text/plain": [
       "<Figure size 432x288 with 1 Axes>"
      ]
     },
     "metadata": {
      "needs_background": "light"
     },
     "output_type": "display_data"
    }
   ],
   "source": [
    "dados = ['Total', 'Nulos']\n",
    "valores = [total, nulos]\n",
    "\n",
    "barlist = plt.bar(dados,[total,nulos])\n",
    "barlist[0].set_color('#FF8C00')\n",
    "barlist[1].set_color('#FF0000')\n",
    "\n",
    "plt.xticks(dados, fontsize=12)\n",
    "plt.ylabel('Quantidade', fontsize=12)\n",
    "plt.xlabel('Dados', fontsize=14)\n",
    "plt.title('Completude dos dados', fontsize=18)\n",
    "\n",
    "plt.show()"
   ]
  },
  {
   "cell_type": "code",
   "execution_count": null,
   "metadata": {},
   "outputs": [],
   "source": []
  }
 ],
 "metadata": {
  "kernelspec": {
   "display_name": "Python 3",
   "language": "python",
   "name": "python3"
  },
  "language_info": {
   "codemirror_mode": {
    "name": "ipython",
    "version": 3
   },
   "file_extension": ".py",
   "mimetype": "text/x-python",
   "name": "python",
   "nbconvert_exporter": "python",
   "pygments_lexer": "ipython3",
   "version": "3.7.7rc1"
  }
 },
 "nbformat": 4,
 "nbformat_minor": 4
}
