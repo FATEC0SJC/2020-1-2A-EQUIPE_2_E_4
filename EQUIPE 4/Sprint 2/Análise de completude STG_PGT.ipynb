{
 "cells": [
  {
   "cell_type": "markdown",
   "metadata": {},
   "source": [
    "# Teste de Completude - tabela STG_PGT"
   ]
  },
  {
   "cell_type": "markdown",
   "metadata": {},
   "source": [
    "## 1. Importação das bibliotecas"
   ]
  },
  {
   "cell_type": "code",
   "execution_count": 1,
   "metadata": {},
   "outputs": [],
   "source": [
    "import pandas as pd\n",
    "import numpy as np\n",
    "import matplotlib.pyplot as plt"
   ]
  },
  {
   "cell_type": "markdown",
   "metadata": {},
   "source": [
    "## 2. Criação do data frame para importação da tabela"
   ]
  },
  {
   "cell_type": "code",
   "execution_count": 2,
   "metadata": {},
   "outputs": [
    {
     "data": {
      "text/html": [
       "<div>\n",
       "<style scoped>\n",
       "    .dataframe tbody tr th:only-of-type {\n",
       "        vertical-align: middle;\n",
       "    }\n",
       "\n",
       "    .dataframe tbody tr th {\n",
       "        vertical-align: top;\n",
       "    }\n",
       "\n",
       "    .dataframe thead th {\n",
       "        text-align: right;\n",
       "    }\n",
       "</style>\n",
       "<table border=\"1\" class=\"dataframe\">\n",
       "  <thead>\n",
       "    <tr style=\"text-align: right;\">\n",
       "      <th></th>\n",
       "      <th>ID_STG_PGT</th>\n",
       "      <th>VLR_PGT_FAT</th>\n",
       "      <th>DAT_VCT</th>\n",
       "      <th>COD_MDL</th>\n",
       "      <th>QTD_CLI_CAD_POS</th>\n",
       "      <th>QTD_PGT</th>\n",
       "      <th>ID_FNT_ITT</th>\n",
       "      <th>DES_TIP_PSS</th>\n",
       "      <th>DAT_RSS_FNT_ITT</th>\n",
       "      <th>DAT_INC_DBO</th>\n",
       "    </tr>\n",
       "  </thead>\n",
       "  <tbody>\n",
       "    <tr>\n",
       "      <th>0</th>\n",
       "      <td>451</td>\n",
       "      <td>515711</td>\n",
       "      <td>16082022</td>\n",
       "      <td>A04</td>\n",
       "      <td>22</td>\n",
       "      <td>22</td>\n",
       "      <td>67</td>\n",
       "      <td>F</td>\n",
       "      <td>2020-01-16</td>\n",
       "      <td>2020-01-17 17:50:42.746</td>\n",
       "    </tr>\n",
       "    <tr>\n",
       "      <th>1</th>\n",
       "      <td>452</td>\n",
       "      <td>60763</td>\n",
       "      <td>26102020</td>\n",
       "      <td>A99</td>\n",
       "      <td>2</td>\n",
       "      <td>2</td>\n",
       "      <td>67</td>\n",
       "      <td>F</td>\n",
       "      <td>2020-01-16</td>\n",
       "      <td>2020-01-17 17:50:42.746</td>\n",
       "    </tr>\n",
       "    <tr>\n",
       "      <th>2</th>\n",
       "      <td>453</td>\n",
       "      <td>8588195</td>\n",
       "      <td>24022019</td>\n",
       "      <td>G01</td>\n",
       "      <td>22</td>\n",
       "      <td>22</td>\n",
       "      <td>67</td>\n",
       "      <td>F</td>\n",
       "      <td>2020-01-16</td>\n",
       "      <td>2020-01-17 17:50:42.746</td>\n",
       "    </tr>\n",
       "    <tr>\n",
       "      <th>3</th>\n",
       "      <td>454</td>\n",
       "      <td>369084</td>\n",
       "      <td>24062018</td>\n",
       "      <td>B99</td>\n",
       "      <td>16</td>\n",
       "      <td>23</td>\n",
       "      <td>67</td>\n",
       "      <td>F</td>\n",
       "      <td>2020-01-16</td>\n",
       "      <td>2020-01-17 17:50:42.746</td>\n",
       "    </tr>\n",
       "    <tr>\n",
       "      <th>4</th>\n",
       "      <td>455</td>\n",
       "      <td>13054</td>\n",
       "      <td>20022021</td>\n",
       "      <td>B99</td>\n",
       "      <td>1</td>\n",
       "      <td>1</td>\n",
       "      <td>67</td>\n",
       "      <td>F</td>\n",
       "      <td>2020-01-16</td>\n",
       "      <td>2020-01-17 17:50:42.746</td>\n",
       "    </tr>\n",
       "    <tr>\n",
       "      <th>...</th>\n",
       "      <td>...</td>\n",
       "      <td>...</td>\n",
       "      <td>...</td>\n",
       "      <td>...</td>\n",
       "      <td>...</td>\n",
       "      <td>...</td>\n",
       "      <td>...</td>\n",
       "      <td>...</td>\n",
       "      <td>...</td>\n",
       "      <td>...</td>\n",
       "    </tr>\n",
       "    <tr>\n",
       "      <th>15441</th>\n",
       "      <td>15422</td>\n",
       "      <td>795535</td>\n",
       "      <td>23012023</td>\n",
       "      <td>A04</td>\n",
       "      <td>47</td>\n",
       "      <td>48</td>\n",
       "      <td>67</td>\n",
       "      <td>F</td>\n",
       "      <td>2020-01-16</td>\n",
       "      <td>2020-01-17 17:50:42.746</td>\n",
       "    </tr>\n",
       "    <tr>\n",
       "      <th>15442</th>\n",
       "      <td>15423</td>\n",
       "      <td>519</td>\n",
       "      <td>20012018</td>\n",
       "      <td>A99</td>\n",
       "      <td>1</td>\n",
       "      <td>1</td>\n",
       "      <td>67</td>\n",
       "      <td>F</td>\n",
       "      <td>2020-01-16</td>\n",
       "      <td>2020-01-17 17:50:42.746</td>\n",
       "    </tr>\n",
       "    <tr>\n",
       "      <th>15443</th>\n",
       "      <td>15424</td>\n",
       "      <td>140534</td>\n",
       "      <td>26062020</td>\n",
       "      <td>A01</td>\n",
       "      <td>3</td>\n",
       "      <td>3</td>\n",
       "      <td>67</td>\n",
       "      <td>F</td>\n",
       "      <td>2020-01-16</td>\n",
       "      <td>2020-01-17 17:50:42.746</td>\n",
       "    </tr>\n",
       "    <tr>\n",
       "      <th>15444</th>\n",
       "      <td>15425</td>\n",
       "      <td>141887</td>\n",
       "      <td>11112024</td>\n",
       "      <td>A01</td>\n",
       "      <td>7</td>\n",
       "      <td>9</td>\n",
       "      <td>67</td>\n",
       "      <td>F</td>\n",
       "      <td>2020-01-16</td>\n",
       "      <td>2020-01-17 17:50:42.746</td>\n",
       "    </tr>\n",
       "    <tr>\n",
       "      <th>15445</th>\n",
       "      <td>15426</td>\n",
       "      <td>116296</td>\n",
       "      <td>17032023</td>\n",
       "      <td>A01</td>\n",
       "      <td>11</td>\n",
       "      <td>20</td>\n",
       "      <td>67</td>\n",
       "      <td>F</td>\n",
       "      <td>2020-01-16</td>\n",
       "      <td>2020-01-17 17:50:42.746</td>\n",
       "    </tr>\n",
       "  </tbody>\n",
       "</table>\n",
       "<p>15446 rows × 10 columns</p>\n",
       "</div>"
      ],
      "text/plain": [
       "       ID_STG_PGT  VLR_PGT_FAT   DAT_VCT COD_MDL  QTD_CLI_CAD_POS  QTD_PGT  \\\n",
       "0             451       515711  16082022     A04               22       22   \n",
       "1             452        60763  26102020     A99                2        2   \n",
       "2             453      8588195  24022019     G01               22       22   \n",
       "3             454       369084  24062018     B99               16       23   \n",
       "4             455        13054  20022021     B99                1        1   \n",
       "...           ...          ...       ...     ...              ...      ...   \n",
       "15441       15422       795535  23012023     A04               47       48   \n",
       "15442       15423          519  20012018     A99                1        1   \n",
       "15443       15424       140534  26062020     A01                3        3   \n",
       "15444       15425       141887  11112024     A01                7        9   \n",
       "15445       15426       116296  17032023     A01               11       20   \n",
       "\n",
       "       ID_FNT_ITT DES_TIP_PSS DAT_RSS_FNT_ITT              DAT_INC_DBO  \n",
       "0              67           F      2020-01-16  2020-01-17 17:50:42.746  \n",
       "1              67           F      2020-01-16  2020-01-17 17:50:42.746  \n",
       "2              67           F      2020-01-16  2020-01-17 17:50:42.746  \n",
       "3              67           F      2020-01-16  2020-01-17 17:50:42.746  \n",
       "4              67           F      2020-01-16  2020-01-17 17:50:42.746  \n",
       "...           ...         ...             ...                      ...  \n",
       "15441          67           F      2020-01-16  2020-01-17 17:50:42.746  \n",
       "15442          67           F      2020-01-16  2020-01-17 17:50:42.746  \n",
       "15443          67           F      2020-01-16  2020-01-17 17:50:42.746  \n",
       "15444          67           F      2020-01-16  2020-01-17 17:50:42.746  \n",
       "15445          67           F      2020-01-16  2020-01-17 17:50:42.746  \n",
       "\n",
       "[15446 rows x 10 columns]"
      ]
     },
     "execution_count": 2,
     "metadata": {},
     "output_type": "execute_result"
    }
   ],
   "source": [
    "pgt = pd.read_excel('STG_PGT.xlsx')\n",
    "pgt"
   ]
  },
  {
   "cell_type": "markdown",
   "metadata": {},
   "source": [
    "## 3. Verificando completude das colunas"
   ]
  },
  {
   "cell_type": "code",
   "execution_count": 3,
   "metadata": {},
   "outputs": [
    {
     "data": {
      "text/plain": [
       "(15446, 0)"
      ]
     },
     "execution_count": 3,
     "metadata": {},
     "output_type": "execute_result"
    }
   ],
   "source": [
    "cont1, cont2, cont3, cont4, cont5, cont6, cont7, cont8, cont9 = 0, 0, 0, 0, 0, 0, 0, 0, 0\n",
    "total = len(pgt)\n",
    "for i in range (len(pgt)):\n",
    "    if (str(pgt.VLR_PGT_FAT) == ''):\n",
    "        cont1 += 1\n",
    "    if (str(pgt.DAT_VCT) == ''):\n",
    "        cont2 += 1\n",
    "    if (str(pgt.COD_MDL) == ''):\n",
    "        cont3 += 1\n",
    "    if (str(pgt.QTD_CLI_CAD_POS) == ''):\n",
    "        cont4 += 1\n",
    "    if (str(pgt.QTD_PGT) == ''):\n",
    "        cont5 += 1\n",
    "    if (str(pgt.ID_FNT_ITT) == ''):\n",
    "        cont6 += 1\n",
    "    if (str(pgt.DES_TIP_PSS) == ''):\n",
    "        cont7 += 1\n",
    "    if (str(pgt.DAT_RSS_FNT_ITT) == ''):\n",
    "        cont8 += 1\n",
    "    if (str(pgt.DAT_INC_DBO) == ''):\n",
    "        cont9 += 1\n",
    "nulos = cont1 + cont2 + cont3 + cont4 + cont5 + cont6 + cont7 + cont8 + cont9\n",
    "\n",
    "total, nulos"
   ]
  },
  {
   "cell_type": "markdown",
   "metadata": {},
   "source": [
    "## 4. Representação gráfica"
   ]
  },
  {
   "cell_type": "code",
   "execution_count": 4,
   "metadata": {},
   "outputs": [
    {
     "data": {
      "image/png": "[encoded data removed]",
      "text/plain": [
       "<Figure size 432x288 with 1 Axes>"
      ]
     },
     "metadata": {
      "needs_background": "light"
     },
     "output_type": "display_data"
    }
   ],
   "source": [
    "dados = ['Total', 'Nulos']\n",
    "valores = [total, nulos]\n",
    "\n",
    "barlist = plt.bar(dados,[total,nulos])\n",
    "barlist[0].set_color('#FF8C00')\n",
    "barlist[1].set_color('#FF0000')\n",
    "\n",
    "plt.xticks(dados, fontsize=12)\n",
    "plt.ylabel('Quantidade', fontsize=12)\n",
    "plt.xlabel('Dados', fontsize=14)\n",
    "plt.title('Completude dos dados', fontsize=18)\n",
    "\n",
    "plt.show()"
   ]
  },
  {
   "cell_type": "code",
   "execution_count": null,
   "metadata": {},
   "outputs": [],
   "source": []
  }
 ],
 "metadata": {
  "kernelspec": {
   "display_name": "Python 3",
   "language": "python",
   "name": "python3"
  },
  "language_info": {
   "codemirror_mode": {
    "name": "ipython",
    "version": 3
   },
   "file_extension": ".py",
   "mimetype": "text/x-python",
   "name": "python",
   "nbconvert_exporter": "python",
   "pygments_lexer": "ipython3",
   "version": "3.7.7rc1"
  }
 },
 "nbformat": 4,
 "nbformat_minor": 4
}
