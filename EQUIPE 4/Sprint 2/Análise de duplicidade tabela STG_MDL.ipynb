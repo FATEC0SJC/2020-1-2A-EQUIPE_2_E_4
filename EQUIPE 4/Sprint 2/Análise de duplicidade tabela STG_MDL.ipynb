{
 "cells": [
  {
   "cell_type": "markdown",
   "metadata": {},
   "source": [
    "# Análise de duplicidade - Tabela STG_MDL\n"
   ]
  },
  {
   "cell_type": "markdown",
   "metadata": {},
   "source": [
    "## 1. Importação das bibliotecas\n"
   ]
  },
  {
   "cell_type": "code",
   "execution_count": 1,
   "metadata": {},
   "outputs": [],
   "source": [
    "import xlrd\n",
    "import pandas as pd\n",
    "import matplotlib.pyplot as plt"
   ]
  },
  {
   "cell_type": "markdown",
   "metadata": {},
   "source": [
    "## 2. Criação do data frame para importação da tabela"
   ]
  },
  {
   "cell_type": "code",
   "execution_count": 2,
   "metadata": {},
   "outputs": [],
   "source": [
    "df_modal = pd.read_excel('STG_MDL.xlsx')"
   ]
  },
  {
   "cell_type": "markdown",
   "metadata": {},
   "source": [
    "## 3. Análise de duplicidade"
   ]
  },
  {
   "cell_type": "code",
   "execution_count": 3,
   "metadata": {},
   "outputs": [
    {
     "name": "stdout",
     "output_type": "stream",
     "text": [
      "0     False\n",
      "1     False\n",
      "2     False\n",
      "3     False\n",
      "4     False\n",
      "5     False\n",
      "6     False\n",
      "7     False\n",
      "8     False\n",
      "9     False\n",
      "10    False\n",
      "11    False\n",
      "12    False\n",
      "13    False\n",
      "14    False\n",
      "15    False\n",
      "16    False\n",
      "17    False\n",
      "18    False\n",
      "Name: DES_MDL, dtype: bool\n"
     ]
    }
   ],
   "source": [
    "print(any(df_modal['COD_MDL'].duplicated()) or (df_modal['DES_MDL'].duplicated() ))"
   ]
  },
  {
   "cell_type": "markdown",
   "metadata": {},
   "source": [
    "## 4. Verificaçãoda quantidade de registros no dataframe"
   ]
  },
  {
   "cell_type": "code",
   "execution_count": 4,
   "metadata": {},
   "outputs": [],
   "source": [
    "total=len(df_modal)"
   ]
  },
  {
   "cell_type": "markdown",
   "metadata": {},
   "source": [
    "## 5. Criação de um novo dataframe com os dados não duplicados. "
   ]
  },
  {
   "cell_type": "code",
   "execution_count": 5,
   "metadata": {},
   "outputs": [
    {
     "data": {
      "text/plain": [
       "0                         ADIANTAMENTO DEPOSITANTE\n",
       "1                            OUTROS FINANCIAMENTOS\n",
       "2                                CARTAO DE CREDITO\n",
       "3                              TITULOS DESCONTADOS\n",
       "4                     EMPRESTIMO - CAPITAL DE GIRO\n",
       "5                     EMPRESTIMO - CREDITO PESSOAL\n",
       "6                CHEQUE ESPECIAL E CONTA GARANTIDA\n",
       "7                 FINANCIAMENTO - IMOBILIARIOS SFH\n",
       "8         FINANCIAMENTO - IMPORTACAO  E EXPORTACAO\n",
       "9                        EMPRESTIMO - MICROCREDITO\n",
       "10                    FINANCIAMENTO - MICROCREDITO\n",
       "11                   FINANCIAMENTO - ARREENDAMENTO\n",
       "12                       AVAIS E FIANCASA HONRADOS\n",
       "13            FINANCIAMENTO - IMOBILIARIO (OUTROS)\n",
       "14                                       CONSORCIO\n",
       "15                         EMPRESTIMO - CONSIGNADO\n",
       "16    FINANCIAMENTO - AQUISICAO DE BENS (VEICULOS)\n",
       "17                              OUTROS EMPRESTIMOS\n",
       "18          FINANCIAMENTO - RURAL E AGROINDUSTRIAL\n",
       "Name: DES_MDL, dtype: object"
      ]
     },
     "execution_count": 5,
     "metadata": {},
     "output_type": "execute_result"
    }
   ],
   "source": [
    "Ndupl=(df_modal['DES_MDL'].drop_duplicates())\n",
    "Ndupl"
   ]
  },
  {
   "cell_type": "code",
   "execution_count": 6,
   "metadata": {},
   "outputs": [
    {
     "data": {
      "text/plain": [
       "19"
      ]
     },
     "execution_count": 6,
     "metadata": {},
     "output_type": "execute_result"
    }
   ],
   "source": [
    "nd=len(Ndupl)\n",
    "nd"
   ]
  },
  {
   "cell_type": "markdown",
   "metadata": {},
   "source": [
    "## 6. Verificação de registros duplicados."
   ]
  },
  {
   "cell_type": "code",
   "execution_count": 7,
   "metadata": {},
   "outputs": [
    {
     "data": {
      "text/plain": [
       "0"
      ]
     },
     "execution_count": 7,
     "metadata": {},
     "output_type": "execute_result"
    }
   ],
   "source": [
    "dupl = total - nd\n",
    "dupl"
   ]
  },
  {
   "cell_type": "markdown",
   "metadata": {},
   "source": [
    "## 7. Representação gráfica.\n"
   ]
  },
  {
   "cell_type": "code",
   "execution_count": 8,
   "metadata": {},
   "outputs": [],
   "source": [
    "Registros=['Total', 'Não duplicados', 'Duplicados']\n",
    "Valores=[total,nd,dupl]"
   ]
  },
  {
   "cell_type": "code",
   "execution_count": 9,
   "metadata": {},
   "outputs": [
    {
     "data": {
      "text/plain": [
       "Text(0.5, 1.0, 'Verficação de registros em duplicidade')"
      ]
     },
     "execution_count": 9,
     "metadata": {},
     "output_type": "execute_result"
    },
    {
     "data": {
      "image/png": "[encoded data removed]",
      "text/plain": [
       "<Figure size 432x288 with 1 Axes>"
      ]
     },
     "metadata": {
      "needs_background": "light"
     },
     "output_type": "display_data"
    }
   ],
   "source": [
    "barlist=plt.bar(Registros,[total,nd,dupl])\n",
    "barlist[0].set_color('#FF8C00')\n",
    "barlist[1].set_color('#3CB371')\n",
    "barlist[2].set_color('#FF0000')\n",
    "\n",
    "\n",
    "plt.xticks(Registros, fontsize=12)\n",
    "plt.ylabel('Quantidade de Registros',fontsize=12)\n",
    "plt.xlabel('Dados',fontsize=14)\n",
    "plt.title('Verficação de registros em duplicidade',fontsize=20)"
   ]
  }
 ],
 "metadata": {
  "kernelspec": {
   "display_name": "Python 3",
   "language": "python",
   "name": "python3"
  },
  "language_info": {
   "codemirror_mode": {
    "name": "ipython",
    "version": 3
   },
   "file_extension": ".py",
   "mimetype": "text/x-python",
   "name": "python",
   "nbconvert_exporter": "python",
   "pygments_lexer": "ipython3",
   "version": "3.7.7rc1"
  }
 },
 "nbformat": 4,
 "nbformat_minor": 2
}
