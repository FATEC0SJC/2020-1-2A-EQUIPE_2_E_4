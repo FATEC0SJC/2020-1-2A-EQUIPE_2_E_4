{
 "cells": [
  {
   "cell_type": "markdown",
   "metadata": {},
   "source": [
    "#             Indicador de confiabilidade - Tabela STG_FNT_ITT"
   ]
  },
  {
   "cell_type": "markdown",
   "metadata": {},
   "source": [
    "# 1. Importação das bibliotecas utilizadas"
   ]
  },
  {
   "cell_type": "code",
   "execution_count": 19,
   "metadata": {},
   "outputs": [],
   "source": [
    "import pandas as pd\n",
    "import numpy as np\n",
    "import matplotlib.pyplot as plt"
   ]
  },
  {
   "cell_type": "markdown",
   "metadata": {},
   "source": [
    "# 2. Criação dos data frames para importação dos dados"
   ]
  },
  {
   "cell_type": "code",
   "execution_count": 20,
   "metadata": {},
   "outputs": [],
   "source": [
    "df_fonte = pd.read_excel('STG_FNT_ITT.xlsx')\n",
    "s = df_fonte"
   ]
  },
  {
   "cell_type": "markdown",
   "metadata": {},
   "source": [
    "# 3. Removendo colunas não usadas"
   ]
  },
  {
   "cell_type": "code",
   "execution_count": 21,
   "metadata": {},
   "outputs": [],
   "source": [
    "s=s.drop('NOM_COM', axis=1)\n",
    "s=s.drop('NOM_RAZ_SCL', axis=1)\n",
    "s=s.drop('DAT_INC_DBO', axis=1)"
   ]
  },
  {
   "cell_type": "markdown",
   "metadata": {},
   "source": [
    "# 4. Verificando CNPJ + Complemento = 14 dígitos e atribuindo os valores em suas respectivas listas."
   ]
  },
  {
   "cell_type": "code",
   "execution_count": 22,
   "metadata": {},
   "outputs": [],
   "source": [
    "total = []\n",
    "usaveis = []\n",
    "nao_usaveis = []\n",
    "for i in range (len(s)):\n",
    "    coct=len((str(s.NUM_CNPJ[i])+str(s.NUM_CMP_CNPJ[i])))\n",
    "    cont = 0\n",
    "    total.append(coct)\n",
    "    if (coct) >= 8 and (coct) <= 14:\n",
    "        usaveis.append(coct)\n",
    "    else:\n",
    "        cont+=1\n",
    "        nao_usaveis.append(cont)"
   ]
  },
  {
   "cell_type": "markdown",
   "metadata": {},
   "source": [
    "# 5. Checando o tamanho das listas"
   ]
  },
  {
   "cell_type": "code",
   "execution_count": 23,
   "metadata": {
    "scrolled": true
   },
   "outputs": [
    {
     "data": {
      "text/plain": [
       "(650, 358, 1008)"
      ]
     },
     "execution_count": 23,
     "metadata": {},
     "output_type": "execute_result"
    }
   ],
   "source": [
    "len(usaveis), len(nao_usaveis), len(total)"
   ]
  },
  {
   "cell_type": "markdown",
   "metadata": {},
   "source": [
    "# 6. Criando gráfico comparativo"
   ]
  },
  {
   "cell_type": "code",
   "execution_count": 24,
   "metadata": {},
   "outputs": [
    {
     "data": {
      "text/plain": [
       "Text(0.5, 1.0, 'Confiabilidade dos dados')"
      ]
     },
     "execution_count": 24,
     "metadata": {},
     "output_type": "execute_result"
    },
    {
     "data": {
      "image/png": "[encoded data removed]",
      "text/plain": [
       "<Figure size 432x288 with 1 Axes>"
      ]
     },
     "metadata": {
      "needs_background": "light"
     },
     "output_type": "display_data"
    }
   ],
   "source": [
    "dados=['Total de dados','Dados usáveis','Dados não usáveis']\n",
    "n = [len(total), len(usaveis), len(nao_usaveis)]\n",
    "plt.bar(dados, n, color=\"blue\")\n",
    "plt.xticks(dados)\n",
    "plt.ylabel('QUANTIDADE')\n",
    "plt.xlabel('DADOS')\n",
    "plt.title('Confiabilidade dos dados')"
   ]
  },
  {
   "cell_type": "code",
   "execution_count": null,
   "metadata": {},
   "outputs": [],
   "source": []
  }
 ],
 "metadata": {
  "kernelspec": {
   "display_name": "Python 3",
   "language": "python",
   "name": "python3"
  },
  "language_info": {
   "codemirror_mode": {
    "name": "ipython",
    "version": 3
   },
   "file_extension": ".py",
   "mimetype": "text/x-python",
   "name": "python",
   "nbconvert_exporter": "python",
   "pygments_lexer": "ipython3",
   "version": "3.7.7rc1"
  }
 },
 "nbformat": 4,
 "nbformat_minor": 4
}
