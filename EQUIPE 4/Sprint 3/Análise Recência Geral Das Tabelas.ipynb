{
 "cells": [
  {
   "cell_type": "markdown",
   "metadata": {},
   "source": [
    "# Recência geral da remessa"
   ]
  },
  {
   "cell_type": "markdown",
   "metadata": {},
   "source": [
    "# 1. Importação das bibliotecas utilizadas"
   ]
  },
  {
   "cell_type": "code",
   "execution_count": 1,
   "metadata": {},
   "outputs": [],
   "source": [
    "import pandas as pd\n",
    "import numpy as np\n",
    "import matplotlib.pyplot as plt"
   ]
  },
  {
   "cell_type": "markdown",
   "metadata": {},
   "source": [
    "# 2. Criação dos data frames para a importação dos dados"
   ]
  },
  {
   "cell_type": "code",
   "execution_count": 2,
   "metadata": {},
   "outputs": [],
   "source": [
    "df_pgt = pd.read_excel('STG_PGT.xlsx')\n",
    "df_opr = pd.read_excel('STG_OPR_ITT.xlsx')\n",
    "df_mvt = pd.read_excel('STG_MVT_CRD.xlsx')"
   ]
  },
  {
   "cell_type": "markdown",
   "metadata": {},
   "source": [
    "# 3. Verificação de recência de todas tabelas"
   ]
  },
  {
   "cell_type": "markdown",
   "metadata": {},
   "source": [
    "## 3.1 Verificando recência da tabela STG_PGT"
   ]
  },
  {
   "cell_type": "code",
   "execution_count": 3,
   "metadata": {},
   "outputs": [
    {
     "data": {
      "text/plain": [
       "['2020-01-16', '2020-01-17 17:50:42.746']"
      ]
     },
     "execution_count": 3,
     "metadata": {},
     "output_type": "execute_result"
    }
   ],
   "source": [
    "#Contando a quantidade de itens na coluna DAT_RSS_FNT_ITT.\n",
    "view_pgt = df_pgt[['ID_STG_PGT', 'DAT_RSS_FNT_ITT']]\n",
    "DAT_RSS_FNT_ITT = view_pgt.groupby('DAT_RSS_FNT_ITT').count()\n",
    "\n",
    "#Contando a quantidade de itens na coluna DAT_INC_DBO.\n",
    "view_pgt = df_pgt[['ID_STG_PGT', 'DAT_INC_DBO']]\n",
    "DAT_INC_DBO = view_pgt.groupby('DAT_INC_DBO').count()\n",
    "\n",
    "colunas = [DAT_RSS_FNT_ITT, DAT_INC_DBO]\n",
    "\n",
    "ids_pgt = []\n",
    "valores_pgt = []\n",
    "\n",
    "for coluna in colunas:\n",
    "    for x in coluna['ID_STG_PGT'].to_dict().items():\n",
    "        ids_pgt.append(x[0])\n",
    "        valores_pgt.append(x[1])\n",
    "    \n",
    "tabela_pgt =  pd.DataFrame({'ALTERAÇÃO(ÕES)' : [x for x in ids_pgt], \n",
    "                         'OCORRÊNCIA (%)' : [x * 100 / view_pgt.shape[0] for x in valores_pgt]}, \n",
    "                        index = ['DAT_RSS_FNT_ITT', 'DAT_INC_DBO'])\n",
    "\n",
    "ids_pgt"
   ]
  },
  {
   "cell_type": "code",
   "execution_count": 4,
   "metadata": {},
   "outputs": [
    {
     "data": {
      "image/png": "[encoded data removed]",
      "text/plain": [
       "<Figure size 432x288 with 1 Axes>"
      ]
     },
     "metadata": {
      "needs_background": "light"
     },
     "output_type": "display_data"
    }
   ],
   "source": [
    "dados = ['Total de dados', '2020-01-16', '2020-01-17 17:50:42.746']\n",
    "n = [len(df_pgt), valores_pgt[0], valores_pgt[1]]\n",
    "\n",
    "barlist = plt.bar(dados,[len(df_pgt), valores_pgt[0], valores_pgt[1]])\n",
    "barlist[0].set_color('#FF8C00')\n",
    "barlist[1].set_color('#3CB371')\n",
    "barlist[2].set_color('#3CB371')\n",
    "\n",
    "plt.xticks(dados, fontsize=12, rotation=25)\n",
    "plt.ylabel('Quantidade', fontsize=12)\n",
    "plt.xlabel('Dados', fontsize=14)\n",
    "plt.title('Recência dos dados da tabela STG_PGT', fontsize=18)\n",
    "\n",
    "plt.show()"
   ]
  },
  {
   "cell_type": "markdown",
   "metadata": {},
   "source": [
    "## 3.2 Verificando recência da tabela STG_OPR_ITT"
   ]
  },
  {
   "cell_type": "code",
   "execution_count": 5,
   "metadata": {},
   "outputs": [
    {
     "data": {
      "text/html": [
       "<div>\n",
       "<style scoped>\n",
       "    .dataframe tbody tr th:only-of-type {\n",
       "        vertical-align: middle;\n",
       "    }\n",
       "\n",
       "    .dataframe tbody tr th {\n",
       "        vertical-align: top;\n",
       "    }\n",
       "\n",
       "    .dataframe thead th {\n",
       "        text-align: right;\n",
       "    }\n",
       "</style>\n",
       "<table border=\"1\" class=\"dataframe\">\n",
       "  <thead>\n",
       "    <tr style=\"text-align: right;\">\n",
       "      <th></th>\n",
       "      <th>ALTERAÇÃO(ÕES)</th>\n",
       "      <th>OCORRÊNCIA (%)</th>\n",
       "    </tr>\n",
       "  </thead>\n",
       "  <tbody>\n",
       "    <tr>\n",
       "      <th>DAT_RSS_FNT_ITT</th>\n",
       "      <td>2020-01-16</td>\n",
       "      <td>100.0</td>\n",
       "    </tr>\n",
       "    <tr>\n",
       "      <th>DAT_INC_DBO</th>\n",
       "      <td>2020-01-27 10:49:48.15</td>\n",
       "      <td>100.0</td>\n",
       "    </tr>\n",
       "  </tbody>\n",
       "</table>\n",
       "</div>"
      ],
      "text/plain": [
       "                         ALTERAÇÃO(ÕES)  OCORRÊNCIA (%)\n",
       "DAT_RSS_FNT_ITT              2020-01-16           100.0\n",
       "DAT_INC_DBO      2020-01-27 10:49:48.15           100.0"
      ]
     },
     "execution_count": 5,
     "metadata": {},
     "output_type": "execute_result"
    }
   ],
   "source": [
    "#Contando a quantidade de itens na coluna DAT_RSS_FNT_ITT.\n",
    "view_opr = df_opr[['ID_STG_OPR_ITT', 'DAT_RSS_FNT_ITT']]\n",
    "DAT_RSS_FNT_ITT = view_opr.groupby('DAT_RSS_FNT_ITT').count()\n",
    "\n",
    "#Contando a quantidade de itens na coluna DAT_INC_DBO.\n",
    "view_opr = df_opr[['ID_STG_OPR_ITT', 'DAT_INC_DBO']]\n",
    "DAT_INC_DBO = view_opr.groupby('DAT_INC_DBO').count()\n",
    "\n",
    "colunas = [DAT_RSS_FNT_ITT, DAT_INC_DBO]\n",
    "\n",
    "ids_opr = []\n",
    "valores_opr = []\n",
    "\n",
    "for coluna in colunas:\n",
    "    for x in coluna['ID_STG_OPR_ITT'].to_dict().items():\n",
    "        ids_opr.append(x[0])\n",
    "        valores_opr.append(x[1])\n",
    "    \n",
    "tabela_opr =  pd.DataFrame({'ALTERAÇÃO(ÕES)' : [x for x in ids_opr], \n",
    "                         'OCORRÊNCIA (%)' : [x * 100 / view_opr.shape[0] for x in valores_opr]}, \n",
    "                        index = ['DAT_RSS_FNT_ITT', 'DAT_INC_DBO'])\n",
    "\n",
    "tabela_opr"
   ]
  },
  {
   "cell_type": "code",
   "execution_count": 6,
   "metadata": {},
   "outputs": [
    {
     "data": {
      "image/png": "[encoded data removed]",
      "text/plain": [
       "<Figure size 432x288 with 1 Axes>"
      ]
     },
     "metadata": {
      "needs_background": "light"
     },
     "output_type": "display_data"
    }
   ],
   "source": [
    "dados = ['Total de dados', '2020-01-16', '2020-01-17 17:50:42.746']\n",
    "n = [len(df_opr), valores_opr[0], valores_opr[1]]\n",
    "\n",
    "barlist = plt.bar(dados,[len(df_opr), valores_opr[0], valores_opr[1]])\n",
    "barlist[0].set_color('#FF8C00')\n",
    "barlist[1].set_color('#3CB371')\n",
    "barlist[2].set_color('#3CB371')\n",
    "\n",
    "plt.xticks(dados, fontsize=12, rotation=25)\n",
    "plt.ylabel('Quantidade', fontsize=12)\n",
    "plt.xlabel('Dados', fontsize=14)\n",
    "plt.title('Recência dos dados da tabela STG_OPR_ITT', fontsize=18)\n",
    "\n",
    "plt.show()"
   ]
  },
  {
   "cell_type": "markdown",
   "metadata": {},
   "source": [
    "## 3.3 Verificando recência da tabela STG_OPR_MVT"
   ]
  },
  {
   "cell_type": "code",
   "execution_count": 7,
   "metadata": {},
   "outputs": [
    {
     "data": {
      "text/plain": [
       "[15, 15]"
      ]
     },
     "execution_count": 7,
     "metadata": {},
     "output_type": "execute_result"
    }
   ],
   "source": [
    "#Contando a quantidade de itens na coluna DAT_RSS_FNT_ITT.\n",
    "view_mvt = df_mvt[['ID_STG_MVT_CRD', 'DAT_RSS_FNT_ITT']]\n",
    "DAT_RSS_FNT_ITT = view_mvt.groupby('DAT_RSS_FNT_ITT').count()\n",
    "\n",
    "#Contando a quantidade de itens na coluna DAT_INC_DBO.\n",
    "view_mvt = df_mvt[['ID_STG_MVT_CRD', 'DAT_INC_DBO']]\n",
    "DAT_INC_DBO = view_mvt.groupby('DAT_INC_DBO').count()\n",
    "\n",
    "colunas = [DAT_RSS_FNT_ITT, DAT_INC_DBO]\n",
    "\n",
    "ids_mvt = []\n",
    "valores_mvt = []\n",
    "\n",
    "for coluna in colunas:\n",
    "    for x in coluna['ID_STG_MVT_CRD'].to_dict().items():\n",
    "        ids_mvt.append(x[0])\n",
    "        valores_mvt.append(x[1])\n",
    "    \n",
    "tabela_mvt =  pd.DataFrame({'ALTERAÇÃO(ÕES)' : [x for x in ids_mvt], \n",
    "                         'OCORRÊNCIA (%)' : [x * 100 / view_mvt.shape[0] for x in valores_mvt]}, \n",
    "                        index = ['DAT_RSS_FNT_ITT', 'DAT_INC_DBO'])\n",
    "\n",
    "valores_mvt"
   ]
  },
  {
   "cell_type": "markdown",
   "metadata": {},
   "source": [
    "## 4. Representação gráfica\n"
   ]
  },
  {
   "cell_type": "code",
   "execution_count": 8,
   "metadata": {},
   "outputs": [
    {
     "data": {
      "image/png": "[encoded data removed]",
      "text/plain": [
       "<Figure size 432x288 with 1 Axes>"
      ]
     },
     "metadata": {
      "needs_background": "light"
     },
     "output_type": "display_data"
    }
   ],
   "source": [
    "dados = ['Total de dados', '2020-01-16', '2020-01-17 17:50:42.746']\n",
    "n = [len(df_mvt), valores_mvt[0], valores_mvt[1]]\n",
    "\n",
    "barlist = plt.bar(dados,[len(df_mvt), valores_mvt[0], valores_mvt[1]])\n",
    "barlist[0].set_color('#FF8C00')\n",
    "barlist[1].set_color('#3CB371')\n",
    "barlist[2].set_color('#3CB371')\n",
    "\n",
    "plt.xticks(dados, fontsize=12, rotation=25)\n",
    "plt.ylabel('Quantidade', fontsize=12)\n",
    "plt.xlabel('Dados', fontsize=14)\n",
    "plt.title('Recência dos dados da tabela STG_MVT_CRD', fontsize=18)\n",
    "\n",
    "plt.show()"
   ]
  },
  {
   "cell_type": "code",
   "execution_count": null,
   "metadata": {},
   "outputs": [],
   "source": []
  }
 ],
 "metadata": {
  "kernelspec": {
   "display_name": "Python 3",
   "language": "python",
   "name": "python3"
  },
  "language_info": {
   "codemirror_mode": {
    "name": "ipython",
    "version": 3
   },
   "file_extension": ".py",
   "mimetype": "text/x-python",
   "name": "python",
   "nbconvert_exporter": "python",
   "pygments_lexer": "ipython3",
   "version": "3.7.7rc1"
  }
 },
 "nbformat": 4,
 "nbformat_minor": 4
}
