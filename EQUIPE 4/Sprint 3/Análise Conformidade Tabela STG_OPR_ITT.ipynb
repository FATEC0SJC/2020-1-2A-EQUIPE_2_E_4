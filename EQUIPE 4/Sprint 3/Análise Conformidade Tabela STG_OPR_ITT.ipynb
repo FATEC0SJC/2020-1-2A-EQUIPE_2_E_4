{
  "nbformat": 4,
  "nbformat_minor": 0,
  "metadata": {
    "colab": {
      "name": "Untitled3.ipynb",
      "provenance": [],
      "authorship_tag": "ABX9TyMiYL2BafKx1Ft79KhAypE1",
      "include_colab_link": true
    },
    "kernelspec": {
      "name": "python3",
      "display_name": "Python 3"
    }
  },
  "cells": [
    {
      "cell_type": "markdown",
      "metadata": {
        "id": "view-in-github",
        "colab_type": "text"
      },
      "source": [
        "<a href=\"https://colab.research.google.com/gist/fcursino/4c96bd84f85ed044f76aa74c369eeebe/untitled3.ipynb\" target=\"_parent\"><img src=\"https://colab.research.google.com/assets/colab-badge.svg\" alt=\"Open In Colab\"/></a>"
      ]
    },
    {
      "cell_type": "code",
      "metadata": {
        "id": "QhzhKfVhAc3E",
        "colab_type": "code",
        "colab": {
          "base_uri": "https://localhost:8080/",
          "height": 122
        },
        "outputId": "387553c9-46b4-4acd-f2b5-c785e5874d50"
      },
      "source": [
        "from google.colab import drive\n",
        "\n",
        "drive.mount('/content/drive')"
      ],
      "execution_count": 1,
      "outputs": [
        {
          "output_type": "stream",
          "text": [
            "Go to this URL in a browser: https://accounts.google.com/o/oauth2/auth?client_id=947318989803-6bn6qk8qdgf4n4g3pfee6491hc0brc4i.apps.googleusercontent.com&redirect_uri=urn%3aietf%3awg%3aoauth%3a2.0%3aoob&response_type=code&scope=email%20https%3a%2f%2fwww.googleapis.com%2fauth%2fdocs.test%20https%3a%2f%2fwww.googleapis.com%2fauth%2fdrive%20https%3a%2f%2fwww.googleapis.com%2fauth%2fdrive.photos.readonly%20https%3a%2f%2fwww.googleapis.com%2fauth%2fpeopleapi.readonly\n",
            "\n",
            "Enter your authorization code:\n",
            "··········\n",
            "Mounted at /content/drive\n"
          ],
          "name": "stdout"
        }
      ]
    },
    {
      "cell_type": "markdown",
      "metadata": {
        "id": "kQA_AacEBLX6",
        "colab_type": "text"
      },
      "source": [
        "## 1. Importação de bibliotecas"
      ]
    },
    {
      "cell_type": "code",
      "metadata": {
        "id": "KCK0MjB9BKxl",
        "colab_type": "code",
        "colab": {}
      },
      "source": [
        "import xlrd\n",
        "import pandas as pd\n",
        "import matplotlib.pyplot as plt"
      ],
      "execution_count": 0,
      "outputs": []
    },
    {
      "cell_type": "markdown",
      "metadata": {
        "id": "kZd3gDlJA4HI",
        "colab_type": "text"
      },
      "source": [
        "1.2. Criação de um dataframe"
      ]
    },
    {
      "cell_type": "code",
      "metadata": {
        "id": "MG9CQT8vAeHb",
        "colab_type": "code",
        "colab": {}
      },
      "source": [
        "df2 = pd.read_excel('/content/drive/My Drive/STG_MDL.xlsx')\n",
        "df1 = pd.read_excel('/content/drive/My Drive/STG_OPR_ITT.xlsx')"
      ],
      "execution_count": 0,
      "outputs": []
    },
    {
      "cell_type": "markdown",
      "metadata": {
        "id": "NaqKgFuaBvun",
        "colab_type": "text"
      },
      "source": [
        "## 2. Comformidade quanto aos códigos de modalidade válidos"
      ]
    },
    {
      "cell_type": "markdown",
      "metadata": {
        "id": "bRtEs66ICLAg",
        "colab_type": "text"
      },
      "source": [
        "2.1. Criação de uma lista dos códigos de modalidade"
      ]
    },
    {
      "cell_type": "code",
      "metadata": {
        "id": "pX8OYV0fAuMB",
        "colab_type": "code",
        "colab": {}
      },
      "source": [
        "lista = []\n",
        "for i in range(len(df2)):\n",
        "  a = df2.COD_MDL[i]\n",
        "  lista.append(a)"
      ],
      "execution_count": 0,
      "outputs": []
    },
    {
      "cell_type": "code",
      "metadata": {
        "id": "ii7x39wKCq4Q",
        "colab_type": "code",
        "colab": {
          "base_uri": "https://localhost:8080/",
          "height": 340
        },
        "outputId": "26dd020a-c1c6-4e33-c55f-7a5ee39d8afa"
      },
      "source": [
        "lista"
      ],
      "execution_count": 9,
      "outputs": [
        {
          "output_type": "execute_result",
          "data": {
            "text/plain": [
              "['E02',\n",
              " 'B99',\n",
              " 'D01',\n",
              " 'G01',\n",
              " 'A02',\n",
              " 'A04',\n",
              " 'E01',\n",
              " 'B03',\n",
              " 'B02',\n",
              " 'A05',\n",
              " 'B04',\n",
              " 'B07',\n",
              " 'F01',\n",
              " 'B06',\n",
              " 'C01',\n",
              " 'A01',\n",
              " 'B05',\n",
              " 'A99',\n",
              " 'B01']"
            ]
          },
          "metadata": {
            "tags": []
          },
          "execution_count": 9
        }
      ]
    },
    {
      "cell_type": "markdown",
      "metadata": {
        "id": "M9Mql_tNGLDq",
        "colab_type": "text"
      },
      "source": [
        "2.2. Verificação da tabela STG_OPR_ITT contém os códigos de modalidade"
      ]
    },
    {
      "cell_type": "code",
      "metadata": {
        "id": "1llJOYCzDY0p",
        "colab_type": "code",
        "colab": {}
      },
      "source": [
        "conf = len(df1.loc[df1['ID_MDL'].isin(lista)])"
      ],
      "execution_count": 0,
      "outputs": []
    },
    {
      "cell_type": "code",
      "metadata": {
        "id": "GFxn6vZBG6E7",
        "colab_type": "code",
        "colab": {
          "base_uri": "https://localhost:8080/",
          "height": 34
        },
        "outputId": "265468d6-412e-4e94-a0cd-40507c0ece6f"
      },
      "source": [
        "#Verificação da quantidade de registros que possuem o código de modalidade válido.\n",
        "conf"
      ],
      "execution_count": 11,
      "outputs": [
        {
          "output_type": "execute_result",
          "data": {
            "text/plain": [
              "891"
            ]
          },
          "metadata": {
            "tags": []
          },
          "execution_count": 11
        }
      ]
    },
    {
      "cell_type": "markdown",
      "metadata": {
        "id": "F-FtYfrTHXey",
        "colab_type": "text"
      },
      "source": [
        "2.3. Verificação da quantidade de registros da tabela STG_OPR_ITT"
      ]
    },
    {
      "cell_type": "code",
      "metadata": {
        "id": "myEaqIK-HHXC",
        "colab_type": "code",
        "colab": {}
      },
      "source": [
        "total = len(df1)"
      ],
      "execution_count": 0,
      "outputs": []
    },
    {
      "cell_type": "code",
      "metadata": {
        "id": "tWkRJHcGHNYJ",
        "colab_type": "code",
        "colab": {
          "base_uri": "https://localhost:8080/",
          "height": 34
        },
        "outputId": "f5ccac2e-d217-4418-a04f-b5d864adfc85"
      },
      "source": [
        "total"
      ],
      "execution_count": 13,
      "outputs": [
        {
          "output_type": "execute_result",
          "data": {
            "text/plain": [
              "891"
            ]
          },
          "metadata": {
            "tags": []
          },
          "execution_count": 13
        }
      ]
    },
    {
      "cell_type": "markdown",
      "metadata": {
        "id": "TgAMP9dvHtRx",
        "colab_type": "text"
      },
      "source": [
        "2.4. Verificação de % de registros conforme baseado nos códigos de modalidade"
      ]
    },
    {
      "cell_type": "code",
      "metadata": {
        "id": "lsDwTMgQHQ3x",
        "colab_type": "code",
        "colab": {}
      },
      "source": [
        "n_conforme= (total-conf) *100/total\n",
        "conforme = 100 - n_conforme"
      ],
      "execution_count": 0,
      "outputs": []
    },
    {
      "cell_type": "code",
      "metadata": {
        "id": "tUiyCpaAIXXf",
        "colab_type": "code",
        "colab": {
          "base_uri": "https://localhost:8080/",
          "height": 34
        },
        "outputId": "d5d0226e-2623-4de0-a642-debc73c7b301"
      },
      "source": [
        "conforme"
      ],
      "execution_count": 15,
      "outputs": [
        {
          "output_type": "execute_result",
          "data": {
            "text/plain": [
              "100.0"
            ]
          },
          "metadata": {
            "tags": []
          },
          "execution_count": 15
        }
      ]
    },
    {
      "cell_type": "code",
      "metadata": {
        "id": "jr2E6TLhIanR",
        "colab_type": "code",
        "colab": {
          "base_uri": "https://localhost:8080/",
          "height": 34
        },
        "outputId": "08d04a33-84ff-496a-db80-88ac3a62f245"
      },
      "source": [
        "n_conforme"
      ],
      "execution_count": 16,
      "outputs": [
        {
          "output_type": "execute_result",
          "data": {
            "text/plain": [
              "0.0"
            ]
          },
          "metadata": {
            "tags": []
          },
          "execution_count": 16
        }
      ]
    },
    {
      "cell_type": "markdown",
      "metadata": {
        "id": "G7XpUziGJhFb",
        "colab_type": "text"
      },
      "source": [
        "2.5. Representação Gráfica"
      ]
    },
    {
      "cell_type": "code",
      "metadata": {
        "id": "1_nK1vxyIcAR",
        "colab_type": "code",
        "colab": {
          "base_uri": "https://localhost:8080/",
          "height": 585
        },
        "outputId": "8e132120-fad5-4876-82e7-4b0247fcb692"
      },
      "source": [
        "labels = ['Conforme', 'Não Conforme']\n",
        "sizes = [conforme, n_conforme]\n",
        "\n",
        "colors = ['DeepSkyBlue','#00BFFF']\n",
        " \n",
        "fig2, ax1 = plt.subplots(figsize = (10,8))\n",
        "ax1.pie(sizes, colors = colors, labels=labels, autopct='%1.1f%%', startangle=30)\n",
        "\n",
        "centre_circle = plt.Circle((0,0),0.60,fc='white')\n",
        "fig = plt.gcf()\n",
        "fig.gca().add_artist(centre_circle)\n",
        "\n",
        "plt.title('Conformidade dos dados quanto ao código de modalidade válido', fontsize = 18)\n",
        "\n",
        "ax1.axis('equal')  \n",
        "plt.tight_layout()\n",
        "plt.show()"
      ],
      "execution_count": 17,
      "outputs": [
        {
          "output_type": "display_data",
          "data": {
            "image/png": "[encoded data removed]",
            "text/plain": [
              "<Figure size 720x576 with 1 Axes>"
            ]
          },
          "metadata": {
            "tags": []
          }
        }
      ]
    },
    {
      "cell_type": "markdown",
      "metadata": {
        "id": "Ndnj3JepNgW7",
        "colab_type": "text"
      },
      "source": [
        "## 3. Verificação se o campo DES_TIP_PSS está preenchido dentro do padrão"
      ]
    },
    {
      "cell_type": "markdown",
      "metadata": {
        "id": "ROIlgBxyOBxh",
        "colab_type": "text"
      },
      "source": [
        "3.1. Criação de uma lista para verificação de padrão"
      ]
    },
    {
      "cell_type": "code",
      "metadata": {
        "id": "efGJga5vLhuT",
        "colab_type": "code",
        "colab": {}
      },
      "source": [
        "## Criação de uma lista para verificar existência de registros no padrão F(Pessoa Física)  e J(Pessoa Jurídica)\n",
        "listafjM=['F','J']\n",
        "\n",
        "## Criação de lista para verificação existência de registros fora do padrão f e j ( letras minúsculas)\n",
        "listafjm=['f','j']"
      ],
      "execution_count": 0,
      "outputs": []
    },
    {
      "cell_type": "code",
      "metadata": {
        "id": "UuxNzfhnOYZc",
        "colab_type": "code",
        "colab": {
          "base_uri": "https://localhost:8080/",
          "height": 34
        },
        "outputId": "98111250-fab8-42db-d3d8-e44fccc3c8f8"
      },
      "source": [
        "listafjM, listafjm"
      ],
      "execution_count": 19,
      "outputs": [
        {
          "output_type": "execute_result",
          "data": {
            "text/plain": [
              "(['F', 'J'], ['f', 'j'])"
            ]
          },
          "metadata": {
            "tags": []
          },
          "execution_count": 19
        }
      ]
    },
    {
      "cell_type": "code",
      "metadata": {
        "id": "dPzgWTxtOolh",
        "colab_type": "code",
        "colab": {}
      },
      "source": [
        "## Atribuição a uma variável os números de registros válidos com F e J\n",
        "conffjM =len(df1.loc[df1['DES_TIP_PSS'].isin(listafjM)])\n",
        "\n",
        "## Atribuição a uma variável os números de registros fora do padrão f e j (letras minúsculas) \n",
        "conffjm =len(df1.loc[df1['DES_TIP_PSS'].isin(listafjm)])"
      ],
      "execution_count": 0,
      "outputs": []
    },
    {
      "cell_type": "code",
      "metadata": {
        "id": "bEMgf-qCO9d4",
        "colab_type": "code",
        "colab": {
          "base_uri": "https://localhost:8080/",
          "height": 34
        },
        "outputId": "aeb1ef0e-6027-4373-9caf-65c3a2766399"
      },
      "source": [
        "conffjM , conffjm"
      ],
      "execution_count": 21,
      "outputs": [
        {
          "output_type": "execute_result",
          "data": {
            "text/plain": [
              "(891, 0)"
            ]
          },
          "metadata": {
            "tags": []
          },
          "execution_count": 21
        }
      ]
    },
    {
      "cell_type": "markdown",
      "metadata": {
        "id": "gwrnknnEQMQs",
        "colab_type": "text"
      },
      "source": [
        "3.2 Cálculo de porcentagem de dados conforme e não conforme quanto à Pessoa Física ou Jurídica"
      ]
    },
    {
      "cell_type": "code",
      "metadata": {
        "id": "-3g2d1UkPifp",
        "colab_type": "code",
        "colab": {}
      },
      "source": [
        "FJ = conffjM *100/total\n",
        "fj = conffjm*100/total\n",
        "difFJ = (total-conffjM)*100/total"
      ],
      "execution_count": 0,
      "outputs": []
    },
    {
      "cell_type": "markdown",
      "metadata": {
        "id": "xTZBd8iHQ3Zv",
        "colab_type": "text"
      },
      "source": [
        "3.3 Representação Gráfica"
      ]
    },
    {
      "cell_type": "code",
      "metadata": {
        "id": "874412jTQsvh",
        "colab_type": "code",
        "colab": {
          "base_uri": "https://localhost:8080/",
          "height": 1000
        },
        "outputId": "72530540-dee9-42e8-d5ef-d1fee51aaae0"
      },
      "source": [
        "labels = ['Total de Registros com F ou J', 'Total de Registros fora do padrão']\n",
        "sizes = [FJ, difFJ]\n",
        "\n",
        "colors = ['DeepSkyBlue','#00BFFF']\n",
        " \n",
        "fig2, ax1 = plt.subplots(figsize = (10,8))\n",
        "ax1.pie(sizes, colors = colors, labels=labels, autopct='%1.1f%%', startangle=30)\n",
        "\n",
        "centre_circle = plt.Circle((0,0),0.60,fc='white')\n",
        "fig = plt.gcf()\n",
        "fig.gca().add_artist(centre_circle)\n",
        "\n",
        "plt.title('Conformidade dos dados quanto a identificação de tipo de cliente padronizada', fontsize = 18)\n",
        "\n",
        "ax1.axis('equal')  \n",
        "plt.tight_layout()\n",
        "plt.show()\n",
        "\n",
        "\n",
        "\n",
        "labels = ['Total de Registros com F ou J', 'Total de Registros com f ou j']\n",
        "sizes = [FJ, fj]\n",
        "\n",
        "colors = ['DeepSkyBlue','#00BFFF']\n",
        " \n",
        "fig2, ax1 = plt.subplots(figsize = (10,8))\n",
        "ax1.pie(sizes, colors = colors, labels=labels, autopct='%1.1f%%', startangle=30)\n",
        "\n",
        "centre_circle = plt.Circle((0,0),0.60,fc='white')\n",
        "fig = plt.gcf()\n",
        "fig.gca().add_artist(centre_circle)\n",
        "\n",
        "plt.title('Conformidade dos dados quanto a identificação de tipo de cliente padronizada', fontsize = 18)\n",
        "\n",
        "ax1.axis('equal')  \n",
        "plt.tight_layout()\n",
        "plt.show()"
      ],
      "execution_count": 23,
      "outputs": [
        {
          "output_type": "display_data",
          "data": {
            "image/png": "[encoded data removed]",
            "text/plain": [
              "<Figure size 720x576 with 1 Axes>"
            ]
          },
          "metadata": {
            "tags": []
          }
        },
        {
          "output_type": "display_data",
          "data": {
            "image/png": "[encoded data removed]",
            "text/plain": [
              "<Figure size 720x576 with 1 Axes>"
            ]
          },
          "metadata": {
            "tags": []
          }
        }
      ]
    },
    {
      "cell_type": "markdown",
      "metadata": {
        "id": "iMiJrOfMSwcw",
        "colab_type": "text"
      },
      "source": [
        "## 4. Verificação do campo ID_FNT_ITT da tabela STG_PGT se está de acordo com a tabela STG_FNT_ITT"
      ]
    },
    {
      "cell_type": "markdown",
      "metadata": {
        "id": "mQ5fSz5zTElM",
        "colab_type": "text"
      },
      "source": [
        "4.1. Criação de um dataframe da tabela STG_FNT_ITT, para verificação de fontes válidas"
      ]
    },
    {
      "cell_type": "code",
      "metadata": {
        "id": "CMY0RWUjRGTm",
        "colab_type": "code",
        "colab": {}
      },
      "source": [
        "df3 = pd.read_excel('/content/drive/My Drive/STG_FNT_ITT.xlsx')"
      ],
      "execution_count": 0,
      "outputs": []
    },
    {
      "cell_type": "markdown",
      "metadata": {
        "id": "FFPhMYBUTuMn",
        "colab_type": "text"
      },
      "source": [
        "4.2. Criação de uma lista das fontes existentes"
      ]
    },
    {
      "cell_type": "code",
      "metadata": {
        "id": "aFrtKngWTL7E",
        "colab_type": "code",
        "colab": {}
      },
      "source": [
        "listafontes=[]\n",
        "for i in range (len(df3)):\n",
        "    a= df3.ID_STG_FNT_ITT[i]\n",
        "    listafontes.append(a)"
      ],
      "execution_count": 0,
      "outputs": []
    },
    {
      "cell_type": "markdown",
      "metadata": {
        "id": "4n-hLRpuV1EE",
        "colab_type": "text"
      },
      "source": [
        "4.3. Verficação da tabela STG_PGT contém fontes válidas"
      ]
    },
    {
      "cell_type": "code",
      "metadata": {
        "id": "kcKoE9CsVvRI",
        "colab_type": "code",
        "colab": {}
      },
      "source": [
        "conf_fontes =len(df1.loc[df1['ID_FNT_ITT'].isin(listafontes)])"
      ],
      "execution_count": 0,
      "outputs": []
    },
    {
      "cell_type": "code",
      "metadata": {
        "id": "-jakjlyvV7ty",
        "colab_type": "code",
        "colab": {
          "base_uri": "https://localhost:8080/",
          "height": 34
        },
        "outputId": "6805ae87-4b1e-4673-b638-aabde5ee92d0"
      },
      "source": [
        "conf_fontes"
      ],
      "execution_count": 28,
      "outputs": [
        {
          "output_type": "execute_result",
          "data": {
            "text/plain": [
              "891"
            ]
          },
          "metadata": {
            "tags": []
          },
          "execution_count": 28
        }
      ]
    },
    {
      "cell_type": "markdown",
      "metadata": {
        "id": "Qc9FVzmZWQSM",
        "colab_type": "text"
      },
      "source": [
        "\n",
        "4.4. Verificação de % registros conforme baseado na identificação de fonte válidas"
      ]
    },
    {
      "cell_type": "code",
      "metadata": {
        "id": "SL5ZzioTV-tR",
        "colab_type": "code",
        "colab": {}
      },
      "source": [
        "fontes = conf_fontes *100/total\n",
        "fontesnconf = (total-conf_fontes)*100/total"
      ],
      "execution_count": 0,
      "outputs": []
    },
    {
      "cell_type": "markdown",
      "metadata": {
        "id": "1MSZTopGWdOj",
        "colab_type": "text"
      },
      "source": [
        "4.5. Representação Gráfica"
      ]
    },
    {
      "cell_type": "code",
      "metadata": {
        "id": "Cn16hZd4WaPb",
        "colab_type": "code",
        "colab": {
          "base_uri": "https://localhost:8080/",
          "height": 585
        },
        "outputId": "4bc91a52-3ff5-4277-d0d7-2795a1710714"
      },
      "source": [
        "labels = ['Fonte conforme', 'Fonte não Conforme']\n",
        "sizes = [fontes, fontesnconf]\n",
        "\n",
        "colors = ['DeepSkyBlue','#00BFFF']\n",
        " \n",
        "fig2, ax1 = plt.subplots(figsize = (10,8))\n",
        "ax1.pie(sizes, colors = colors, labels=labels, autopct='%1.1f%%', startangle=30)\n",
        "\n",
        "centre_circle = plt.Circle((0,0),0.60,fc='white')\n",
        "fig = plt.gcf()\n",
        "fig.gca().add_artist(centre_circle)\n",
        "\n",
        "plt.title('Conformidade dos dados quanto ao código da fonte válido', fontsize = 18)\n",
        "\n",
        "ax1.axis('equal')  \n",
        "plt.tight_layout()\n",
        "plt.show()"
      ],
      "execution_count": 30,
      "outputs": [
        {
          "output_type": "display_data",
          "data": {
            "image/png": "[encoded data removed]",
            "text/plain": [
              "<Figure size 720x576 with 1 Axes>"
            ]
          },
          "metadata": {
            "tags": []
          }
        }
      ]
    },
    {
      "cell_type": "markdown",
      "metadata": {
        "id": "nxqj1Cnsiv26",
        "colab_type": "text"
      },
      "source": [
        "## 5. Verificação da relação entre os campos QTD_OPR e QTD_CLI_CAD_POS (quantidade de operações ser maior ou igual a quantidade de clientes)"
      ]
    },
    {
      "cell_type": "markdown",
      "metadata": {
        "id": "YOEAT91njDV2",
        "colab_type": "text"
      },
      "source": [
        "5.1. Verificação da relação padrão entre os campos"
      ]
    },
    {
      "cell_type": "code",
      "metadata": {
        "id": "a8B_-kHSjEZy",
        "colab_type": "code",
        "colab": {}
      },
      "source": [
        "rel_conforme = 0\n",
        "rel_n_conforme = 0\n",
        "for i in range(len(df1)):\n",
        "  if df1.QTD_OPR[i] >= df1.QTD_CLI_CAD_POS[i]:\n",
        "    rel_conforme = rel_conforme +1\n",
        "  else:\n",
        "    rel_n_conforme = rel_n_conforme +1\n",
        "  "
      ],
      "execution_count": 0,
      "outputs": []
    },
    {
      "cell_type": "markdown",
      "metadata": {
        "id": "d8ijA1-NlWGf",
        "colab_type": "text"
      },
      "source": [
        "5.2. Verificação de porcentagem de registros com relações conforme e não conforme"
      ]
    },
    {
      "cell_type": "code",
      "metadata": {
        "id": "prOiXB2rlWiD",
        "colab_type": "code",
        "colab": {}
      },
      "source": [
        "rel_n_conforme = (rel_conforme - total) *100/total\n",
        "rel_conforme = rel_conforme *100/total\n"
      ],
      "execution_count": 0,
      "outputs": []
    },
    {
      "cell_type": "markdown",
      "metadata": {
        "id": "waR2Iq1YkMxE",
        "colab_type": "text"
      },
      "source": [
        "5.3. Representação Gráfica"
      ]
    },
    {
      "cell_type": "code",
      "metadata": {
        "id": "8zGRT7vbkIv4",
        "colab_type": "code",
        "colab": {
          "base_uri": "https://localhost:8080/",
          "height": 585
        },
        "outputId": "6a196f4f-20f2-4e59-8fbf-2c51dc4c05d1"
      },
      "source": [
        "labels = ['Relação conforme', 'Relação não conforme']\n",
        "sizes = [rel_conforme, rel_n_conforme]\n",
        "\n",
        "colors = ['DeepSkyBlue','#00BFFF']\n",
        " \n",
        "fig2, ax1 = plt.subplots(figsize = (10,8))\n",
        "ax1.pie(sizes, colors = colors, labels=labels, autopct='%1.1f%%', startangle=30)\n",
        "\n",
        "centre_circle = plt.Circle((0,0),0.60,fc='white')\n",
        "fig = plt.gcf()\n",
        "fig.gca().add_artist(centre_circle)\n",
        "\n",
        "plt.title('Conformidade da relação entre os campos QTD_OPR e QTD_CLI_CAD_POS', fontsize = 18)\n",
        "\n",
        "ax1.axis('equal')  \n",
        "plt.tight_layout()\n",
        "plt.show()"
      ],
      "execution_count": 45,
      "outputs": [
        {
          "output_type": "display_data",
          "data": {
            "image/png": "[encoded data removed]",
            "text/plain": [
              "<Figure size 720x576 with 1 Axes>"
            ]
          },
          "metadata": {
            "tags": []
          }
        }
      ]
    },
    {
      "cell_type": "markdown",
      "metadata": {
        "id": "zbAt9iN8XjQZ",
        "colab_type": "text"
      },
      "source": [
        "## 6. Alteração de formato dos campos VLR_CTRD_CSC e VLR_SDO_DDR"
      ]
    },
    {
      "cell_type": "markdown",
      "metadata": {
        "id": "CJHwPUJWc314",
        "colab_type": "text"
      },
      "source": [
        "6.1. Alterando formato string para float nos campos VLR_CTRD_CSC e VLR_SDO_DDR"
      ]
    },
    {
      "cell_type": "code",
      "metadata": {
        "id": "Oi11htzFWlAc",
        "colab_type": "code",
        "colab": {}
      },
      "source": [
        "df1.VLR_CTRD_CSC = df1.VLR_CTRD_CSC.astype(float)\n",
        "df1.VLR_SDO_DDR = df1.VLR_SDO_DDR.astype(float)"
      ],
      "execution_count": 0,
      "outputs": []
    },
    {
      "cell_type": "markdown",
      "metadata": {
        "id": "vwDqveamdQJl",
        "colab_type": "text"
      },
      "source": [
        "6.2. Salvando o dataframe alterado em um novo arquivo xlsx"
      ]
    },
    {
      "cell_type": "code",
      "metadata": {
        "id": "aKCbYLG2cLy_",
        "colab_type": "code",
        "colab": {}
      },
      "source": [
        "df1.to_excel(\"STG_OPR_ITT_Novo.xlsx\")"
      ],
      "execution_count": 0,
      "outputs": []
    },
    {
      "cell_type": "code",
      "metadata": {
        "id": "Nj0BiEJpeoyc",
        "colab_type": "code",
        "colab": {}
      },
      "source": [
        ""
      ],
      "execution_count": 0,
      "outputs": []
    }
  ]
}