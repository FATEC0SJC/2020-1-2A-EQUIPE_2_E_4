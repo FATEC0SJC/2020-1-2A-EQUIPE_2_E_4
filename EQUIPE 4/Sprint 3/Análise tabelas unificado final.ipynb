{
 "cells": [
  {
   "cell_type": "markdown",
   "metadata": {
    "colab_type": "text",
    "id": "vSLyebephFWk"
   },
   "source": [
    "## Importação das bibliotecas utilizadas"
   ]
  },
  {
   "cell_type": "code",
   "execution_count": 1,
   "metadata": {
    "colab": {},
    "colab_type": "code",
    "id": "AMT_KwMbhFWk"
   },
   "outputs": [],
   "source": [
    "import xlrd\n",
    "import pandas as pd\n",
    "import numpy as np\n",
    "import matplotlib.pyplot as plt"
   ]
  },
  {
   "cell_type": "markdown",
   "metadata": {
    "colab_type": "text",
    "id": "DaJDFlymhFWu"
   },
   "source": [
    "## Criação dos data frames para importação dos dados de todas as tabelas"
   ]
  },
  {
   "cell_type": "code",
   "execution_count": 2,
   "metadata": {
    "colab": {},
    "colab_type": "code",
    "id": "-AfE8IQGhFWu"
   },
   "outputs": [],
   "source": [
    "df_fnt = pd.read_excel('STG_FNT_ITT.xlsx')\n",
    "df_mdl = pd.read_excel('STG_MDL.xlsx')\n",
    "df_pgt = pd.read_excel('STG_PGT.xlsx')\n",
    "df_opr = pd.read_excel('STG_OPR_ITT.xlsx')\n",
    "df_mvt = pd.read_excel('STG_MVT_CRD.xlsx')"
   ]
  },
  {
   "cell_type": "markdown",
   "metadata": {
    "colab_type": "text",
    "id": "1na-xKv5FJT9"
   },
   "source": [
    "## Criação das Listas para posterior Análise de Integridade"
   ]
  },
  {
   "cell_type": "code",
   "execution_count": 3,
   "metadata": {
    "colab": {},
    "colab_type": "code",
    "id": "ORSnm4UzFYNf"
   },
   "outputs": [],
   "source": [
    "confiab_fnt = []\n",
    "dupl_fnt = []\n",
    "compl_fnt = []\n",
    "dupl_mdl = []\n",
    "compl_pgt = []\n",
    "confor_pgt = []\n",
    "compl_opr = []\n",
    "confor_opr = []\n",
    "compl_mvt = []\n",
    "confor_mvt = []\n",
    "recen_mvt = []\n",
    "recen_opr = []\n",
    "recen_pgt = []"
   ]
  },
  {
   "cell_type": "markdown",
   "metadata": {
    "colab_type": "text",
    "id": "1Hy6ugivhFW4"
   },
   "source": [
    "# Análise do Indicador de Confiabilidade"
   ]
  },
  {
   "cell_type": "markdown",
   "metadata": {
    "colab_type": "text",
    "id": "eX8XS0xBhFW4"
   },
   "source": [
    "## Tabela STG_FNT_ITT"
   ]
  },
  {
   "cell_type": "markdown",
   "metadata": {
    "colab_type": "text",
    "id": "6-JYbtRehFW4"
   },
   "source": [
    "### 1. Verificando CNPJ + Complemento = 14 dígitos e atribuindo os valores em suas respectivas listas."
   ]
  },
  {
   "cell_type": "code",
   "execution_count": 0,
   "metadata": {
    "colab": {},
    "colab_type": "code",
    "id": "H_2g3X6dhFW4"
   },
   "outputs": [],
   "source": [
    "total = []\n",
    "usaveis = []\n",
    "nao_usaveis = []\n",
    "cont = 0\n",
    "for i in range (len(df_fnt)):\n",
    "    coct = len((str(df_fnt.NUM_CNPJ[i])+str(df_fnt.NUM_CMP_CNPJ[i])))\n",
    "    total.append(coct)\n",
    "    if (coct) >= 8 and (coct) <= 14:\n",
    "        usaveis.append(coct)\n",
    "    else:\n",
    "        cont += 1\n",
    "        nao_usaveis.append(cont)\n",
    "        df_fnt.drop(i)\n",
    "a = (len(total)-len(nao_usaveis))*(100/len(total))\n",
    "confiab_fnt.append(a)"
   ]
  },
  {
   "cell_type": "markdown",
   "metadata": {
    "colab_type": "text",
    "id": "XScinbnWhFXC"
   },
   "source": [
    "### 2. Checando o tamanho das listas"
   ]
  },
  {
   "cell_type": "code",
   "execution_count": 96,
   "metadata": {
    "colab": {
     "base_uri": "https://localhost:8080/",
     "height": 34
    },
    "colab_type": "code",
    "executionInfo": {
     "elapsed": 7528,
     "status": "ok",
     "timestamp": 1590428821487,
     "user": {
      "displayName": "Fabricio cursino",
      "photoUrl": "https://lh3.googleusercontent.com/a-/AOh14GhnG-nqrNPPCFN9H00g-mfMpGHWYvF1j7hSO55-Tw=s64",
      "userId": "10988524738909547427"
     },
     "user_tz": 180
    },
    "id": "dJELbBfjhFXC",
    "outputId": "3a344c8c-c482-4c4d-c014-c2ee3352cb21"
   },
   "outputs": [
    {
     "data": {
      "text/plain": [
       "(650, 358, 1008)"
      ]
     },
     "execution_count": 96,
     "metadata": {
      "tags": []
     },
     "output_type": "execute_result"
    }
   ],
   "source": [
    "\n",
    "len(usaveis), len(nao_usaveis), len(total)"
   ]
  },
  {
   "cell_type": "markdown",
   "metadata": {
    "colab_type": "text",
    "id": "qYJW1SUehFXC"
   },
   "source": [
    "### 3. Representação Gráfica"
   ]
  },
  {
   "cell_type": "code",
   "execution_count": 97,
   "metadata": {
    "colab": {
     "base_uri": "https://localhost:8080/",
     "height": 306
    },
    "colab_type": "code",
    "executionInfo": {
     "elapsed": 7468,
     "status": "ok",
     "timestamp": 1590428821489,
     "user": {
      "displayName": "Fabricio cursino",
      "photoUrl": "https://lh3.googleusercontent.com/a-/AOh14GhnG-nqrNPPCFN9H00g-mfMpGHWYvF1j7hSO55-Tw=s64",
      "userId": "10988524738909547427"
     },
     "user_tz": 180
    },
    "id": "y1OeYt_yhFXC",
    "outputId": "ec65b962-7815-4f93-d243-6c5a0180e3a1"
   },
   "outputs": [
    {
     "data": {
      "image/png": "[encoded data removed]",
      "text/plain": [
       "<Figure size 432x288 with 1 Axes>"
      ]
     },
     "metadata": {
      "needs_background": "light",
      "tags": []
     },
     "output_type": "display_data"
    }
   ],
   "source": [
    "Registros=['Total de dados', 'Dados usáveis', 'Dados não usáveis']\n",
    "Valores=[len(total), len(usaveis), len(nao_usaveis)]\n",
    "\n",
    "barlist=plt.bar(Registros,[len(total), len(usaveis), len(nao_usaveis)])\n",
    "barlist[0].set_color('#FF8C00')\n",
    "barlist[1].set_color('#3CB371')\n",
    "barlist[2].set_color('#FF0000')\n",
    "\n",
    "plt.xticks(Registros, fontsize=12)\n",
    "plt.ylabel('Quantidade de Registros',fontsize=12)\n",
    "plt.xlabel('Dados',fontsize=14)\n",
    "plt.title('Verficação de registros em confiabilidade',fontsize=18)\n",
    "\n",
    "plt.show()"
   ]
  },
  {
   "cell_type": "markdown",
   "metadata": {
    "colab_type": "text",
    "id": "X-C-Gqd0hFXM"
   },
   "source": [
    "# Análise do Indicador de Duplicidade"
   ]
  },
  {
   "cell_type": "markdown",
   "metadata": {
    "colab_type": "text",
    "id": "4VaE1DfOhFXM"
   },
   "source": [
    "## Tabela STG_FNT_ITT"
   ]
  },
  {
   "cell_type": "markdown",
   "metadata": {
    "colab_type": "text",
    "id": "VIE9kGU7hFXM"
   },
   "source": [
    "### 1. Criação de uma coluna no dataframe"
   ]
  },
  {
   "cell_type": "code",
   "execution_count": 0,
   "metadata": {
    "colab": {},
    "colab_type": "code",
    "id": "QqMrWrVkhFXM"
   },
   "outputs": [],
   "source": [
    "df_fnt['Ver']=''"
   ]
  },
  {
   "cell_type": "markdown",
   "metadata": {
    "colab_type": "text",
    "id": "buf6lzmvhFXV"
   },
   "source": [
    "### 2. Concatenação das colunas NUM_CNPJ e NUM_CMP_CNPJ e inclusão na coluna Ver"
   ]
  },
  {
   "cell_type": "code",
   "execution_count": 185,
   "metadata": {
    "colab": {
     "base_uri": "https://localhost:8080/",
     "height": 34
    },
    "colab_type": "code",
    "executionInfo": {
     "elapsed": 2032,
     "status": "ok",
     "timestamp": 1590429874205,
     "user": {
      "displayName": "Fabricio cursino",
      "photoUrl": "https://lh3.googleusercontent.com/a-/AOh14GhnG-nqrNPPCFN9H00g-mfMpGHWYvF1j7hSO55-Tw=s64",
      "userId": "10988524738909547427"
     },
     "user_tz": 180
    },
    "id": "dGNwyToShFXV",
    "outputId": "8b270f8d-4ed7-4b39-e06e-ef9b257de6b7"
   },
   "outputs": [
    {
     "data": {
      "text/plain": [
       "0"
      ]
     },
     "execution_count": 185,
     "metadata": {
      "tags": []
     },
     "output_type": "execute_result"
    }
   ],
   "source": [
    "total_dupl = []\n",
    "usaveis_dupl = []\n",
    "nao_usaveis_dupl = []\n",
    "for i in range (len(df_fnt)):\n",
    "    df_fnt.loc[i,'Ver']= (str(df_fnt.NUM_CNPJ[i])+str(df_fnt.NUM_CMP_CNPJ[i]))\n",
    "len(usaveis_dupl)"
   ]
  },
  {
   "cell_type": "markdown",
   "metadata": {
    "colab_type": "text",
    "id": "lYC3ify_hFXV"
   },
   "source": [
    "### 3. Análise da duplicidade"
   ]
  },
  {
   "cell_type": "code",
   "execution_count": 178,
   "metadata": {
    "colab": {
     "base_uri": "https://localhost:8080/",
     "height": 221
    },
    "colab_type": "code",
    "executionInfo": {
     "elapsed": 657,
     "status": "ok",
     "timestamp": 1590429747746,
     "user": {
      "displayName": "Fabricio cursino",
      "photoUrl": "https://lh3.googleusercontent.com/a-/AOh14GhnG-nqrNPPCFN9H00g-mfMpGHWYvF1j7hSO55-Tw=s64",
      "userId": "10988524738909547427"
     },
     "user_tz": 180
    },
    "id": "VQ1oKO-1hFXV",
    "outputId": "251b83a6-9388-448f-beee-b819af440acc"
   },
   "outputs": [
    {
     "name": "stdout",
     "output_type": "stream",
     "text": [
      "0          24278840872805\n",
      "1         121826744872635\n",
      "2         161673281681802\n",
      "3           2799259782329\n",
      "4         205790368602397\n",
      "              ...        \n",
      "1003      119010465881972\n",
      "1004     1776560336413056\n",
      "1005    17765603364165138\n",
      "1006    17765603364238697\n",
      "1007    17765603364250206\n",
      "Name: Ver, Length: 1008, dtype: object\n"
     ]
    }
   ],
   "source": [
    "## Exibe o primeiro registro, descartando os duplicados.\n",
    "print(df_fnt['Ver'].drop_duplicates())"
   ]
  },
  {
   "cell_type": "code",
   "execution_count": 187,
   "metadata": {
    "colab": {
     "base_uri": "https://localhost:8080/",
     "height": 221
    },
    "colab_type": "code",
    "executionInfo": {
     "elapsed": 812,
     "status": "ok",
     "timestamp": 1590430306665,
     "user": {
      "displayName": "Fabricio cursino",
      "photoUrl": "https://lh3.googleusercontent.com/a-/AOh14GhnG-nqrNPPCFN9H00g-mfMpGHWYvF1j7hSO55-Tw=s64",
      "userId": "10988524738909547427"
     },
     "user_tz": 180
    },
    "id": "yicvyBg2hFXg",
    "outputId": "475a9387-4dca-4bdd-fcab-35e1fa4ab3f1"
   },
   "outputs": [
    {
     "data": {
      "text/plain": [
       "0          24278840872805\n",
       "1         121826744872635\n",
       "2         161673281681802\n",
       "3           2799259782329\n",
       "4         205790368602397\n",
       "              ...        \n",
       "1003      119010465881972\n",
       "1004     1776560336413056\n",
       "1005    17765603364165138\n",
       "1006    17765603364238697\n",
       "1007    17765603364250206\n",
       "Name: Ver, Length: 1008, dtype: object"
      ]
     },
     "execution_count": 187,
     "metadata": {
      "tags": []
     },
     "output_type": "execute_result"
    }
   ],
   "source": [
    "Ndupl=(df_fnt['Ver'].drop_duplicates())"
   ]
  },
  {
   "cell_type": "markdown",
   "metadata": {
    "colab_type": "text",
    "id": "0ji3gL4QhFXg"
   },
   "source": [
    "### 4. Verficação de quantidade registros não duplicados"
   ]
  },
  {
   "cell_type": "code",
   "execution_count": 186,
   "metadata": {
    "colab": {
     "base_uri": "https://localhost:8080/",
     "height": 34
    },
    "colab_type": "code",
    "executionInfo": {
     "elapsed": 1395,
     "status": "ok",
     "timestamp": 1590430239695,
     "user": {
      "displayName": "Fabricio cursino",
      "photoUrl": "https://lh3.googleusercontent.com/a-/AOh14GhnG-nqrNPPCFN9H00g-mfMpGHWYvF1j7hSO55-Tw=s64",
      "userId": "10988524738909547427"
     },
     "user_tz": 180
    },
    "id": "tqgwEB2whFXg",
    "outputId": "9a33d5c9-4da7-485f-bb11-49f2e3132f6c"
   },
   "outputs": [
    {
     "data": {
      "text/plain": [
       "1008"
      ]
     },
     "execution_count": 186,
     "metadata": {
      "tags": []
     },
     "output_type": "execute_result"
    }
   ],
   "source": [
    "nd=len(Ndupl)"
   ]
  },
  {
   "cell_type": "markdown",
   "metadata": {
    "colab_type": "text",
    "id": "hxCK-824hFXq"
   },
   "source": [
    "### 5. Verficação de quantidade de registros total do dataframe"
   ]
  },
  {
   "cell_type": "code",
   "execution_count": 0,
   "metadata": {
    "colab": {},
    "colab_type": "code",
    "id": "CMJadnkDhFXq"
   },
   "outputs": [],
   "source": [
    "total= len(df_fnt)"
   ]
  },
  {
   "cell_type": "markdown",
   "metadata": {
    "colab_type": "text",
    "id": "KJk_KqNUhFXq"
   },
   "source": [
    "### 6. Verificação de quantidade de registros duplicados."
   ]
  },
  {
   "cell_type": "code",
   "execution_count": 104,
   "metadata": {
    "colab": {
     "base_uri": "https://localhost:8080/",
     "height": 34
    },
    "colab_type": "code",
    "executionInfo": {
     "elapsed": 8423,
     "status": "ok",
     "timestamp": 1590428822804,
     "user": {
      "displayName": "Fabricio cursino",
      "photoUrl": "https://lh3.googleusercontent.com/a-/AOh14GhnG-nqrNPPCFN9H00g-mfMpGHWYvF1j7hSO55-Tw=s64",
      "userId": "10988524738909547427"
     },
     "user_tz": 180
    },
    "id": "6wM_0HCzhFXq",
    "outputId": "b68888bd-60e6-4531-8bfa-b024bd74e05f"
   },
   "outputs": [
    {
     "data": {
      "text/plain": [
       "(1008, 1008, 0)"
      ]
     },
     "execution_count": 104,
     "metadata": {
      "tags": []
     },
     "output_type": "execute_result"
    }
   ],
   "source": [
    "dupl = total-nd\n",
    "dupl_fnt.append(nd*(100/total))\n",
    "total, nd, dupl"
   ]
  },
  {
   "cell_type": "markdown",
   "metadata": {
    "colab_type": "text",
    "id": "S_DUSPwWhFX0"
   },
   "source": [
    "### 7. Representação gráfica"
   ]
  },
  {
   "cell_type": "code",
   "execution_count": 105,
   "metadata": {
    "colab": {
     "base_uri": "https://localhost:8080/",
     "height": 306
    },
    "colab_type": "code",
    "executionInfo": {
     "elapsed": 8326,
     "status": "ok",
     "timestamp": 1590428822805,
     "user": {
      "displayName": "Fabricio cursino",
      "photoUrl": "https://lh3.googleusercontent.com/a-/AOh14GhnG-nqrNPPCFN9H00g-mfMpGHWYvF1j7hSO55-Tw=s64",
      "userId": "10988524738909547427"
     },
     "user_tz": 180
    },
    "id": "hEvcC3TDhFX0",
    "outputId": "b5905b28-c1f8-45af-f7f4-b49c464b32b6"
   },
   "outputs": [
    {
     "data": {
      "image/png": "[encoded data removed]",
      "text/plain": [
       "<Figure size 432x288 with 1 Axes>"
      ]
     },
     "metadata": {
      "needs_background": "light",
      "tags": []
     },
     "output_type": "display_data"
    }
   ],
   "source": [
    "Registros=['Total', 'Não duplicados', 'Duplicados']\n",
    "Valores=[total,nd,dupl]\n",
    "\n",
    "barlist=plt.bar(Registros,[total,nd,dupl])\n",
    "barlist[0].set_color('#FF8C00')\n",
    "barlist[1].set_color('#3CB371')\n",
    "barlist[2].set_color('#FF0000')\n",
    "\n",
    "plt.xticks(Registros, fontsize=12)\n",
    "plt.ylabel('Quantidade de Registros',fontsize=12)\n",
    "plt.xlabel('Dados',fontsize=14)\n",
    "plt.title('Verficação de registros em duplicidade',fontsize=18)\n",
    "\n",
    "plt.show()"
   ]
  },
  {
   "cell_type": "markdown",
   "metadata": {
    "colab_type": "text",
    "id": "maejN9H_hFX0"
   },
   "source": [
    "## Tabela STG_MDL"
   ]
  },
  {
   "cell_type": "markdown",
   "metadata": {
    "colab_type": "text",
    "id": "qAZukrXwhFX9"
   },
   "source": [
    "### 1. Análise da duplicidade"
   ]
  },
  {
   "cell_type": "code",
   "execution_count": 106,
   "metadata": {
    "colab": {
     "base_uri": "https://localhost:8080/",
     "height": 357
    },
    "colab_type": "code",
    "executionInfo": {
     "elapsed": 8179,
     "status": "ok",
     "timestamp": 1590428822805,
     "user": {
      "displayName": "Fabricio cursino",
      "photoUrl": "https://lh3.googleusercontent.com/a-/AOh14GhnG-nqrNPPCFN9H00g-mfMpGHWYvF1j7hSO55-Tw=s64",
      "userId": "10988524738909547427"
     },
     "user_tz": 180
    },
    "id": "Em2zL96DhFX9",
    "outputId": "7be24903-70cd-409f-d5f0-116224a901a0"
   },
   "outputs": [
    {
     "name": "stdout",
     "output_type": "stream",
     "text": [
      "0     False\n",
      "1     False\n",
      "2     False\n",
      "3     False\n",
      "4     False\n",
      "5     False\n",
      "6     False\n",
      "7     False\n",
      "8     False\n",
      "9     False\n",
      "10    False\n",
      "11    False\n",
      "12    False\n",
      "13    False\n",
      "14    False\n",
      "15    False\n",
      "16    False\n",
      "17    False\n",
      "18    False\n",
      "Name: DES_MDL, dtype: bool\n"
     ]
    }
   ],
   "source": [
    "print(any(df_mdl['COD_MDL'].duplicated()) or (df_mdl['DES_MDL'].duplicated() ))"
   ]
  },
  {
   "cell_type": "markdown",
   "metadata": {
    "colab_type": "text",
    "id": "0rusEz5chFX9"
   },
   "source": [
    "### 1. Verificação da quantidade de registros no dataframe"
   ]
  },
  {
   "cell_type": "code",
   "execution_count": 0,
   "metadata": {
    "colab": {},
    "colab_type": "code",
    "id": "-27FJqg7hFX9"
   },
   "outputs": [],
   "source": [
    "total=len(df_mdl)"
   ]
  },
  {
   "cell_type": "markdown",
   "metadata": {
    "colab_type": "text",
    "id": "fNi1M1rOhFYI"
   },
   "source": [
    "### 2. Criação de um novo dataframe com os dados não duplicados"
   ]
  },
  {
   "cell_type": "code",
   "execution_count": 108,
   "metadata": {
    "colab": {
     "base_uri": "https://localhost:8080/",
     "height": 357
    },
    "colab_type": "code",
    "executionInfo": {
     "elapsed": 8065,
     "status": "ok",
     "timestamp": 1590428822807,
     "user": {
      "displayName": "Fabricio cursino",
      "photoUrl": "https://lh3.googleusercontent.com/a-/AOh14GhnG-nqrNPPCFN9H00g-mfMpGHWYvF1j7hSO55-Tw=s64",
      "userId": "10988524738909547427"
     },
     "user_tz": 180
    },
    "id": "PgyLf8U8hFYI",
    "outputId": "e359028f-7b6c-484c-a382-5069eb3d7863"
   },
   "outputs": [
    {
     "data": {
      "text/plain": [
       "0                         ADIANTAMENTO DEPOSITANTE\n",
       "1                            OUTROS FINANCIAMENTOS\n",
       "2                                CARTAO DE CREDITO\n",
       "3                              TITULOS DESCONTADOS\n",
       "4                     EMPRESTIMO - CAPITAL DE GIRO\n",
       "5                     EMPRESTIMO - CREDITO PESSOAL\n",
       "6                CHEQUE ESPECIAL E CONTA GARANTIDA\n",
       "7                 FINANCIAMENTO - IMOBILIARIOS SFH\n",
       "8         FINANCIAMENTO - IMPORTACAO  E EXPORTACAO\n",
       "9                        EMPRESTIMO - MICROCREDITO\n",
       "10                    FINANCIAMENTO - MICROCREDITO\n",
       "11                   FINANCIAMENTO - ARREENDAMENTO\n",
       "12                       AVAIS E FIANCASA HONRADOS\n",
       "13            FINANCIAMENTO - IMOBILIARIO (OUTROS)\n",
       "14                                       CONSORCIO\n",
       "15                         EMPRESTIMO - CONSIGNADO\n",
       "16    FINANCIAMENTO - AQUISICAO DE BENS (VEICULOS)\n",
       "17                              OUTROS EMPRESTIMOS\n",
       "18          FINANCIAMENTO - RURAL E AGROINDUSTRIAL\n",
       "Name: DES_MDL, dtype: object"
      ]
     },
     "execution_count": 108,
     "metadata": {
      "tags": []
     },
     "output_type": "execute_result"
    }
   ],
   "source": [
    "Ndupl=(df_mdl['DES_MDL'].drop_duplicates())\n",
    "Ndupl"
   ]
  },
  {
   "cell_type": "code",
   "execution_count": 109,
   "metadata": {
    "colab": {
     "base_uri": "https://localhost:8080/",
     "height": 34
    },
    "colab_type": "code",
    "executionInfo": {
     "elapsed": 8035,
     "status": "ok",
     "timestamp": 1590428822808,
     "user": {
      "displayName": "Fabricio cursino",
      "photoUrl": "https://lh3.googleusercontent.com/a-/AOh14GhnG-nqrNPPCFN9H00g-mfMpGHWYvF1j7hSO55-Tw=s64",
      "userId": "10988524738909547427"
     },
     "user_tz": 180
    },
    "id": "e2Z3TUI_hFYI",
    "outputId": "9ce202f7-1d79-41f8-ab1a-c9a3f240894c"
   },
   "outputs": [
    {
     "data": {
      "text/plain": [
       "19"
      ]
     },
     "execution_count": 109,
     "metadata": {
      "tags": []
     },
     "output_type": "execute_result"
    }
   ],
   "source": [
    "nd=len(Ndupl)\n",
    "nd"
   ]
  },
  {
   "cell_type": "markdown",
   "metadata": {
    "colab_type": "text",
    "id": "daH-PlIAhFYI"
   },
   "source": [
    "### 3. Verificação de registros duplicados"
   ]
  },
  {
   "cell_type": "code",
   "execution_count": 110,
   "metadata": {
    "colab": {
     "base_uri": "https://localhost:8080/",
     "height": 34
    },
    "colab_type": "code",
    "executionInfo": {
     "elapsed": 7989,
     "status": "ok",
     "timestamp": 1590428822808,
     "user": {
      "displayName": "Fabricio cursino",
      "photoUrl": "https://lh3.googleusercontent.com/a-/AOh14GhnG-nqrNPPCFN9H00g-mfMpGHWYvF1j7hSO55-Tw=s64",
      "userId": "10988524738909547427"
     },
     "user_tz": 180
    },
    "id": "OtAF1FpDhFYI",
    "outputId": "b77be450-2910-4863-b5b3-bd15f2762db2"
   },
   "outputs": [
    {
     "data": {
      "text/plain": [
       "0"
      ]
     },
     "execution_count": 110,
     "metadata": {
      "tags": []
     },
     "output_type": "execute_result"
    }
   ],
   "source": [
    "dupl = total - nd\n",
    "dupl_mdl.append(nd*(100/total))\n",
    "dupl"
   ]
  },
  {
   "cell_type": "markdown",
   "metadata": {
    "colab_type": "text",
    "id": "6jaUoLethFYS"
   },
   "source": [
    "### 4. Representação gráfica"
   ]
  },
  {
   "cell_type": "code",
   "execution_count": 111,
   "metadata": {
    "colab": {
     "base_uri": "https://localhost:8080/",
     "height": 306
    },
    "colab_type": "code",
    "executionInfo": {
     "elapsed": 7940,
     "status": "ok",
     "timestamp": 1590428822809,
     "user": {
      "displayName": "Fabricio cursino",
      "photoUrl": "https://lh3.googleusercontent.com/a-/AOh14GhnG-nqrNPPCFN9H00g-mfMpGHWYvF1j7hSO55-Tw=s64",
      "userId": "10988524738909547427"
     },
     "user_tz": 180
    },
    "id": "_KHzCno7hFYS",
    "outputId": "578ff353-fc8f-4036-a93b-55e96acb72fc"
   },
   "outputs": [
    {
     "data": {
      "image/png": "[encoded data removed]",
      "text/plain": [
       "<Figure size 432x288 with 1 Axes>"
      ]
     },
     "metadata": {
      "needs_background": "light",
      "tags": []
     },
     "output_type": "display_data"
    }
   ],
   "source": [
    "Registros=['Total', 'Não duplicados', 'Duplicados']\n",
    "Valores=[total,nd,dupl]\n",
    "\n",
    "barlist=plt.bar(Registros,[total,nd,dupl])\n",
    "barlist[0].set_color('#FF8C00')\n",
    "barlist[1].set_color('#3CB371')\n",
    "barlist[2].set_color('#FF0000')\n",
    "\n",
    "plt.xticks(Registros, fontsize=12)\n",
    "plt.ylabel('Quantidade de Registros',fontsize=12)\n",
    "plt.xlabel('Dados',fontsize=14)\n",
    "plt.title('Verficação de registros em duplicidade',fontsize=18)\n",
    "\n",
    "plt.show()"
   ]
  },
  {
   "cell_type": "markdown",
   "metadata": {
    "colab_type": "text",
    "id": "rjgHsmyChFYS"
   },
   "source": [
    "# Análise do Indicador de Completude"
   ]
  },
  {
   "cell_type": "markdown",
   "metadata": {
    "colab_type": "text",
    "id": "d9VE6uszhFYS"
   },
   "source": [
    "## Tabela STG_PGT"
   ]
  },
  {
   "cell_type": "markdown",
   "metadata": {
    "colab_type": "text",
    "id": "hIRF40r0hFYS"
   },
   "source": [
    "### 1. Verificando completude das colunas"
   ]
  },
  {
   "cell_type": "code",
   "execution_count": 112,
   "metadata": {
    "colab": {
     "base_uri": "https://localhost:8080/",
     "height": 34
    },
    "colab_type": "code",
    "executionInfo": {
     "elapsed": 101734,
     "status": "ok",
     "timestamp": 1590428916684,
     "user": {
      "displayName": "Fabricio cursino",
      "photoUrl": "https://lh3.googleusercontent.com/a-/AOh14GhnG-nqrNPPCFN9H00g-mfMpGHWYvF1j7hSO55-Tw=s64",
      "userId": "10988524738909547427"
     },
     "user_tz": 180
    },
    "id": "wyyndBTXhFYc",
    "outputId": "841897ec-6715-4c2e-de78-045e116fd8d7"
   },
   "outputs": [
    {
     "data": {
      "text/plain": [
       "(15446, 0)"
      ]
     },
     "execution_count": 112,
     "metadata": {
      "tags": []
     },
     "output_type": "execute_result"
    }
   ],
   "source": [
    "cont1, cont2, cont3, cont4, cont5, cont6, cont7, cont8, cont9 = 0, 0, 0, 0, 0, 0, 0, 0, 0\n",
    "total = len(df_pgt)\n",
    "for i in range (len(df_pgt)):\n",
    "    if (str(df_pgt.VLR_PGT_FAT) == ''):\n",
    "        cont1 += 1\n",
    "    if (str(df_pgt.DAT_VCT) == ''):\n",
    "        cont2 += 1\n",
    "    if (str(df_pgt.COD_MDL) == ''):\n",
    "        cont3 += 1\n",
    "    if (str(df_pgt.QTD_CLI_CAD_POS) == ''):\n",
    "        cont4 += 1\n",
    "    if (str(df_pgt.QTD_PGT) == ''):\n",
    "        cont5 += 1\n",
    "    if (str(df_pgt.ID_FNT_ITT) == ''):\n",
    "        cont6 += 1\n",
    "    if (str(df_pgt.DES_TIP_PSS) == ''):\n",
    "        cont7 += 1\n",
    "    if (str(df_pgt.DAT_RSS_FNT_ITT) == ''):\n",
    "        cont8 += 1\n",
    "    if (str(df_pgt.DAT_INC_DBO) == ''):\n",
    "        cont9 += 1\n",
    "nulos = cont1 + cont2 + cont3 + cont4 + cont5 + cont6 + cont7 + cont8 + cont9\n",
    "compl_pgt.append((total-nulos)*(100/total))\n",
    "\n",
    "total, nulos"
   ]
  },
  {
   "cell_type": "markdown",
   "metadata": {
    "colab_type": "text",
    "id": "nILbwS96hFYc"
   },
   "source": [
    "### 2. Representação gráfica"
   ]
  },
  {
   "cell_type": "code",
   "execution_count": 113,
   "metadata": {
    "colab": {
     "base_uri": "https://localhost:8080/",
     "height": 306
    },
    "colab_type": "code",
    "executionInfo": {
     "elapsed": 101683,
     "status": "ok",
     "timestamp": 1590428916685,
     "user": {
      "displayName": "Fabricio cursino",
      "photoUrl": "https://lh3.googleusercontent.com/a-/AOh14GhnG-nqrNPPCFN9H00g-mfMpGHWYvF1j7hSO55-Tw=s64",
      "userId": "10988524738909547427"
     },
     "user_tz": 180
    },
    "id": "9m2-z7LrhFYc",
    "outputId": "0701c606-266d-4776-b4d9-a64c66817c02"
   },
   "outputs": [
    {
     "data": {
      "image/png": "[encoded data removed]",
      "text/plain": [
       "<Figure size 432x288 with 1 Axes>"
      ]
     },
     "metadata": {
      "needs_background": "light",
      "tags": []
     },
     "output_type": "display_data"
    }
   ],
   "source": [
    "dados = ['Total', 'Nulos']\n",
    "valores = [total, nulos]\n",
    "\n",
    "barlist = plt.bar(dados,[total,nulos])\n",
    "barlist[0].set_color('#FF8C00')\n",
    "barlist[1].set_color('#FF0000')\n",
    "\n",
    "plt.xticks(dados, fontsize=12)\n",
    "plt.ylabel('Quantidade', fontsize=12)\n",
    "plt.xlabel('Dados', fontsize=14)\n",
    "plt.title('Completude dos dados', fontsize=18)\n",
    "\n",
    "plt.show()"
   ]
  },
  {
   "cell_type": "markdown",
   "metadata": {
    "colab_type": "text",
    "id": "exHkrIF_hFYc"
   },
   "source": [
    "## Tabela STG_OPR_ITT"
   ]
  },
  {
   "cell_type": "markdown",
   "metadata": {
    "colab_type": "text",
    "id": "x8NBtbFHhFYm"
   },
   "source": [
    "### 1. Verificando completude das colunas"
   ]
  },
  {
   "cell_type": "code",
   "execution_count": 114,
   "metadata": {
    "colab": {
     "base_uri": "https://localhost:8080/",
     "height": 34
    },
    "colab_type": "code",
    "executionInfo": {
     "elapsed": 106546,
     "status": "ok",
     "timestamp": 1590428921602,
     "user": {
      "displayName": "Fabricio cursino",
      "photoUrl": "https://lh3.googleusercontent.com/a-/AOh14GhnG-nqrNPPCFN9H00g-mfMpGHWYvF1j7hSO55-Tw=s64",
      "userId": "10988524738909547427"
     },
     "user_tz": 180
    },
    "id": "MBJTu-jMhFYm",
    "outputId": "ec197070-9c8a-4658-d93d-f3e9d7e39e26"
   },
   "outputs": [
    {
     "data": {
      "text/plain": [
       "(891, 0)"
      ]
     },
     "execution_count": 114,
     "metadata": {
      "tags": []
     },
     "output_type": "execute_result"
    }
   ],
   "source": [
    "total = len(df_opr)\n",
    "cont1, cont2, cont3, cont4, cont5, cont6, cont7, cont8, cont9 = 0, 0, 0, 0, 0, 0, 0, 0, 0\n",
    "for i in range (len(df_opr)):\n",
    "    if (str(df_opr.ID_MDL[i]) == 'C01' and str(df_opr.VLR_CTRD_CSC) == ''):\n",
    "        cont1 += 1\n",
    "    if (str(df_opr.ID_MDL[i]) == 'C01' and str(df_opr.VLR_SDO_DDR) == ''):\n",
    "        cont2 += 1\n",
    "    if (str(df_opr.QTD_PCL) == ''):\n",
    "        cont3 += 1\n",
    "    if (str(df_opr.QTD_CLI_CAD_POS) == ''):\n",
    "        cont4 += 1\n",
    "    if (str(df_opr.QTD_OPR) == ''):\n",
    "        cont5 += 1\n",
    "    if (str(df_opr.ID_FNT_ITT) == ''):\n",
    "        cont6 += 1\n",
    "    if (str(df_opr.ID_MDL) == ''):\n",
    "        cont7 += 1\n",
    "    if (str(df_opr.DES_TIP_PSS) == ''):\n",
    "        cont8 += 1\n",
    "    if (str(df_opr.DAT_INC_DBO) == ''):\n",
    "        cont9 += 1\n",
    "\n",
    "nulos = cont1 + cont2 + cont3 + cont4 + cont5 + cont6 + cont7 + cont8 + cont9\n",
    "compl_opr.append((total-nulos)*(100/total))\n",
    "\n",
    "total, nulos"
   ]
  },
  {
   "cell_type": "markdown",
   "metadata": {
    "colab_type": "text",
    "id": "S-CKVTjEhFYm"
   },
   "source": [
    "### 2. Representação gráfica"
   ]
  },
  {
   "cell_type": "code",
   "execution_count": 115,
   "metadata": {
    "colab": {
     "base_uri": "https://localhost:8080/",
     "height": 306
    },
    "colab_type": "code",
    "executionInfo": {
     "elapsed": 106526,
     "status": "ok",
     "timestamp": 1590428921604,
     "user": {
      "displayName": "Fabricio cursino",
      "photoUrl": "https://lh3.googleusercontent.com/a-/AOh14GhnG-nqrNPPCFN9H00g-mfMpGHWYvF1j7hSO55-Tw=s64",
      "userId": "10988524738909547427"
     },
     "user_tz": 180
    },
    "id": "lVohIXCBhFYm",
    "outputId": "8fa20963-be5b-4a1b-8e2d-4da13ddd3033"
   },
   "outputs": [
    {
     "data": {
      "image/png": "[encoded data removed]",
      "text/plain": [
       "<Figure size 432x288 with 1 Axes>"
      ]
     },
     "metadata": {
      "needs_background": "light",
      "tags": []
     },
     "output_type": "display_data"
    }
   ],
   "source": [
    "dados = ['Total', 'Nulos']\n",
    "valores = [total, nulos]\n",
    "\n",
    "barlist = plt.bar(dados,[total,nulos])\n",
    "barlist[0].set_color('#FF8C00')\n",
    "barlist[1].set_color('#FF0000')\n",
    "\n",
    "plt.xticks(dados, fontsize=12)\n",
    "plt.ylabel('Quantidade', fontsize=12)\n",
    "plt.xlabel('Dados', fontsize=14)\n",
    "plt.title('Completude dos dados', fontsize=18)\n",
    "\n",
    "plt.show()"
   ]
  },
  {
   "cell_type": "markdown",
   "metadata": {
    "colab_type": "text",
    "id": "LVWeibKbhFYw"
   },
   "source": [
    "## Tabela STG_MVT_CRD"
   ]
  },
  {
   "cell_type": "markdown",
   "metadata": {
    "colab_type": "text",
    "id": "HbPPNeCdhFYw"
   },
   "source": [
    "### 1. Verificando completude das colunas"
   ]
  },
  {
   "cell_type": "code",
   "execution_count": 116,
   "metadata": {
    "colab": {
     "base_uri": "https://localhost:8080/",
     "height": 34
    },
    "colab_type": "code",
    "executionInfo": {
     "elapsed": 106496,
     "status": "ok",
     "timestamp": 1590428921605,
     "user": {
      "displayName": "Fabricio cursino",
      "photoUrl": "https://lh3.googleusercontent.com/a-/AOh14GhnG-nqrNPPCFN9H00g-mfMpGHWYvF1j7hSO55-Tw=s64",
      "userId": "10988524738909547427"
     },
     "user_tz": 180
    },
    "id": "jggJm8aphFYw",
    "outputId": "c6250078-e9a0-4c9a-eaf8-9c69aff64d64"
   },
   "outputs": [
    {
     "data": {
      "text/plain": [
       "(15, 0)"
      ]
     },
     "execution_count": 116,
     "metadata": {
      "tags": []
     },
     "output_type": "execute_result"
    }
   ],
   "source": [
    "total = len(df_mvt)\n",
    "cont1, cont2, cont3, cont4 = 0, 0, 0, 0\n",
    "for i in range (len(df_mvt)):\n",
    "    if (str(df_mvt.COD_MDL[i]) == 'E01' and str(df_mvt.VLR_SDO_UTZ_CRD_RTO) == ''):\n",
    "        cont1 += 1\n",
    "    if (str(df_mvt.COD_MDL[i]) == 'D01' and str(df_mvt.VLR_TOT_FAT) == ''):\n",
    "        cont2 += 1\n",
    "    if (str(df_mvt.COD_MDL[i]) == 'D01' and str(df_mvt.VLR_MIM_FAT) == ''):\n",
    "        cont3 += 1\n",
    "    if (str(df_mvt.VLR_PCL_FAT) == ''):\n",
    "        if (str(df_mvt.COD_MDL[i]) != 'D01') and (str(df_mvt.COD_MDL[i]) != 'E01'):\n",
    "            cont4 += 1\n",
    "\n",
    "nulos = cont1 + cont2 + cont3 + cont4\n",
    "compl_mvt.append((total-nulos)*(100/total))\n",
    "\n",
    "total, nulos"
   ]
  },
  {
   "cell_type": "markdown",
   "metadata": {
    "colab_type": "text",
    "id": "bQ5NLLU-hFYw"
   },
   "source": [
    "### 2. Representação gráfica"
   ]
  },
  {
   "cell_type": "code",
   "execution_count": 117,
   "metadata": {
    "colab": {
     "base_uri": "https://localhost:8080/",
     "height": 306
    },
    "colab_type": "code",
    "executionInfo": {
     "elapsed": 106478,
     "status": "ok",
     "timestamp": 1590428921607,
     "user": {
      "displayName": "Fabricio cursino",
      "photoUrl": "https://lh3.googleusercontent.com/a-/AOh14GhnG-nqrNPPCFN9H00g-mfMpGHWYvF1j7hSO55-Tw=s64",
      "userId": "10988524738909547427"
     },
     "user_tz": 180
    },
    "id": "UzB_iFS4hFYw",
    "outputId": "2b020644-3e3b-43ea-f369-e2f0102d2fd5"
   },
   "outputs": [
    {
     "data": {
      "image/png": "[encoded data removed]",
      "text/plain": [
       "<Figure size 432x288 with 1 Axes>"
      ]
     },
     "metadata": {
      "needs_background": "light",
      "tags": []
     },
     "output_type": "display_data"
    }
   ],
   "source": [
    "\n",
    "dados = ['Total', 'Nulos']\n",
    "valores = [total, nulos]\n",
    "\n",
    "barlist = plt.bar(dados,[total,nulos])\n",
    "barlist[0].set_color('#FF8C00')\n",
    "barlist[1].set_color('#FF0000')\n",
    "\n",
    "plt.xticks(dados, fontsize=12)\n",
    "plt.ylabel('Quantidade', fontsize=12)\n",
    "plt.xlabel('Dados', fontsize=14)\n",
    "plt.title('Completude dos dados', fontsize=18)\n",
    "\n",
    "plt.show()"
   ]
  },
  {
   "cell_type": "markdown",
   "metadata": {
    "colab_type": "text",
    "id": "MRU3pKuhhFY5"
   },
   "source": [
    "## Tabela STG_FNT_ITT"
   ]
  },
  {
   "cell_type": "markdown",
   "metadata": {
    "colab_type": "text",
    "id": "0s3NLI28hFY5"
   },
   "source": [
    "### 1. Verificando completude das colunas"
   ]
  },
  {
   "cell_type": "code",
   "execution_count": 118,
   "metadata": {
    "colab": {
     "base_uri": "https://localhost:8080/",
     "height": 34
    },
    "colab_type": "code",
    "executionInfo": {
     "elapsed": 109686,
     "status": "ok",
     "timestamp": 1590428924850,
     "user": {
      "displayName": "Fabricio cursino",
      "photoUrl": "https://lh3.googleusercontent.com/a-/AOh14GhnG-nqrNPPCFN9H00g-mfMpGHWYvF1j7hSO55-Tw=s64",
      "userId": "10988524738909547427"
     },
     "user_tz": 180
    },
    "id": "dcf4xXVkhFY5",
    "outputId": "a767afbc-703f-4ce9-ea3c-ec213f9be3ca"
   },
   "outputs": [
    {
     "data": {
      "text/plain": [
       "(1008, 0)"
      ]
     },
     "execution_count": 118,
     "metadata": {
      "tags": []
     },
     "output_type": "execute_result"
    }
   ],
   "source": [
    "total = len(df_fnt)\n",
    "cont1, cont2, cont3, cont4 = 0, 0, 0, 0\n",
    "for i in range (len(df_fnt)):\n",
    "    if (str(df_fnt.NUM_CNPJ) == ''):\n",
    "        cont1 += 1\n",
    "    if (str(df_fnt.NUM_CMP_CNPJ) == ''):\n",
    "        cont2 += 1\n",
    "    if (str(df_fnt.NOM_COM) == ''):\n",
    "        cont3 += 1\n",
    "    if (str(df_fnt.NOM_RAZ_SCL) == ''):\n",
    "        cont4 += 1\n",
    "\n",
    "nulos = cont1 + cont2 + cont3 + cont4\n",
    "compl_fnt.append((total-nulos)*(100/total))\n",
    "\n",
    "total, nulos"
   ]
  },
  {
   "cell_type": "markdown",
   "metadata": {
    "colab_type": "text",
    "id": "Qgcfn7aRhFY5"
   },
   "source": [
    "### 2. Representação gráfica"
   ]
  },
  {
   "cell_type": "code",
   "execution_count": 119,
   "metadata": {
    "colab": {
     "base_uri": "https://localhost:8080/",
     "height": 306
    },
    "colab_type": "code",
    "executionInfo": {
     "elapsed": 109661,
     "status": "ok",
     "timestamp": 1590428924852,
     "user": {
      "displayName": "Fabricio cursino",
      "photoUrl": "https://lh3.googleusercontent.com/a-/AOh14GhnG-nqrNPPCFN9H00g-mfMpGHWYvF1j7hSO55-Tw=s64",
      "userId": "10988524738909547427"
     },
     "user_tz": 180
    },
    "id": "Xnc-3CcfhFY5",
    "outputId": "6f504f91-fdd0-4e34-b67c-913b8ec9801d"
   },
   "outputs": [
    {
     "data": {
      "image/png": "[encoded data removed]",
      "text/plain": [
       "<Figure size 432x288 with 1 Axes>"
      ]
     },
     "metadata": {
      "needs_background": "light",
      "tags": []
     },
     "output_type": "display_data"
    }
   ],
   "source": [
    "\n",
    "dados = ['Total', 'Nulos']\n",
    "valores = [total, nulos]\n",
    "\n",
    "barlist = plt.bar(dados,[total,nulos])\n",
    "barlist[0].set_color('#FF8C00')\n",
    "barlist[1].set_color('#FF0000')\n",
    "\n",
    "plt.xticks(dados, fontsize=12)\n",
    "plt.ylabel('Quantidade', fontsize=12)\n",
    "plt.xlabel('Dados', fontsize=14)\n",
    "plt.title('Completude dos dados', fontsize=18)\n",
    "\n",
    "plt.show()"
   ]
  },
  {
   "cell_type": "markdown",
   "metadata": {
    "colab_type": "text",
    "id": "ilwgtdxphFY5"
   },
   "source": [
    "# Análise do Indicador de Conformidade"
   ]
  },
  {
   "cell_type": "markdown",
   "metadata": {
    "colab_type": "text",
    "id": "16xHL9CJhFZE"
   },
   "source": [
    "## Tabela STG_MVT_CRD"
   ]
  },
  {
   "cell_type": "markdown",
   "metadata": {
    "colab_type": "text",
    "id": "gye7O9nmhFZE"
   },
   "source": [
    "## 1. Conformidade quanto ao códigos de modalidade válidos"
   ]
  },
  {
   "cell_type": "markdown",
   "metadata": {
    "colab_type": "text",
    "id": "nzX9yb5AhFZE"
   },
   "source": [
    "### 1.1 Criação de uma lista dos códigos de modalidade"
   ]
  },
  {
   "cell_type": "code",
   "execution_count": 0,
   "metadata": {
    "colab": {},
    "colab_type": "code",
    "id": "6nGslAvDhFZE"
   },
   "outputs": [],
   "source": [
    "lista=[]\n",
    "for i in range (len(df_mdl)):\n",
    "    a= df_mdl.COD_MDL[i]\n",
    "    lista.append(a)"
   ]
  },
  {
   "cell_type": "code",
   "execution_count": 121,
   "metadata": {
    "colab": {
     "base_uri": "https://localhost:8080/",
     "height": 340
    },
    "colab_type": "code",
    "executionInfo": {
     "elapsed": 109574,
     "status": "ok",
     "timestamp": 1590428924856,
     "user": {
      "displayName": "Fabricio cursino",
      "photoUrl": "https://lh3.googleusercontent.com/a-/AOh14GhnG-nqrNPPCFN9H00g-mfMpGHWYvF1j7hSO55-Tw=s64",
      "userId": "10988524738909547427"
     },
     "user_tz": 180
    },
    "id": "rhet1Z4PhFZE",
    "outputId": "8124c7ee-c1f6-489b-c644-ea1e34239d7d"
   },
   "outputs": [
    {
     "data": {
      "text/plain": [
       "['E02',\n",
       " 'B99',\n",
       " 'D01',\n",
       " 'G01',\n",
       " 'A02',\n",
       " 'A04',\n",
       " 'E01',\n",
       " 'B03',\n",
       " 'B02',\n",
       " 'A05',\n",
       " 'B04',\n",
       " 'B07',\n",
       " 'F01',\n",
       " 'B06',\n",
       " 'C01',\n",
       " 'A01',\n",
       " 'B05',\n",
       " 'A99',\n",
       " 'B01']"
      ]
     },
     "execution_count": 121,
     "metadata": {
      "tags": []
     },
     "output_type": "execute_result"
    }
   ],
   "source": [
    "lista"
   ]
  },
  {
   "cell_type": "markdown",
   "metadata": {
    "colab_type": "text",
    "id": "oj3Ufn9ohFZO"
   },
   "source": [
    "### 1.2 Verficação da tabela STG_MVT_CRD contém os códigos da modalidade"
   ]
  },
  {
   "cell_type": "code",
   "execution_count": 122,
   "metadata": {
    "colab": {
     "base_uri": "https://localhost:8080/",
     "height": 34
    },
    "colab_type": "code",
    "executionInfo": {
     "elapsed": 109521,
     "status": "ok",
     "timestamp": 1590428924858,
     "user": {
      "displayName": "Fabricio cursino",
      "photoUrl": "https://lh3.googleusercontent.com/a-/AOh14GhnG-nqrNPPCFN9H00g-mfMpGHWYvF1j7hSO55-Tw=s64",
      "userId": "10988524738909547427"
     },
     "user_tz": 180
    },
    "id": "wXg6g1h6hFZO",
    "outputId": "a1b4c994-da24-4de0-d960-702115538a25"
   },
   "outputs": [
    {
     "data": {
      "text/plain": [
       "15"
      ]
     },
     "execution_count": 122,
     "metadata": {
      "tags": []
     },
     "output_type": "execute_result"
    }
   ],
   "source": [
    "conf =len(df_mvt.loc[df_mvt['COD_MDL'].isin(lista)])\n",
    "\n",
    "# Verificação da quantidade de registros que possuem o código de modalidade válido.\n",
    "conf"
   ]
  },
  {
   "cell_type": "markdown",
   "metadata": {
    "colab_type": "text",
    "id": "x2jVLGa9hFZO"
   },
   "source": [
    "### 1.3 Verificação de quantidade de registro da tabela STG_MVT_CRD"
   ]
  },
  {
   "cell_type": "code",
   "execution_count": 123,
   "metadata": {
    "colab": {
     "base_uri": "https://localhost:8080/",
     "height": 34
    },
    "colab_type": "code",
    "executionInfo": {
     "elapsed": 109501,
     "status": "ok",
     "timestamp": 1590428924859,
     "user": {
      "displayName": "Fabricio cursino",
      "photoUrl": "https://lh3.googleusercontent.com/a-/AOh14GhnG-nqrNPPCFN9H00g-mfMpGHWYvF1j7hSO55-Tw=s64",
      "userId": "10988524738909547427"
     },
     "user_tz": 180
    },
    "id": "jw7xOOEmhFZO",
    "outputId": "758f0070-066a-409b-c823-c5f5cfabe4c7"
   },
   "outputs": [
    {
     "data": {
      "text/plain": [
       "15"
      ]
     },
     "execution_count": 123,
     "metadata": {
      "tags": []
     },
     "output_type": "execute_result"
    }
   ],
   "source": [
    "total=len(df_mvt)\n",
    "\n",
    "total"
   ]
  },
  {
   "cell_type": "markdown",
   "metadata": {
    "colab_type": "text",
    "id": "ck5E6IUNhFZO"
   },
   "source": [
    "### 1.4 Verificação de % registros conforme baseado nos códigos de modalidade válidos"
   ]
  },
  {
   "cell_type": "code",
   "execution_count": 124,
   "metadata": {
    "colab": {
     "base_uri": "https://localhost:8080/",
     "height": 34
    },
    "colab_type": "code",
    "executionInfo": {
     "elapsed": 109422,
     "status": "ok",
     "timestamp": 1590428924860,
     "user": {
      "displayName": "Fabricio cursino",
      "photoUrl": "https://lh3.googleusercontent.com/a-/AOh14GhnG-nqrNPPCFN9H00g-mfMpGHWYvF1j7hSO55-Tw=s64",
      "userId": "10988524738909547427"
     },
     "user_tz": 180
    },
    "id": "QpsvcxYEhFZO",
    "outputId": "1cbe97fb-3777-4d23-9e54-c8a77b81b39c"
   },
   "outputs": [
    {
     "data": {
      "text/plain": [
       "(0.0, 100.0)"
      ]
     },
     "execution_count": 124,
     "metadata": {
      "tags": []
     },
     "output_type": "execute_result"
    }
   ],
   "source": [
    "n_conforme= (total-conf) *100/total\n",
    "conforme = 100 - n_conforme\n",
    "confor_mvt.append(conforme)\n",
    "\n",
    "n_conforme, conforme\n"
   ]
  },
  {
   "cell_type": "markdown",
   "metadata": {
    "colab_type": "text",
    "id": "QBNZbRaOhFZY"
   },
   "source": [
    "### 1.5 Representação gráfica"
   ]
  },
  {
   "cell_type": "code",
   "execution_count": 125,
   "metadata": {
    "colab": {
     "base_uri": "https://localhost:8080/",
     "height": 585
    },
    "colab_type": "code",
    "executionInfo": {
     "elapsed": 109358,
     "status": "ok",
     "timestamp": 1590428924861,
     "user": {
      "displayName": "Fabricio cursino",
      "photoUrl": "https://lh3.googleusercontent.com/a-/AOh14GhnG-nqrNPPCFN9H00g-mfMpGHWYvF1j7hSO55-Tw=s64",
      "userId": "10988524738909547427"
     },
     "user_tz": 180
    },
    "id": "KZBDNaj4hFZY",
    "outputId": "b2416fda-226a-4a33-ff62-b881d9b113eb"
   },
   "outputs": [
    {
     "data": {
      "image/png": "[encoded data removed]",
      "text/plain": [
       "<Figure size 720x576 with 1 Axes>"
      ]
     },
     "metadata": {
      "tags": []
     },
     "output_type": "display_data"
    }
   ],
   "source": [
    "labels = ['Conforme', 'Não Conforme']\n",
    "sizes = [conforme, n_conforme]\n",
    "\n",
    "colors = ['DeepSkyBlue','#00BFFF']\n",
    " \n",
    "fig2, ax1 = plt.subplots(figsize = (10,8))\n",
    "ax1.pie(sizes, colors = colors, labels=labels, autopct='%1.1f%%', startangle=30)\n",
    "\n",
    "centre_circle = plt.Circle((0,0),0.60,fc='white')\n",
    "fig = plt.gcf()\n",
    "fig.gca().add_artist(centre_circle)\n",
    "\n",
    "plt.title('Conformidade dos dados quanto ao código de modalidade válido', fontsize = 18)\n",
    "\n",
    "ax1.axis('equal')  \n",
    "plt.tight_layout()\n",
    "plt.show()"
   ]
  },
  {
   "cell_type": "markdown",
   "metadata": {
    "colab_type": "text",
    "id": "Ie87mY5QhFZh"
   },
   "source": [
    "## 2. Vericação se o campo DES_TIP_PSS está no padrão"
   ]
  },
  {
   "cell_type": "markdown",
   "metadata": {
    "colab_type": "text",
    "id": "jj4xPQABhFZh"
   },
   "source": [
    "### 2.1 Criação de lista para verificação de padrão"
   ]
  },
  {
   "cell_type": "code",
   "execution_count": 126,
   "metadata": {
    "colab": {
     "base_uri": "https://localhost:8080/",
     "height": 34
    },
    "colab_type": "code",
    "executionInfo": {
     "elapsed": 111269,
     "status": "ok",
     "timestamp": 1590428926799,
     "user": {
      "displayName": "Fabricio cursino",
      "photoUrl": "https://lh3.googleusercontent.com/a-/AOh14GhnG-nqrNPPCFN9H00g-mfMpGHWYvF1j7hSO55-Tw=s64",
      "userId": "10988524738909547427"
     },
     "user_tz": 180
    },
    "id": "jIYeNOCohFZh",
    "outputId": "dd149213-9565-473b-d043-5851c24556dd"
   },
   "outputs": [
    {
     "data": {
      "text/plain": [
       "(['F', 'J'], ['f', 'j'])"
      ]
     },
     "execution_count": 126,
     "metadata": {
      "tags": []
     },
     "output_type": "execute_result"
    }
   ],
   "source": [
    "## Criação de uma lista para verificar de existência de registros no padrão F(Pessoa Física)  e J(Pessoa Jurídica)\n",
    "listafjM=['F','J']\n",
    "\n",
    "## Criação de lista para verificação de existência de registros fora do padrão f e j ( letras minúsculas)\n",
    "listafjm=['f','j']\n",
    "\n",
    "listafjM, listafjm"
   ]
  },
  {
   "cell_type": "code",
   "execution_count": 127,
   "metadata": {
    "colab": {
     "base_uri": "https://localhost:8080/",
     "height": 34
    },
    "colab_type": "code",
    "executionInfo": {
     "elapsed": 111226,
     "status": "ok",
     "timestamp": 1590428926802,
     "user": {
      "displayName": "Fabricio cursino",
      "photoUrl": "https://lh3.googleusercontent.com/a-/AOh14GhnG-nqrNPPCFN9H00g-mfMpGHWYvF1j7hSO55-Tw=s64",
      "userId": "10988524738909547427"
     },
     "user_tz": 180
    },
    "id": "FDjIbTxqhFZh",
    "outputId": "7309f1c3-6c03-4b1a-fab6-da81c776ec18"
   },
   "outputs": [
    {
     "data": {
      "text/plain": [
       "(15, 0)"
      ]
     },
     "execution_count": 127,
     "metadata": {
      "tags": []
     },
     "output_type": "execute_result"
    }
   ],
   "source": [
    "## Atribuição a uma variável o números de registros válidos com F e J\n",
    "conffjM =len(df_mvt.loc[df_mvt['DES_TIP_PSS'].isin(listafjM)])\n",
    "\n",
    "## Atribuição a uma variável o números de registros fora do padrão f e j (letras minúsculas) \n",
    "conffjm =len(df_mvt.loc[df_mvt['DES_TIP_PSS'].isin(listafjm)])\n",
    "\n",
    "conffjM , conffjm\n"
   ]
  },
  {
   "cell_type": "markdown",
   "metadata": {
    "colab_type": "text",
    "id": "zKH_jGWthFZs"
   },
   "source": [
    "### 2.2 Cálculo de porcentagem de dados conforme e não conforme quanto à Pessoa Física ou Jurídica"
   ]
  },
  {
   "cell_type": "code",
   "execution_count": 0,
   "metadata": {
    "colab": {},
    "colab_type": "code",
    "id": "JiKdtehdhFZs"
   },
   "outputs": [],
   "source": [
    "FJ = conffjM *100/total\n",
    "fj = conffjm*100/total\n",
    "difFJ = (total-conffjM)*100/total\n",
    "confor_mvt.append(FJ)\n"
   ]
  },
  {
   "cell_type": "markdown",
   "metadata": {
    "colab_type": "text",
    "id": "cFiQIaswhFZ1"
   },
   "source": [
    "### 2.3 Representação Gráfica"
   ]
  },
  {
   "cell_type": "code",
   "execution_count": 129,
   "metadata": {
    "colab": {
     "base_uri": "https://localhost:8080/",
     "height": 1000
    },
    "colab_type": "code",
    "executionInfo": {
     "elapsed": 111153,
     "status": "ok",
     "timestamp": 1590428926805,
     "user": {
      "displayName": "Fabricio cursino",
      "photoUrl": "https://lh3.googleusercontent.com/a-/AOh14GhnG-nqrNPPCFN9H00g-mfMpGHWYvF1j7hSO55-Tw=s64",
      "userId": "10988524738909547427"
     },
     "user_tz": 180
    },
    "id": "m1ga8WLnhFZ1",
    "outputId": "0aed56e3-d96a-4380-89f7-dc8e2f8a7ab1"
   },
   "outputs": [
    {
     "data": {
      "image/png": "[encoded data removed]",
      "text/plain": [
       "<Figure size 720x576 with 1 Axes>"
      ]
     },
     "metadata": {
      "tags": []
     },
     "output_type": "display_data"
    },
    {
     "data": {
      "image/png": "[encoded data removed]",
      "text/plain": [
       "<Figure size 720x576 with 1 Axes>"
      ]
     },
     "metadata": {
      "tags": []
     },
     "output_type": "display_data"
    }
   ],
   "source": [
    "labels = ['Total de Registros com F ou J', 'Total de Registros fora do padrão']\n",
    "sizes = [FJ, difFJ]\n",
    "\n",
    "colors = ['DeepSkyBlue','#00BFFF']\n",
    " \n",
    "fig2, ax1 = plt.subplots(figsize = (10,8))\n",
    "ax1.pie(sizes, colors = colors, labels=labels, autopct='%1.1f%%', startangle=30)\n",
    "\n",
    "centre_circle = plt.Circle((0,0),0.60,fc='white')\n",
    "fig = plt.gcf()\n",
    "fig.gca().add_artist(centre_circle)\n",
    "\n",
    "plt.title('Conformidade dos dados quanto a identificação de tipo de cliente padronizada', fontsize = 18)\n",
    "\n",
    "ax1.axis('equal')  \n",
    "plt.tight_layout()\n",
    "plt.show()\n",
    "\n",
    "\n",
    "\n",
    "labels = ['Total de Registros com F ou J', 'Total de Registros com f ou j']\n",
    "sizes = [FJ, fj]\n",
    "\n",
    "colors = ['DeepSkyBlue','#00BFFF']\n",
    " \n",
    "fig2, ax1 = plt.subplots(figsize = (10,8))\n",
    "ax1.pie(sizes, colors = colors, labels=labels, autopct='%1.1f%%', startangle=30)\n",
    "\n",
    "centre_circle = plt.Circle((0,0),0.60,fc='white')\n",
    "fig = plt.gcf()\n",
    "fig.gca().add_artist(centre_circle)\n",
    "\n",
    "plt.title('Conformidade dos dados quanto a identificação de tipo de cliente padronizada', fontsize = 18)\n",
    "\n",
    "ax1.axis('equal')  \n",
    "plt.tight_layout()\n",
    "plt.show()"
   ]
  },
  {
   "cell_type": "markdown",
   "metadata": {
    "colab_type": "text",
    "id": "QFtwJMPIhFZ1"
   },
   "source": [
    "## 3. Verificação do campo ID_FNT_ITT da tabela STG_MVT_CRD se está de acordo com a tabela STG_FNT_ITT"
   ]
  },
  {
   "cell_type": "markdown",
   "metadata": {
    "colab_type": "text",
    "id": "IDG3XjJChFZ1"
   },
   "source": [
    "### 3.1 Criação de uma lista das fontes existentes"
   ]
  },
  {
   "cell_type": "code",
   "execution_count": 0,
   "metadata": {
    "colab": {},
    "colab_type": "code",
    "id": "_G3H1N7yhFZ1"
   },
   "outputs": [],
   "source": [
    "listafontes=[]\n",
    "for i in range (len(df_fnt)):\n",
    "    a= df_fnt.ID_STG_FNT_ITT[i]\n",
    "    listafontes.append(a)"
   ]
  },
  {
   "cell_type": "markdown",
   "metadata": {
    "colab_type": "text",
    "id": "Bj-aNXhThFaA"
   },
   "source": [
    "### 3.2 Verficação da tabela STG_MVT_CRD contém fontes válidas"
   ]
  },
  {
   "cell_type": "code",
   "execution_count": 131,
   "metadata": {
    "colab": {
     "base_uri": "https://localhost:8080/",
     "height": 34
    },
    "colab_type": "code",
    "executionInfo": {
     "elapsed": 111085,
     "status": "ok",
     "timestamp": 1590428926808,
     "user": {
      "displayName": "Fabricio cursino",
      "photoUrl": "https://lh3.googleusercontent.com/a-/AOh14GhnG-nqrNPPCFN9H00g-mfMpGHWYvF1j7hSO55-Tw=s64",
      "userId": "10988524738909547427"
     },
     "user_tz": 180
    },
    "id": "H9at4oLShFaA",
    "outputId": "a8b3c435-0c31-4634-f225-f988793dbeee"
   },
   "outputs": [
    {
     "data": {
      "text/plain": [
       "15"
      ]
     },
     "execution_count": 131,
     "metadata": {
      "tags": []
     },
     "output_type": "execute_result"
    }
   ],
   "source": [
    "conf_fontes =len(df_mvt.loc[df_mvt['ID_FNT_ITT'].isin(listafontes)])\n",
    "\n",
    "conf_fontes"
   ]
  },
  {
   "cell_type": "markdown",
   "metadata": {
    "colab_type": "text",
    "id": "KcNgjA6VhFaA"
   },
   "source": [
    "### 3.3 Verificação de % registros conforme baseado na identificação de fonte válidas"
   ]
  },
  {
   "cell_type": "code",
   "execution_count": 0,
   "metadata": {
    "colab": {},
    "colab_type": "code",
    "id": "s570tc67hFaA"
   },
   "outputs": [],
   "source": [
    "fontes = conf_fontes *100/total\n",
    "fontesnconf = (total-conf_fontes)*100/total\n",
    "confor_mvt.append(fontes)"
   ]
  },
  {
   "cell_type": "markdown",
   "metadata": {
    "colab_type": "text",
    "id": "6b0Qu9bihFaA"
   },
   "source": [
    "### 3.4 Representação gráfica"
   ]
  },
  {
   "cell_type": "code",
   "execution_count": 133,
   "metadata": {
    "colab": {
     "base_uri": "https://localhost:8080/",
     "height": 585
    },
    "colab_type": "code",
    "executionInfo": {
     "elapsed": 111045,
     "status": "ok",
     "timestamp": 1590428926810,
     "user": {
      "displayName": "Fabricio cursino",
      "photoUrl": "https://lh3.googleusercontent.com/a-/AOh14GhnG-nqrNPPCFN9H00g-mfMpGHWYvF1j7hSO55-Tw=s64",
      "userId": "10988524738909547427"
     },
     "user_tz": 180
    },
    "id": "qk2mTBm9hFaA",
    "outputId": "e0987141-438c-466c-a275-fa5e377ebfe8"
   },
   "outputs": [
    {
     "data": {
      "image/png": "[encoded data removed]",
      "text/plain": [
       "<Figure size 720x576 with 1 Axes>"
      ]
     },
     "metadata": {
      "tags": []
     },
     "output_type": "display_data"
    }
   ],
   "source": [
    "labels = ['Fonte conforme', 'Fonte não Conforme']\n",
    "sizes = [fontes, fontesnconf]\n",
    "\n",
    "colors = ['DeepSkyBlue','#00BFFF']\n",
    " \n",
    "fig2, ax1 = plt.subplots(figsize = (10,8))\n",
    "ax1.pie(sizes, colors = colors, labels=labels, autopct='%1.1f%%', startangle=30)\n",
    "\n",
    "centre_circle = plt.Circle((0,0),0.60,fc='white')\n",
    "fig = plt.gcf()\n",
    "fig.gca().add_artist(centre_circle)\n",
    "\n",
    "plt.title('Conformidade dos dados quanto ao código da fonte válido', fontsize = 18)\n",
    "\n",
    "ax1.axis('equal')  \n",
    "plt.tight_layout()\n",
    "plt.show()"
   ]
  },
  {
   "cell_type": "markdown",
   "metadata": {
    "colab_type": "text",
    "id": "fpCSH-wEhFaM"
   },
   "source": [
    "## 4. Alteração de formato do campo VLR_PCL_FAT"
   ]
  },
  {
   "cell_type": "markdown",
   "metadata": {
    "colab_type": "text",
    "id": "nwvsN7p7hFaS"
   },
   "source": [
    "### 4.1 Alterando formato string para float no campo VLR_PGT_FAT"
   ]
  },
  {
   "cell_type": "code",
   "execution_count": 0,
   "metadata": {
    "colab": {},
    "colab_type": "code",
    "id": "9vtN_N-dhFaS"
   },
   "outputs": [],
   "source": [
    "df_mvt.VLR_PCL_FAT = df_mvt.VLR_PCL_FAT.astype(float)"
   ]
  },
  {
   "cell_type": "markdown",
   "metadata": {
    "colab_type": "text",
    "id": "XRVE5K1RhFaa"
   },
   "source": [
    "### 4.2 Salvando o dataframe alterado em um Novo arquivo xlsx"
   ]
  },
  {
   "cell_type": "code",
   "execution_count": 0,
   "metadata": {
    "colab": {},
    "colab_type": "code",
    "id": "ICwBIWbwhFaa"
   },
   "outputs": [],
   "source": [
    "#df.to_excel(\"STG_MVT_CRD_Novo.xlsx\") "
   ]
  },
  {
   "cell_type": "markdown",
   "metadata": {
    "colab_type": "text",
    "id": "KJW4KYaxhFad"
   },
   "source": [
    "## Tabela STG_OPR_ITT"
   ]
  },
  {
   "cell_type": "markdown",
   "metadata": {
    "colab_type": "text",
    "id": "BYQ6VUR8hFae"
   },
   "source": [
    "## 1. Conformidade quanto aos códigos de modalidade válidos"
   ]
  },
  {
   "cell_type": "markdown",
   "metadata": {
    "colab_type": "text",
    "id": "E6fhfOadhFae"
   },
   "source": [
    "### 1.1 Criação de uma lista dos códigos de modalidade"
   ]
  },
  {
   "cell_type": "code",
   "execution_count": 136,
   "metadata": {
    "colab": {
     "base_uri": "https://localhost:8080/",
     "height": 340
    },
    "colab_type": "code",
    "executionInfo": {
     "elapsed": 110992,
     "status": "ok",
     "timestamp": 1590428926815,
     "user": {
      "displayName": "Fabricio cursino",
      "photoUrl": "https://lh3.googleusercontent.com/a-/AOh14GhnG-nqrNPPCFN9H00g-mfMpGHWYvF1j7hSO55-Tw=s64",
      "userId": "10988524738909547427"
     },
     "user_tz": 180
    },
    "id": "jZDlwWcshFae",
    "outputId": "525603b7-c9ca-4e5f-b205-378d4cac4de9"
   },
   "outputs": [
    {
     "data": {
      "text/plain": [
       "['E02',\n",
       " 'B99',\n",
       " 'D01',\n",
       " 'G01',\n",
       " 'A02',\n",
       " 'A04',\n",
       " 'E01',\n",
       " 'B03',\n",
       " 'B02',\n",
       " 'A05',\n",
       " 'B04',\n",
       " 'B07',\n",
       " 'F01',\n",
       " 'B06',\n",
       " 'C01',\n",
       " 'A01',\n",
       " 'B05',\n",
       " 'A99',\n",
       " 'B01']"
      ]
     },
     "execution_count": 136,
     "metadata": {
      "tags": []
     },
     "output_type": "execute_result"
    }
   ],
   "source": [
    "lista = []\n",
    "for i in range(len(df_mdl)):\n",
    "  a = df_mdl.COD_MDL[i]\n",
    "  lista.append(a)\n",
    "    \n",
    "lista"
   ]
  },
  {
   "cell_type": "markdown",
   "metadata": {
    "colab_type": "text",
    "id": "e2mhNBf7hFak"
   },
   "source": [
    "### 1.2 Verificação da tabela STG_OPR_ITT contém os códigos de modalidade"
   ]
  },
  {
   "cell_type": "code",
   "execution_count": 137,
   "metadata": {
    "colab": {
     "base_uri": "https://localhost:8080/",
     "height": 34
    },
    "colab_type": "code",
    "executionInfo": {
     "elapsed": 110972,
     "status": "ok",
     "timestamp": 1590428926817,
     "user": {
      "displayName": "Fabricio cursino",
      "photoUrl": "https://lh3.googleusercontent.com/a-/AOh14GhnG-nqrNPPCFN9H00g-mfMpGHWYvF1j7hSO55-Tw=s64",
      "userId": "10988524738909547427"
     },
     "user_tz": 180
    },
    "id": "Auj1ODs6hFal",
    "outputId": "595028f5-c3ad-46d6-98f3-a646f904f541"
   },
   "outputs": [
    {
     "data": {
      "text/plain": [
       "891"
      ]
     },
     "execution_count": 137,
     "metadata": {
      "tags": []
     },
     "output_type": "execute_result"
    }
   ],
   "source": [
    "conf = len(df_opr.loc[df_opr['ID_MDL'].isin(lista)])\n",
    "\n",
    "#Verificação da quantidade de registros que possuem o código de modalidade válido.\n",
    "conf"
   ]
  },
  {
   "cell_type": "markdown",
   "metadata": {
    "colab_type": "text",
    "id": "U9Wxx9nwhFao"
   },
   "source": [
    "### 1.3 Verificação da quantidade de registros da tabela STG_OPR_ITT"
   ]
  },
  {
   "cell_type": "code",
   "execution_count": 138,
   "metadata": {
    "colab": {
     "base_uri": "https://localhost:8080/",
     "height": 34
    },
    "colab_type": "code",
    "executionInfo": {
     "elapsed": 110950,
     "status": "ok",
     "timestamp": 1590428926819,
     "user": {
      "displayName": "Fabricio cursino",
      "photoUrl": "https://lh3.googleusercontent.com/a-/AOh14GhnG-nqrNPPCFN9H00g-mfMpGHWYvF1j7hSO55-Tw=s64",
      "userId": "10988524738909547427"
     },
     "user_tz": 180
    },
    "id": "FD93x8wZhFao",
    "outputId": "dfb1a7c1-73d3-4e7c-c013-3e2c2e22b8e2"
   },
   "outputs": [
    {
     "data": {
      "text/plain": [
       "891"
      ]
     },
     "execution_count": 138,
     "metadata": {
      "tags": []
     },
     "output_type": "execute_result"
    }
   ],
   "source": [
    "total = len(df_opr)\n",
    "\n",
    "total"
   ]
  },
  {
   "cell_type": "markdown",
   "metadata": {
    "colab_type": "text",
    "id": "mvZ3yJ4hhFar"
   },
   "source": [
    "### 1.4 Verificação de % de registros conforme baseado nos códigos de modalidade"
   ]
  },
  {
   "cell_type": "code",
   "execution_count": 139,
   "metadata": {
    "colab": {
     "base_uri": "https://localhost:8080/",
     "height": 34
    },
    "colab_type": "code",
    "executionInfo": {
     "elapsed": 110929,
     "status": "ok",
     "timestamp": 1590428926820,
     "user": {
      "displayName": "Fabricio cursino",
      "photoUrl": "https://lh3.googleusercontent.com/a-/AOh14GhnG-nqrNPPCFN9H00g-mfMpGHWYvF1j7hSO55-Tw=s64",
      "userId": "10988524738909547427"
     },
     "user_tz": 180
    },
    "id": "Do-CM2yNhFar",
    "outputId": "3ac71f18-1946-45d7-8941-18705d7f34b9"
   },
   "outputs": [
    {
     "data": {
      "text/plain": [
       "(100.0, 0.0)"
      ]
     },
     "execution_count": 139,
     "metadata": {
      "tags": []
     },
     "output_type": "execute_result"
    }
   ],
   "source": [
    "n_conforme= (total-conf) *100/total\n",
    "conforme = 100 - n_conforme\n",
    "confor_opr.append(conforme)\n",
    "\n",
    "conforme, n_conforme"
   ]
  },
  {
   "cell_type": "markdown",
   "metadata": {
    "colab_type": "text",
    "id": "TyAgfs4GhFau"
   },
   "source": [
    "### 1.5 Representação Gráfica"
   ]
  },
  {
   "cell_type": "code",
   "execution_count": 140,
   "metadata": {
    "colab": {
     "base_uri": "https://localhost:8080/",
     "height": 585
    },
    "colab_type": "code",
    "executionInfo": {
     "elapsed": 110907,
     "status": "ok",
     "timestamp": 1590428926821,
     "user": {
      "displayName": "Fabricio cursino",
      "photoUrl": "https://lh3.googleusercontent.com/a-/AOh14GhnG-nqrNPPCFN9H00g-mfMpGHWYvF1j7hSO55-Tw=s64",
      "userId": "10988524738909547427"
     },
     "user_tz": 180
    },
    "id": "F2njgTiOhFav",
    "outputId": "74659134-68fd-42d9-d39a-bef8e09b102d"
   },
   "outputs": [
    {
     "data": {
      "image/png": "[encoded data removed]",
      "text/plain": [
       "<Figure size 720x576 with 1 Axes>"
      ]
     },
     "metadata": {
      "tags": []
     },
     "output_type": "display_data"
    }
   ],
   "source": [
    "labels = ['Conforme', 'Não Conforme']\n",
    "sizes = [conforme, n_conforme]\n",
    "\n",
    "colors = ['DeepSkyBlue','#00BFFF']\n",
    " \n",
    "fig2, ax1 = plt.subplots(figsize = (10,8))\n",
    "ax1.pie(sizes, colors = colors, labels=labels, autopct='%1.1f%%', startangle=30)\n",
    "\n",
    "centre_circle = plt.Circle((0,0),0.60,fc='white')\n",
    "fig = plt.gcf()\n",
    "fig.gca().add_artist(centre_circle)\n",
    "\n",
    "plt.title('Conformidade dos dados quanto ao código de modalidade válido', fontsize = 18)\n",
    "\n",
    "ax1.axis('equal')  \n",
    "plt.tight_layout()\n",
    "plt.show()"
   ]
  },
  {
   "cell_type": "markdown",
   "metadata": {
    "colab_type": "text",
    "id": "e-48PDxOhFay"
   },
   "source": [
    "## 2. Verificação se o campo DES_TIP_PSS está preenchido dentro do padrão"
   ]
  },
  {
   "cell_type": "markdown",
   "metadata": {
    "colab_type": "text",
    "id": "vhaWPlSghFay"
   },
   "source": [
    "### 2.1 Criação de uma lista para verificação de padrão"
   ]
  },
  {
   "cell_type": "code",
   "execution_count": 141,
   "metadata": {
    "colab": {
     "base_uri": "https://localhost:8080/",
     "height": 34
    },
    "colab_type": "code",
    "executionInfo": {
     "elapsed": 110881,
     "status": "ok",
     "timestamp": 1590428926822,
     "user": {
      "displayName": "Fabricio cursino",
      "photoUrl": "https://lh3.googleusercontent.com/a-/AOh14GhnG-nqrNPPCFN9H00g-mfMpGHWYvF1j7hSO55-Tw=s64",
      "userId": "10988524738909547427"
     },
     "user_tz": 180
    },
    "id": "jdoYu_IOhFaz",
    "outputId": "775b14de-977d-41e4-9af1-0017a1f05fae"
   },
   "outputs": [
    {
     "data": {
      "text/plain": [
       "(['F', 'J'], ['f', 'j'])"
      ]
     },
     "execution_count": 141,
     "metadata": {
      "tags": []
     },
     "output_type": "execute_result"
    }
   ],
   "source": [
    "## Criação de uma lista para verificar existência de registros no padrão F(Pessoa Física)  e J(Pessoa Jurídica)\n",
    "listafjM=['F','J']\n",
    "\n",
    "## Criação de lista para verificação existência de registros fora do padrão f e j ( letras minúsculas)\n",
    "listafjm=['f','j']\n",
    "\n",
    "listafjM, listafjm"
   ]
  },
  {
   "cell_type": "code",
   "execution_count": 142,
   "metadata": {
    "colab": {
     "base_uri": "https://localhost:8080/",
     "height": 34
    },
    "colab_type": "code",
    "executionInfo": {
     "elapsed": 110862,
     "status": "ok",
     "timestamp": 1590428926824,
     "user": {
      "displayName": "Fabricio cursino",
      "photoUrl": "https://lh3.googleusercontent.com/a-/AOh14GhnG-nqrNPPCFN9H00g-mfMpGHWYvF1j7hSO55-Tw=s64",
      "userId": "10988524738909547427"
     },
     "user_tz": 180
    },
    "id": "STCKpouRhFaz",
    "outputId": "13a5c5ed-641b-42c7-ffa8-c3d4cea84ed6"
   },
   "outputs": [
    {
     "data": {
      "text/plain": [
       "(891, 0)"
      ]
     },
     "execution_count": 142,
     "metadata": {
      "tags": []
     },
     "output_type": "execute_result"
    }
   ],
   "source": [
    "## Atribuição a uma variável os números de registros válidos com F e J\n",
    "conffjM =len(df_opr.loc[df_opr['DES_TIP_PSS'].isin(listafjM)])\n",
    "\n",
    "## Atribuição a uma variável os números de registros fora do padrão f e j (letras minúsculas) \n",
    "conffjm =len(df_opr.loc[df_opr['DES_TIP_PSS'].isin(listafjm)])\n",
    "\n",
    "conffjM , conffjm"
   ]
  },
  {
   "cell_type": "markdown",
   "metadata": {
    "colab_type": "text",
    "id": "42WnSF0shFaz"
   },
   "source": [
    "### 2.2 Cálculo de porcentagem de dados conforme e não conforme quanto à Pessoa Física ou Jurídica"
   ]
  },
  {
   "cell_type": "code",
   "execution_count": 0,
   "metadata": {
    "colab": {},
    "colab_type": "code",
    "id": "ZN3nKNTkhFaz"
   },
   "outputs": [],
   "source": [
    "FJ = conffjM *100/total\n",
    "fj = conffjm*100/total\n",
    "difFJ = (total-conffjM)*100/total\n",
    "confor_opr.append(FJ)\n"
   ]
  },
  {
   "cell_type": "markdown",
   "metadata": {
    "colab_type": "text",
    "id": "94-1bsuEhFa-"
   },
   "source": [
    "### 2.3 Representação Gráfica"
   ]
  },
  {
   "cell_type": "code",
   "execution_count": 144,
   "metadata": {
    "colab": {
     "base_uri": "https://localhost:8080/",
     "height": 1000
    },
    "colab_type": "code",
    "executionInfo": {
     "elapsed": 110822,
     "status": "ok",
     "timestamp": 1590428926825,
     "user": {
      "displayName": "Fabricio cursino",
      "photoUrl": "https://lh3.googleusercontent.com/a-/AOh14GhnG-nqrNPPCFN9H00g-mfMpGHWYvF1j7hSO55-Tw=s64",
      "userId": "10988524738909547427"
     },
     "user_tz": 180
    },
    "id": "5OkdE1muhFa-",
    "outputId": "5ca9fd30-c0a6-46ed-8d86-45e41733dba5"
   },
   "outputs": [
    {
     "data": {
      "image/png": "[encoded data removed]",
      "text/plain": [
       "<Figure size 720x576 with 1 Axes>"
      ]
     },
     "metadata": {
      "tags": []
     },
     "output_type": "display_data"
    },
    {
     "data": {
      "image/png": "[encoded data removed]",
      "text/plain": [
       "<Figure size 720x576 with 1 Axes>"
      ]
     },
     "metadata": {
      "tags": []
     },
     "output_type": "display_data"
    }
   ],
   "source": [
    "labels = ['Total de Registros com F ou J', 'Total de Registros fora do padrão']\n",
    "sizes = [FJ, difFJ]\n",
    "\n",
    "colors = ['DeepSkyBlue','#00BFFF']\n",
    " \n",
    "fig2, ax1 = plt.subplots(figsize = (10,8))\n",
    "ax1.pie(sizes, colors = colors, labels=labels, autopct='%1.1f%%', startangle=30)\n",
    "\n",
    "centre_circle = plt.Circle((0,0),0.60,fc='white')\n",
    "fig = plt.gcf()\n",
    "fig.gca().add_artist(centre_circle)\n",
    "\n",
    "plt.title('Conformidade dos dados quanto a identificação de tipo de cliente padronizada', fontsize = 18)\n",
    "\n",
    "ax1.axis('equal')  \n",
    "plt.tight_layout()\n",
    "plt.show()\n",
    "\n",
    "\n",
    "\n",
    "labels = ['Total de Registros com F ou J', 'Total de Registros com f ou j']\n",
    "sizes = [FJ, fj]\n",
    "\n",
    "colors = ['DeepSkyBlue','#00BFFF']\n",
    " \n",
    "fig2, ax1 = plt.subplots(figsize = (10,8))\n",
    "ax1.pie(sizes, colors = colors, labels=labels, autopct='%1.1f%%', startangle=30)\n",
    "\n",
    "centre_circle = plt.Circle((0,0),0.60,fc='white')\n",
    "fig = plt.gcf()\n",
    "fig.gca().add_artist(centre_circle)\n",
    "\n",
    "plt.title('Conformidade dos dados quanto a identificação de tipo de cliente padronizada', fontsize = 18)\n",
    "\n",
    "ax1.axis('equal')  \n",
    "plt.tight_layout()\n",
    "plt.show()"
   ]
  },
  {
   "cell_type": "markdown",
   "metadata": {
    "colab_type": "text",
    "id": "cZJ758vRhFa-"
   },
   "source": [
    "## 3. Verificação do campo ID_FNT_ITT da tabela STG_OPR_ITT se está de acordo com a tabela STG_FNT_ITT"
   ]
  },
  {
   "cell_type": "markdown",
   "metadata": {
    "colab_type": "text",
    "id": "7O7-75y7hFa-"
   },
   "source": [
    "### 3.1 Verficação da tabela STG_OPR_ITT contém fontes válidas"
   ]
  },
  {
   "cell_type": "code",
   "execution_count": 145,
   "metadata": {
    "colab": {
     "base_uri": "https://localhost:8080/",
     "height": 34
    },
    "colab_type": "code",
    "executionInfo": {
     "elapsed": 110796,
     "status": "ok",
     "timestamp": 1590428926826,
     "user": {
      "displayName": "Fabricio cursino",
      "photoUrl": "https://lh3.googleusercontent.com/a-/AOh14GhnG-nqrNPPCFN9H00g-mfMpGHWYvF1j7hSO55-Tw=s64",
      "userId": "10988524738909547427"
     },
     "user_tz": 180
    },
    "id": "tYQJrDhnhFa-",
    "outputId": "08ff9f3e-b25e-4ab6-e229-f03a8425ecd9"
   },
   "outputs": [
    {
     "data": {
      "text/plain": [
       "891"
      ]
     },
     "execution_count": 145,
     "metadata": {
      "tags": []
     },
     "output_type": "execute_result"
    }
   ],
   "source": [
    "conf_fontes =len(df_opr.loc[df_opr['ID_FNT_ITT'].isin(listafontes)])\n",
    "\n",
    "conf_fontes"
   ]
  },
  {
   "cell_type": "markdown",
   "metadata": {
    "colab_type": "text",
    "id": "DlrylHTChFa-"
   },
   "source": [
    "### 3.2 Verificação de % registros conforme baseado na identificação de fonte válidas"
   ]
  },
  {
   "cell_type": "code",
   "execution_count": 0,
   "metadata": {
    "colab": {},
    "colab_type": "code",
    "id": "UrMNEwqhhFa-"
   },
   "outputs": [],
   "source": [
    "fontes = conf_fontes *100/total\n",
    "fontesnconf = (total-conf_fontes)*100/total\n",
    "confor_opr.append(fontes)"
   ]
  },
  {
   "cell_type": "markdown",
   "metadata": {
    "colab_type": "text",
    "id": "pRuAvCj6hFbI"
   },
   "source": [
    "### 3.3 Representação Gráfica"
   ]
  },
  {
   "cell_type": "code",
   "execution_count": 147,
   "metadata": {
    "colab": {
     "base_uri": "https://localhost:8080/",
     "height": 585
    },
    "colab_type": "code",
    "executionInfo": {
     "elapsed": 110755,
     "status": "ok",
     "timestamp": 1590428926828,
     "user": {
      "displayName": "Fabricio cursino",
      "photoUrl": "https://lh3.googleusercontent.com/a-/AOh14GhnG-nqrNPPCFN9H00g-mfMpGHWYvF1j7hSO55-Tw=s64",
      "userId": "10988524738909547427"
     },
     "user_tz": 180
    },
    "id": "nGV1z71GhFbI",
    "outputId": "a4262116-a9b0-4e46-e5fd-dd4996958578"
   },
   "outputs": [
    {
     "data": {
      "image/png": "[encoded data removed]",
      "text/plain": [
       "<Figure size 720x576 with 1 Axes>"
      ]
     },
     "metadata": {
      "tags": []
     },
     "output_type": "display_data"
    }
   ],
   "source": [
    "labels = ['Fonte conforme', 'Fonte não Conforme']\n",
    "sizes = [fontes, fontesnconf]\n",
    "\n",
    "colors = ['DeepSkyBlue','#00BFFF']\n",
    " \n",
    "fig2, ax1 = plt.subplots(figsize = (10,8))\n",
    "ax1.pie(sizes, colors = colors, labels=labels, autopct='%1.1f%%', startangle=30)\n",
    "\n",
    "centre_circle = plt.Circle((0,0),0.60,fc='white')\n",
    "fig = plt.gcf()\n",
    "fig.gca().add_artist(centre_circle)\n",
    "\n",
    "plt.title('Conformidade dos dados quanto ao código da fonte válido', fontsize = 18)\n",
    "\n",
    "ax1.axis('equal')  \n",
    "plt.tight_layout()\n",
    "plt.show()"
   ]
  },
  {
   "cell_type": "markdown",
   "metadata": {
    "colab_type": "text",
    "id": "QiVb1q75hFbI"
   },
   "source": [
    "## 4. Verificação da relação entre os campos QTD_OPR e QTD_CLI_CAD_POS (quantidade de operações ser maior ou igual a quantidade de clientes)"
   ]
  },
  {
   "cell_type": "markdown",
   "metadata": {
    "colab_type": "text",
    "id": "vkdjBGHphFbI"
   },
   "source": [
    "### 4.1 Verificação da relação padrão entre os campos"
   ]
  },
  {
   "cell_type": "code",
   "execution_count": 0,
   "metadata": {
    "colab": {},
    "colab_type": "code",
    "id": "LplxqUWahFbI"
   },
   "outputs": [],
   "source": [
    "rel_conforme = 0\n",
    "rel_n_conforme = 0\n",
    "for i in range(len(df_opr)):\n",
    "  if df_opr.QTD_OPR[i] >= df_opr.QTD_CLI_CAD_POS[i]:\n",
    "    rel_conforme = rel_conforme +1\n",
    "  else:\n",
    "    rel_n_conforme = rel_n_conforme +1"
   ]
  },
  {
   "cell_type": "markdown",
   "metadata": {
    "colab_type": "text",
    "id": "FCDhWdlAhFbI"
   },
   "source": [
    "### 4.2 Verificação de porcentagem de registros com relações conforme e não conforme"
   ]
  },
  {
   "cell_type": "code",
   "execution_count": 0,
   "metadata": {
    "colab": {},
    "colab_type": "code",
    "id": "pybjKLgzhFbI"
   },
   "outputs": [],
   "source": [
    "rel_n_conforme = (rel_conforme - total) *100/total\n",
    "rel_conforme = rel_conforme *100/total\n",
    "confor_opr.append(rel_conforme)"
   ]
  },
  {
   "cell_type": "markdown",
   "metadata": {
    "colab_type": "text",
    "id": "WEpILDfPhFbS"
   },
   "source": [
    "### 4.3 Representação Gráfica"
   ]
  },
  {
   "cell_type": "code",
   "execution_count": 150,
   "metadata": {
    "colab": {
     "base_uri": "https://localhost:8080/",
     "height": 585
    },
    "colab_type": "code",
    "executionInfo": {
     "elapsed": 113228,
     "status": "ok",
     "timestamp": 1590428929368,
     "user": {
      "displayName": "Fabricio cursino",
      "photoUrl": "https://lh3.googleusercontent.com/a-/AOh14GhnG-nqrNPPCFN9H00g-mfMpGHWYvF1j7hSO55-Tw=s64",
      "userId": "10988524738909547427"
     },
     "user_tz": 180
    },
    "id": "a6M6aXZNhFbS",
    "outputId": "d660f0fd-1e86-44ff-ac5e-8aeb19e5c75b"
   },
   "outputs": [
    {
     "data": {
      "image/png": "[encoded data removed]",
      "text/plain": [
       "<Figure size 720x576 with 1 Axes>"
      ]
     },
     "metadata": {
      "tags": []
     },
     "output_type": "display_data"
    }
   ],
   "source": [
    "labels = ['Relação conforme', 'Relação não conforme']\n",
    "sizes = [rel_conforme, rel_n_conforme]\n",
    "\n",
    "colors = ['DeepSkyBlue','#00BFFF']\n",
    " \n",
    "fig2, ax1 = plt.subplots(figsize = (10,8))\n",
    "ax1.pie(sizes, colors = colors, labels=labels, autopct='%1.1f%%', startangle=30)\n",
    "\n",
    "centre_circle = plt.Circle((0,0),0.60,fc='white')\n",
    "fig = plt.gcf()\n",
    "fig.gca().add_artist(centre_circle)\n",
    "\n",
    "plt.title('Conformidade da relação entre os campos QTD_OPR e QTD_CLI_CAD_POS', fontsize = 18)\n",
    "\n",
    "ax1.axis('equal')  \n",
    "plt.tight_layout()\n",
    "plt.show()"
   ]
  },
  {
   "cell_type": "markdown",
   "metadata": {
    "colab_type": "text",
    "id": "Z-esGA7PhFbS"
   },
   "source": [
    "## 5. Alteração de formato dos campos VLR_CTRD_CSC e VLR_SDO_DDR"
   ]
  },
  {
   "cell_type": "markdown",
   "metadata": {
    "colab_type": "text",
    "id": "m0_PrkBOhFbS"
   },
   "source": [
    "### 5.1 Alterando formato string para float nos campos VLR_CTRD_CSC e VLR_SDO_DDR"
   ]
  },
  {
   "cell_type": "code",
   "execution_count": 0,
   "metadata": {
    "colab": {},
    "colab_type": "code",
    "id": "5p8Y4TZvhFbS"
   },
   "outputs": [],
   "source": [
    "df_opr.VLR_CTRD_CSC = df_opr.VLR_CTRD_CSC.astype(float)\n",
    "df_opr.VLR_SDO_DDR = df_opr.VLR_SDO_DDR.astype(float)"
   ]
  },
  {
   "cell_type": "markdown",
   "metadata": {
    "colab_type": "text",
    "id": "i0Hfpm6whFbc"
   },
   "source": [
    "### 5.2 Salvando o dataframe alterado em um novo arquivo xlsx"
   ]
  },
  {
   "cell_type": "code",
   "execution_count": 0,
   "metadata": {
    "colab": {},
    "colab_type": "code",
    "id": "ssFwflBshFbc"
   },
   "outputs": [],
   "source": [
    "#df1.to_excel(\"STG_OPR_ITT_Novo.xlsx\")"
   ]
  },
  {
   "cell_type": "markdown",
   "metadata": {
    "colab_type": "text",
    "id": "GnvScaUghFbc"
   },
   "source": [
    "## Tabela STG_PGT"
   ]
  },
  {
   "cell_type": "markdown",
   "metadata": {
    "colab_type": "text",
    "id": "JCAFNhVrhFbc"
   },
   "source": [
    "## 1. Conformidade quanto ao códigos de modalidade válidos"
   ]
  },
  {
   "cell_type": "markdown",
   "metadata": {
    "colab_type": "text",
    "id": "tlMsQf5MhFbc"
   },
   "source": [
    "### 1.1 Criação de uma lista dos códigos de modalidade"
   ]
  },
  {
   "cell_type": "code",
   "execution_count": 153,
   "metadata": {
    "colab": {
     "base_uri": "https://localhost:8080/",
     "height": 0
    },
    "colab_type": "code",
    "executionInfo": {
     "elapsed": 113175,
     "status": "ok",
     "timestamp": 1590428929373,
     "user": {
      "displayName": "Fabricio cursino",
      "photoUrl": "https://lh3.googleusercontent.com/a-/AOh14GhnG-nqrNPPCFN9H00g-mfMpGHWYvF1j7hSO55-Tw=s64",
      "userId": "10988524738909547427"
     },
     "user_tz": 180
    },
    "id": "1KAYsjE7hFbc",
    "outputId": "b600a8a9-92fd-4a04-8482-55f7dbe779db"
   },
   "outputs": [
    {
     "data": {
      "text/plain": [
       "['E02',\n",
       " 'B99',\n",
       " 'D01',\n",
       " 'G01',\n",
       " 'A02',\n",
       " 'A04',\n",
       " 'E01',\n",
       " 'B03',\n",
       " 'B02',\n",
       " 'A05',\n",
       " 'B04',\n",
       " 'B07',\n",
       " 'F01',\n",
       " 'B06',\n",
       " 'C01',\n",
       " 'A01',\n",
       " 'B05',\n",
       " 'A99',\n",
       " 'B01']"
      ]
     },
     "execution_count": 153,
     "metadata": {
      "tags": []
     },
     "output_type": "execute_result"
    }
   ],
   "source": [
    "lista=[]\n",
    "for i in range (len(df_mdl)):\n",
    "    a= df_mdl.COD_MDL[i]\n",
    "    lista.append(a)\n",
    "    \n",
    "lista"
   ]
  },
  {
   "cell_type": "markdown",
   "metadata": {
    "colab_type": "text",
    "id": "fDjc3UZghFbc"
   },
   "source": [
    "### 1.2 Verficação da tabela STG_PGT contém os códigos da modalidade"
   ]
  },
  {
   "cell_type": "code",
   "execution_count": 154,
   "metadata": {
    "colab": {
     "base_uri": "https://localhost:8080/",
     "height": 0
    },
    "colab_type": "code",
    "executionInfo": {
     "elapsed": 113160,
     "status": "ok",
     "timestamp": 1590428929374,
     "user": {
      "displayName": "Fabricio cursino",
      "photoUrl": "https://lh3.googleusercontent.com/a-/AOh14GhnG-nqrNPPCFN9H00g-mfMpGHWYvF1j7hSO55-Tw=s64",
      "userId": "10988524738909547427"
     },
     "user_tz": 180
    },
    "id": "ZeKxd24dhFbc",
    "outputId": "f31ac138-47b6-4de1-cb43-6ae53d9fde41"
   },
   "outputs": [
    {
     "data": {
      "text/plain": [
       "15446"
      ]
     },
     "execution_count": 154,
     "metadata": {
      "tags": []
     },
     "output_type": "execute_result"
    }
   ],
   "source": [
    "conf =len(df_pgt.loc[df_pgt['COD_MDL'].isin(lista)])\n",
    "\n",
    "# Verificação da quantidade de registros que possuem o código de modalidade válido.\n",
    "conf"
   ]
  },
  {
   "cell_type": "markdown",
   "metadata": {
    "colab_type": "text",
    "id": "40osJ_izhFbm"
   },
   "source": [
    "### 1.3 Verificação de quantidade de registro da tabela STG_PGT"
   ]
  },
  {
   "cell_type": "code",
   "execution_count": 155,
   "metadata": {
    "colab": {
     "base_uri": "https://localhost:8080/",
     "height": 0
    },
    "colab_type": "code",
    "executionInfo": {
     "elapsed": 113143,
     "status": "ok",
     "timestamp": 1590428929374,
     "user": {
      "displayName": "Fabricio cursino",
      "photoUrl": "https://lh3.googleusercontent.com/a-/AOh14GhnG-nqrNPPCFN9H00g-mfMpGHWYvF1j7hSO55-Tw=s64",
      "userId": "10988524738909547427"
     },
     "user_tz": 180
    },
    "id": "pa932tNhhFbm",
    "outputId": "5fdb0463-a62c-4bd6-ae82-4c0b51356d18"
   },
   "outputs": [
    {
     "data": {
      "text/plain": [
       "15446"
      ]
     },
     "execution_count": 155,
     "metadata": {
      "tags": []
     },
     "output_type": "execute_result"
    }
   ],
   "source": [
    "total=len(df_pgt)\n",
    "\n",
    "total"
   ]
  },
  {
   "cell_type": "markdown",
   "metadata": {
    "colab_type": "text",
    "id": "XNPxdlDBhFbm"
   },
   "source": [
    "### 1.4 Verificação de % registros conforme baseado nos códigos de modalidade válidos"
   ]
  },
  {
   "cell_type": "code",
   "execution_count": 156,
   "metadata": {
    "colab": {
     "base_uri": "https://localhost:8080/",
     "height": 0
    },
    "colab_type": "code",
    "executionInfo": {
     "elapsed": 113127,
     "status": "ok",
     "timestamp": 1590428929375,
     "user": {
      "displayName": "Fabricio cursino",
      "photoUrl": "https://lh3.googleusercontent.com/a-/AOh14GhnG-nqrNPPCFN9H00g-mfMpGHWYvF1j7hSO55-Tw=s64",
      "userId": "10988524738909547427"
     },
     "user_tz": 180
    },
    "id": "0oKC1uBrhFbm",
    "outputId": "43c6714b-f150-4bd3-e3a3-4d46770e60fe"
   },
   "outputs": [
    {
     "data": {
      "text/plain": [
       "(0.0, 100.0)"
      ]
     },
     "execution_count": 156,
     "metadata": {
      "tags": []
     },
     "output_type": "execute_result"
    }
   ],
   "source": [
    "n_conforme= (total-conf) *100/total\n",
    "conforme = 100 - n_conforme\n",
    "confor_pgt.append(conforme)\n",
    "\n",
    "n_conforme, conforme"
   ]
  },
  {
   "cell_type": "markdown",
   "metadata": {
    "colab_type": "text",
    "id": "4IpCE_fzhFbw"
   },
   "source": [
    "### 1.5 Representação gráfica"
   ]
  },
  {
   "cell_type": "code",
   "execution_count": 157,
   "metadata": {
    "colab": {
     "base_uri": "https://localhost:8080/",
     "height": 0
    },
    "colab_type": "code",
    "executionInfo": {
     "elapsed": 113106,
     "status": "ok",
     "timestamp": 1590428929376,
     "user": {
      "displayName": "Fabricio cursino",
      "photoUrl": "https://lh3.googleusercontent.com/a-/AOh14GhnG-nqrNPPCFN9H00g-mfMpGHWYvF1j7hSO55-Tw=s64",
      "userId": "10988524738909547427"
     },
     "user_tz": 180
    },
    "id": "c8MANpuIhFbw",
    "outputId": "a7a90733-fd62-44bb-8754-45ab077ddc13"
   },
   "outputs": [
    {
     "data": {
      "image/png": "[encoded data removed]",
      "text/plain": [
       "<Figure size 720x576 with 1 Axes>"
      ]
     },
     "metadata": {
      "tags": []
     },
     "output_type": "display_data"
    }
   ],
   "source": [
    "labels = ['Conforme', 'Não Conforme']\n",
    "sizes = [conforme, n_conforme]\n",
    "\n",
    "colors = ['DeepSkyBlue','#00BFFF']\n",
    " \n",
    "fig2, ax1 = plt.subplots(figsize = (10,8))\n",
    "ax1.pie(sizes, colors = colors, labels=labels, autopct='%1.1f%%', startangle=30)\n",
    "\n",
    "centre_circle = plt.Circle((0,0),0.60,fc='white')\n",
    "fig = plt.gcf()\n",
    "fig.gca().add_artist(centre_circle)\n",
    "\n",
    "plt.title('Conformidade dos dados quanto ao código de modalidade válido', fontsize = 18)\n",
    "\n",
    "ax1.axis('equal')  \n",
    "plt.tight_layout()\n",
    "plt.show()"
   ]
  },
  {
   "cell_type": "markdown",
   "metadata": {
    "colab_type": "text",
    "id": "11GIrvvQhFbw"
   },
   "source": [
    "## 2. Vericação se o campo DES_TIP_PSS está no padrão"
   ]
  },
  {
   "cell_type": "markdown",
   "metadata": {
    "colab_type": "text",
    "id": "-LJSoKx4hFbw"
   },
   "source": [
    "### 2.1 Criação de lista para verificação de padrão"
   ]
  },
  {
   "cell_type": "code",
   "execution_count": 158,
   "metadata": {
    "colab": {
     "base_uri": "https://localhost:8080/",
     "height": 0
    },
    "colab_type": "code",
    "executionInfo": {
     "elapsed": 113085,
     "status": "ok",
     "timestamp": 1590428929376,
     "user": {
      "displayName": "Fabricio cursino",
      "photoUrl": "https://lh3.googleusercontent.com/a-/AOh14GhnG-nqrNPPCFN9H00g-mfMpGHWYvF1j7hSO55-Tw=s64",
      "userId": "10988524738909547427"
     },
     "user_tz": 180
    },
    "id": "C139yxeOhFbw",
    "outputId": "88d3435f-d2e9-48ae-bef6-464fd9ae4832"
   },
   "outputs": [
    {
     "data": {
      "text/plain": [
       "(['F', 'J'], ['f', 'j'])"
      ]
     },
     "execution_count": 158,
     "metadata": {
      "tags": []
     },
     "output_type": "execute_result"
    }
   ],
   "source": [
    "## Criação de uma lista para verificar de existência de registros no padrão F(Pessoa Física)  e J(Pessoa Jurídica)\n",
    "listafjM=['F','J']\n",
    "\n",
    "## Criação de lista para verificação de existência de registros fora do padrão f e j ( letras minúsculas)\n",
    "listafjm=['f','j']\n",
    "\n",
    "\n",
    "listafjM, listafjm"
   ]
  },
  {
   "cell_type": "code",
   "execution_count": 159,
   "metadata": {
    "colab": {
     "base_uri": "https://localhost:8080/",
     "height": 0
    },
    "colab_type": "code",
    "executionInfo": {
     "elapsed": 113069,
     "status": "ok",
     "timestamp": 1590428929377,
     "user": {
      "displayName": "Fabricio cursino",
      "photoUrl": "https://lh3.googleusercontent.com/a-/AOh14GhnG-nqrNPPCFN9H00g-mfMpGHWYvF1j7hSO55-Tw=s64",
      "userId": "10988524738909547427"
     },
     "user_tz": 180
    },
    "id": "Wuzo_tqLhFb6",
    "outputId": "22d3c3d9-cf38-4cae-ec97-ed691c17cf10"
   },
   "outputs": [
    {
     "data": {
      "text/plain": [
       "(15446, 0)"
      ]
     },
     "execution_count": 159,
     "metadata": {
      "tags": []
     },
     "output_type": "execute_result"
    }
   ],
   "source": [
    "## Atribuição a uma variável o números de registros válidos com F e J\n",
    "conffjM =len(df_pgt.loc[df_pgt['DES_TIP_PSS'].isin(listafjM)])\n",
    "\n",
    "## Atribuição a uma variável o números de registros fora do padrão f e j (letras minúsculas) \n",
    "conffjm =len(df_pgt.loc[df_pgt['DES_TIP_PSS'].isin(listafjm)])\n",
    "\n",
    "conffjM , conffjm"
   ]
  },
  {
   "cell_type": "markdown",
   "metadata": {
    "colab_type": "text",
    "id": "4ZFI40DRhFb6"
   },
   "source": [
    "### 2.2 Cálculo de porcentagem de dados conforme e não conforme quanto à Pessoa Física ou Jurídica"
   ]
  },
  {
   "cell_type": "code",
   "execution_count": 0,
   "metadata": {
    "colab": {},
    "colab_type": "code",
    "id": "bTp7PkrahFb6"
   },
   "outputs": [],
   "source": [
    "FJ = conffjM *100/total\n",
    "fj = conffjm*100/total\n",
    "difFJ = (total-conffjM)*100/total\n",
    "confor_pgt.append(FJ)\n"
   ]
  },
  {
   "cell_type": "markdown",
   "metadata": {
    "colab_type": "text",
    "id": "zJVkNZLhhFb6"
   },
   "source": [
    "### 2.3 Representação Gráfica"
   ]
  },
  {
   "cell_type": "code",
   "execution_count": 161,
   "metadata": {
    "colab": {
     "base_uri": "https://localhost:8080/",
     "height": 0
    },
    "colab_type": "code",
    "executionInfo": {
     "elapsed": 113037,
     "status": "ok",
     "timestamp": 1590428929379,
     "user": {
      "displayName": "Fabricio cursino",
      "photoUrl": "https://lh3.googleusercontent.com/a-/AOh14GhnG-nqrNPPCFN9H00g-mfMpGHWYvF1j7hSO55-Tw=s64",
      "userId": "10988524738909547427"
     },
     "user_tz": 180
    },
    "id": "Pl7CTb1ghFb6",
    "outputId": "c2d52691-1b28-42d9-bef0-289f57b79d29"
   },
   "outputs": [
    {
     "data": {
      "image/png": "[encoded data removed]",
      "text/plain": [
       "<Figure size 720x576 with 1 Axes>"
      ]
     },
     "metadata": {
      "tags": []
     },
     "output_type": "display_data"
    },
    {
     "data": {
      "image/png": "[encoded data removed]",
      "text/plain": [
       "<Figure size 720x576 with 1 Axes>"
      ]
     },
     "metadata": {
      "tags": []
     },
     "output_type": "display_data"
    }
   ],
   "source": [
    "labels = ['Total de Registros com F ou J', 'Total de Registros fora do padrão']\n",
    "sizes = [FJ, difFJ]\n",
    "\n",
    "colors = ['DeepSkyBlue','#00BFFF']\n",
    " \n",
    "fig2, ax1 = plt.subplots(figsize = (10,8))\n",
    "ax1.pie(sizes, colors = colors, labels=labels, autopct='%1.1f%%', startangle=30)\n",
    "\n",
    "centre_circle = plt.Circle((0,0),0.60,fc='white')\n",
    "fig = plt.gcf()\n",
    "fig.gca().add_artist(centre_circle)\n",
    "\n",
    "plt.title('Conformidade dos dados quanto a identificação de tipo de cliente padronizada', fontsize = 18)\n",
    "\n",
    "ax1.axis('equal')  \n",
    "plt.tight_layout()\n",
    "plt.show()\n",
    "\n",
    "\n",
    "\n",
    "labels = ['Total de Registros com F ou J', 'Total de Registros com f ou j']\n",
    "sizes = [FJ, fj]\n",
    "\n",
    "colors = ['DeepSkyBlue','#00BFFF']\n",
    " \n",
    "fig2, ax1 = plt.subplots(figsize = (10,8))\n",
    "ax1.pie(sizes, colors = colors, labels=labels, autopct='%1.1f%%', startangle=30)\n",
    "\n",
    "centre_circle = plt.Circle((0,0),0.60,fc='white')\n",
    "fig = plt.gcf()\n",
    "fig.gca().add_artist(centre_circle)\n",
    "\n",
    "plt.title('Conformidade dos dados quanto a identificação de tipo de cliente padronizada', fontsize = 18)\n",
    "\n",
    "ax1.axis('equal')  \n",
    "plt.tight_layout()\n",
    "plt.show()"
   ]
  },
  {
   "cell_type": "markdown",
   "metadata": {
    "colab_type": "text",
    "id": "-aFdVddrhFb6"
   },
   "source": [
    "## 3. Verificação do campo ID_FNT_ITT da tabela STG_PGT se está de acordo com a tabela STG_FNT_ITT"
   ]
  },
  {
   "cell_type": "markdown",
   "metadata": {
    "colab_type": "text",
    "id": "J77RYR3HhFcE"
   },
   "source": [
    "### 3.1 Verficação da tabela STG_PGT contém fontes válidas"
   ]
  },
  {
   "cell_type": "code",
   "execution_count": 162,
   "metadata": {
    "colab": {
     "base_uri": "https://localhost:8080/",
     "height": 34
    },
    "colab_type": "code",
    "executionInfo": {
     "elapsed": 113018,
     "status": "ok",
     "timestamp": 1590428929379,
     "user": {
      "displayName": "Fabricio cursino",
      "photoUrl": "https://lh3.googleusercontent.com/a-/AOh14GhnG-nqrNPPCFN9H00g-mfMpGHWYvF1j7hSO55-Tw=s64",
      "userId": "10988524738909547427"
     },
     "user_tz": 180
    },
    "id": "_4wHnLo4hFcE",
    "outputId": "9f2d3560-819e-4653-d13a-479604170c92"
   },
   "outputs": [
    {
     "data": {
      "text/plain": [
       "15446"
      ]
     },
     "execution_count": 162,
     "metadata": {
      "tags": []
     },
     "output_type": "execute_result"
    }
   ],
   "source": [
    "conf_fontes =len(df_pgt.loc[df_pgt['ID_FNT_ITT'].isin(listafontes)])\n",
    "\n",
    "conf_fontes"
   ]
  },
  {
   "cell_type": "markdown",
   "metadata": {
    "colab_type": "text",
    "id": "-g1CqujChFcG"
   },
   "source": [
    "### 3.2 Verificação de % registros conforme baseado na identificação de fonte válidas"
   ]
  },
  {
   "cell_type": "code",
   "execution_count": 0,
   "metadata": {
    "colab": {},
    "colab_type": "code",
    "id": "nnTECxrkhFcG"
   },
   "outputs": [],
   "source": [
    "fontes = conf_fontes *100/total\n",
    "fontesnconf = (total-conf_fontes)*100/total\n",
    "confor_pgt.append(fontes)"
   ]
  },
  {
   "cell_type": "markdown",
   "metadata": {
    "colab_type": "text",
    "id": "rqBGYkqvhFcI"
   },
   "source": [
    "### 3.3 Representação gráfica"
   ]
  },
  {
   "cell_type": "code",
   "execution_count": 164,
   "metadata": {
    "colab": {
     "base_uri": "https://localhost:8080/",
     "height": 0
    },
    "colab_type": "code",
    "executionInfo": {
     "elapsed": 112989,
     "status": "ok",
     "timestamp": 1590428929381,
     "user": {
      "displayName": "Fabricio cursino",
      "photoUrl": "https://lh3.googleusercontent.com/a-/AOh14GhnG-nqrNPPCFN9H00g-mfMpGHWYvF1j7hSO55-Tw=s64",
      "userId": "10988524738909547427"
     },
     "user_tz": 180
    },
    "id": "eno856MXhFcJ",
    "outputId": "9cb60220-0e03-451c-9d5d-e6ea26707931"
   },
   "outputs": [
    {
     "data": {
      "image/png": "[encoded data removed]",
      "text/plain": [
       "<Figure size 720x576 with 1 Axes>"
      ]
     },
     "metadata": {
      "tags": []
     },
     "output_type": "display_data"
    }
   ],
   "source": [
    "labels = ['Fonte conforme', 'Fonte não Conforme']\n",
    "sizes = [fontes, fontesnconf]\n",
    "\n",
    "colors = ['DeepSkyBlue','#00BFFF']\n",
    " \n",
    "fig2, ax1 = plt.subplots(figsize = (10,8))\n",
    "ax1.pie(sizes, colors = colors, labels=labels, autopct='%1.1f%%', startangle=30)\n",
    "\n",
    "centre_circle = plt.Circle((0,0),0.60,fc='white')\n",
    "fig = plt.gcf()\n",
    "fig.gca().add_artist(centre_circle)\n",
    "\n",
    "plt.title('Conformidade dos dados quanto ao código da fonte válido', fontsize = 18)\n",
    "\n",
    "ax1.axis('equal')  \n",
    "plt.tight_layout()\n",
    "plt.show()"
   ]
  },
  {
   "cell_type": "markdown",
   "metadata": {
    "colab_type": "text",
    "id": "pKG2ossBhFcL"
   },
   "source": [
    "## 4. Alteração de formato do campo VLR_PGT_FAT"
   ]
  },
  {
   "cell_type": "markdown",
   "metadata": {
    "colab_type": "text",
    "id": "BcuPiFadhFcN"
   },
   "source": [
    "### 4.1 Alterando formato string para float no campo VLR_PGT_FAT"
   ]
  },
  {
   "cell_type": "code",
   "execution_count": 0,
   "metadata": {
    "colab": {},
    "colab_type": "code",
    "id": "AboE2Tn5hFcN"
   },
   "outputs": [],
   "source": [
    "df_pgt.VLR_PGT_FAT = df_pgt.VLR_PGT_FAT.astype(float)"
   ]
  },
  {
   "cell_type": "markdown",
   "metadata": {
    "colab_type": "text",
    "id": "au-SuFvdhFcP"
   },
   "source": [
    "### 4.2 Salvando o dataframe alterado em um Novo arquivo xlsx"
   ]
  },
  {
   "cell_type": "code",
   "execution_count": 0,
   "metadata": {
    "colab": {},
    "colab_type": "code",
    "id": "5BqoBOUZhFcR"
   },
   "outputs": [],
   "source": [
    "#df.to_excel(\"STG_PGT_Novo.xlsx\") "
   ]
  },
  {
   "cell_type": "markdown",
   "metadata": {
    "colab_type": "text",
    "id": "9gcyKRsf2iWq"
   },
   "source": [
    "# Análise do Indicador de Recência"
   ]
  },
  {
   "cell_type": "markdown",
   "metadata": {
    "colab_type": "text",
    "id": "67wkAjoO2812"
   },
   "source": [
    "### 1.1 Verificando recência da tabela STG_PGT"
   ]
  },
  {
   "cell_type": "code",
   "execution_count": 4,
   "metadata": {
    "colab": {
     "base_uri": "https://localhost:8080/",
     "height": 34
    },
    "colab_type": "code",
    "executionInfo": {
     "elapsed": 112939,
     "status": "ok",
     "timestamp": 1590428929383,
     "user": {
      "displayName": "Fabricio cursino",
      "photoUrl": "https://lh3.googleusercontent.com/a-/AOh14GhnG-nqrNPPCFN9H00g-mfMpGHWYvF1j7hSO55-Tw=s64",
      "userId": "10988524738909547427"
     },
     "user_tz": 180
    },
    "id": "_rjlOX2EhFcT",
    "outputId": "6be3a1a5-71a6-4897-b72a-c78c6ab2f027"
   },
   "outputs": [
    {
     "data": {
      "text/plain": [
       "(['2020-01-16', '2020-01-17 17:50:42.746'], [100.0, 100.0])"
      ]
     },
     "execution_count": 4,
     "metadata": {},
     "output_type": "execute_result"
    }
   ],
   "source": [
    "#Contando a quantidade de itens na coluna DAT_RSS_FNT_ITT.\n",
    "view_pgt = df_pgt[['ID_STG_PGT', 'DAT_RSS_FNT_ITT']]\n",
    "DAT_RSS_FNT_ITT = view_pgt.groupby('DAT_RSS_FNT_ITT').count()\n",
    "\n",
    "#Contando a quantidade de itens na coluna DAT_INC_DBO.\n",
    "view_pgt = df_pgt[['ID_STG_PGT', 'DAT_INC_DBO']]\n",
    "DAT_INC_DBO = view_pgt.groupby('DAT_INC_DBO').count()\n",
    "\n",
    "colunas = [DAT_RSS_FNT_ITT, DAT_INC_DBO]\n",
    "\n",
    "ids_pgt = []\n",
    "valores_pgt = []\n",
    "\n",
    "for coluna in colunas:\n",
    "    for x in coluna['ID_STG_PGT'].to_dict().items():\n",
    "        ids_pgt.append(x[0])\n",
    "        valores_pgt.append(x[1])\n",
    "    \n",
    "tabela_pgt =  pd.DataFrame({'ALTERAÇÃO(ÕES)' : [x for x in ids_pgt], \n",
    "                         'OCORRÊNCIA (%)' : [x * 100 / view_pgt.shape[0] for x in valores_pgt]}, \n",
    "                        index = ['DAT_RSS_FNT_ITT', 'DAT_INC_DBO'])\n",
    "a = (valores_pgt[0])\n",
    "b = (valores_pgt[1])\n",
    "recen_pgt.append(a*(100/len(df_pgt)))\n",
    "recen_pgt.append(b*(100/len(df_pgt)))\n",
    "\n",
    "\n",
    "ids_pgt, recen_pgt"
   ]
  },
  {
   "cell_type": "markdown",
   "metadata": {
    "colab_type": "text",
    "id": "1P1gDEOs2-Xd"
   },
   "source": [
    "### 1.2 Representação Gráfica"
   ]
  },
  {
   "cell_type": "code",
   "execution_count": 5,
   "metadata": {
    "colab": {
     "base_uri": "https://localhost:8080/",
     "height": 370
    },
    "colab_type": "code",
    "executionInfo": {
     "elapsed": 112922,
     "status": "ok",
     "timestamp": 1590428929384,
     "user": {
      "displayName": "Fabricio cursino",
      "photoUrl": "https://lh3.googleusercontent.com/a-/AOh14GhnG-nqrNPPCFN9H00g-mfMpGHWYvF1j7hSO55-Tw=s64",
      "userId": "10988524738909547427"
     },
     "user_tz": 180
    },
    "id": "elAraljs2-pz",
    "outputId": "3eb468e2-d64c-4c8f-c533-bdc0d20e9722"
   },
   "outputs": [
    {
     "data": {
      "image/png": "[encoded data removed]",
      "text/plain": [
       "<Figure size 432x288 with 1 Axes>"
      ]
     },
     "metadata": {
      "needs_background": "light"
     },
     "output_type": "display_data"
    }
   ],
   "source": [
    "dados = ['Total de dados', '2020-01-16\\nDAT_RSS_FNT_ITT', '2020-01-17 17:50:42.746\\nDAT_INC_DBO']\n",
    "n = [len(df_pgt), valores_pgt[0], valores_pgt[1]]\n",
    "\n",
    "barlist = plt.bar(dados,[len(df_pgt), valores_pgt[0], valores_pgt[1]])\n",
    "barlist[0].set_color('#FF8C00')\n",
    "barlist[1].set_color('#3CB371')\n",
    "barlist[2].set_color('#3CB371')\n",
    "\n",
    "plt.xticks(dados, fontsize=12, rotation=25)\n",
    "plt.ylabel('Quantidade', fontsize=12)\n",
    "plt.xlabel('Dados', fontsize=14)\n",
    "plt.title('Recência dos dados da tabela STG_PGT', fontsize=18)\n",
    "\n",
    "plt.show()"
   ]
  },
  {
   "cell_type": "markdown",
   "metadata": {
    "colab_type": "text",
    "id": "ijIXT35d3bJh"
   },
   "source": [
    "### 2.1Verificando recência da tabela STG_OPR_ITT"
   ]
  },
  {
   "cell_type": "code",
   "execution_count": 6,
   "metadata": {
    "colab": {
     "base_uri": "https://localhost:8080/",
     "height": 111
    },
    "colab_type": "code",
    "executionInfo": {
     "elapsed": 112873,
     "status": "ok",
     "timestamp": 1590428929385,
     "user": {
      "displayName": "Fabricio cursino",
      "photoUrl": "https://lh3.googleusercontent.com/a-/AOh14GhnG-nqrNPPCFN9H00g-mfMpGHWYvF1j7hSO55-Tw=s64",
      "userId": "10988524738909547427"
     },
     "user_tz": 180
    },
    "id": "5r3D0L-83bZP",
    "outputId": "a0b8a0cc-36a0-484f-95bf-0ab16dd78cc5"
   },
   "outputs": [
    {
     "data": {
      "text/html": [
       "<div>\n",
       "<style scoped>\n",
       "    .dataframe tbody tr th:only-of-type {\n",
       "        vertical-align: middle;\n",
       "    }\n",
       "\n",
       "    .dataframe tbody tr th {\n",
       "        vertical-align: top;\n",
       "    }\n",
       "\n",
       "    .dataframe thead th {\n",
       "        text-align: right;\n",
       "    }\n",
       "</style>\n",
       "<table border=\"1\" class=\"dataframe\">\n",
       "  <thead>\n",
       "    <tr style=\"text-align: right;\">\n",
       "      <th></th>\n",
       "      <th>ALTERAÇÃO(ÕES)</th>\n",
       "      <th>OCORRÊNCIA (%)</th>\n",
       "    </tr>\n",
       "  </thead>\n",
       "  <tbody>\n",
       "    <tr>\n",
       "      <th>DAT_RSS_FNT_ITT</th>\n",
       "      <td>2020-01-16</td>\n",
       "      <td>100.0</td>\n",
       "    </tr>\n",
       "    <tr>\n",
       "      <th>DAT_INC_DBO</th>\n",
       "      <td>2020-01-27 10:49:48.15</td>\n",
       "      <td>100.0</td>\n",
       "    </tr>\n",
       "  </tbody>\n",
       "</table>\n",
       "</div>"
      ],
      "text/plain": [
       "                         ALTERAÇÃO(ÕES)  OCORRÊNCIA (%)\n",
       "DAT_RSS_FNT_ITT              2020-01-16           100.0\n",
       "DAT_INC_DBO      2020-01-27 10:49:48.15           100.0"
      ]
     },
     "execution_count": 6,
     "metadata": {},
     "output_type": "execute_result"
    }
   ],
   "source": [
    "#Contando a quantidade de itens na coluna DAT_RSS_FNT_ITT.\n",
    "view_opr = df_opr[['ID_STG_OPR_ITT', 'DAT_RSS_FNT_ITT']]\n",
    "DAT_RSS_FNT_ITT = view_opr.groupby('DAT_RSS_FNT_ITT').count()\n",
    "\n",
    "#Contando a quantidade de itens na coluna DAT_INC_DBO.\n",
    "view_opr = df_opr[['ID_STG_OPR_ITT', 'DAT_INC_DBO']]\n",
    "DAT_INC_DBO = view_opr.groupby('DAT_INC_DBO').count()\n",
    "\n",
    "colunas = [DAT_RSS_FNT_ITT, DAT_INC_DBO]\n",
    "\n",
    "ids_opr = []\n",
    "valores_opr = []\n",
    "\n",
    "for coluna in colunas:\n",
    "    for x in coluna['ID_STG_OPR_ITT'].to_dict().items():\n",
    "        ids_opr.append(x[0])\n",
    "        valores_opr.append(x[1])\n",
    "    \n",
    "tabela_opr =  pd.DataFrame({'ALTERAÇÃO(ÕES)' : [x for x in ids_opr], \n",
    "                         'OCORRÊNCIA (%)' : [x * 100 / view_opr.shape[0] for x in valores_opr]}, \n",
    "                        index = ['DAT_RSS_FNT_ITT', 'DAT_INC_DBO'])\n",
    "a = (valores_opr[0])\n",
    "b = (valores_opr[1])\n",
    "recen_opr.append(a*(100/len(df_opr)))\n",
    "recen_opr.append(b*(100/len(df_opr)))\n",
    "\n",
    "tabela_opr"
   ]
  },
  {
   "cell_type": "markdown",
   "metadata": {
    "colab_type": "text",
    "id": "u9oBdq1M3bkF"
   },
   "source": [
    "### 2.2 Representação Gráfica"
   ]
  },
  {
   "cell_type": "code",
   "execution_count": 7,
   "metadata": {
    "colab": {
     "base_uri": "https://localhost:8080/",
     "height": 370
    },
    "colab_type": "code",
    "executionInfo": {
     "elapsed": 112848,
     "status": "ok",
     "timestamp": 1590428929386,
     "user": {
      "displayName": "Fabricio cursino",
      "photoUrl": "https://lh3.googleusercontent.com/a-/AOh14GhnG-nqrNPPCFN9H00g-mfMpGHWYvF1j7hSO55-Tw=s64",
      "userId": "10988524738909547427"
     },
     "user_tz": 180
    },
    "id": "KrC1P3GY3b5L",
    "outputId": "aba69b0d-c96f-4911-d991-8914b6b132e7"
   },
   "outputs": [
    {
     "data": {
      "image/png": "[encoded data removed]",
      "text/plain": [
       "<Figure size 432x288 with 1 Axes>"
      ]
     },
     "metadata": {
      "needs_background": "light"
     },
     "output_type": "display_data"
    }
   ],
   "source": [
    "dados = ['Total de dados', '2020-01-16\\nDAT_RSS_FNT_ITT', '2020-01-17 17:50:42.746\\nDAT_INC_DBO']\n",
    "n = [len(df_opr), valores_opr[0], valores_opr[1]]\n",
    "\n",
    "barlist = plt.bar(dados,[len(df_opr), valores_opr[0], valores_opr[1]])\n",
    "barlist[0].set_color('#FF8C00')\n",
    "barlist[1].set_color('#3CB371')\n",
    "barlist[2].set_color('#3CB371')\n",
    "\n",
    "plt.xticks(dados, fontsize=12, rotation=25)\n",
    "plt.ylabel('Quantidade', fontsize=12)\n",
    "plt.xlabel('Dados', fontsize=14)\n",
    "plt.title('Recência dos dados da tabela STG_OPR_ITT', fontsize=18)\n",
    "\n",
    "plt.show()"
   ]
  },
  {
   "cell_type": "markdown",
   "metadata": {
    "colab_type": "text",
    "id": "y3p1qgus30Z-"
   },
   "source": [
    "### 3.1 Verificando recência da tabela STG_OPR_MVT"
   ]
  },
  {
   "cell_type": "code",
   "execution_count": 8,
   "metadata": {
    "colab": {
     "base_uri": "https://localhost:8080/",
     "height": 34
    },
    "colab_type": "code",
    "executionInfo": {
     "elapsed": 112819,
     "status": "ok",
     "timestamp": 1590428929387,
     "user": {
      "displayName": "Fabricio cursino",
      "photoUrl": "https://lh3.googleusercontent.com/a-/AOh14GhnG-nqrNPPCFN9H00g-mfMpGHWYvF1j7hSO55-Tw=s64",
      "userId": "10988524738909547427"
     },
     "user_tz": 180
    },
    "id": "4o42fYhe30kl",
    "outputId": "b0181db8-a73d-454f-f163-4b65ca52ff0c"
   },
   "outputs": [
    {
     "data": {
      "text/plain": [
       "[15, 15]"
      ]
     },
     "execution_count": 8,
     "metadata": {},
     "output_type": "execute_result"
    }
   ],
   "source": [
    "#Contando a quantidade de itens na coluna DAT_RSS_FNT_ITT.\n",
    "view_mvt = df_mvt[['ID_STG_MVT_CRD', 'DAT_RSS_FNT_ITT']]\n",
    "DAT_RSS_FNT_ITT = view_mvt.groupby('DAT_RSS_FNT_ITT').count()\n",
    "\n",
    "#Contando a quantidade de itens na coluna DAT_INC_DBO.\n",
    "view_mvt = df_mvt[['ID_STG_MVT_CRD', 'DAT_INC_DBO']]\n",
    "DAT_INC_DBO = view_mvt.groupby('DAT_INC_DBO').count()\n",
    "\n",
    "colunas = [DAT_RSS_FNT_ITT, DAT_INC_DBO]\n",
    "\n",
    "ids_mvt = []\n",
    "valores_mvt = []\n",
    "\n",
    "for coluna in colunas:\n",
    "    for x in coluna['ID_STG_MVT_CRD'].to_dict().items():\n",
    "        ids_mvt.append(x[0])\n",
    "        valores_mvt.append(x[1])\n",
    "    \n",
    "tabela_mvt =  pd.DataFrame({'ALTERAÇÃO(ÕES)' : [x for x in ids_mvt], \n",
    "                         'OCORRÊNCIA (%)' : [x * 100 / view_mvt.shape[0] for x in valores_mvt]}, \n",
    "                        index = ['DAT_RSS_FNT_ITT', 'DAT_INC_DBO'])\n",
    "a = (valores_mvt[0])\n",
    "b = (valores_mvt[1])\n",
    "recen_mvt.append(a*(100/len(df_mvt)))\n",
    "recen_mvt.append(b*(100/len(df_mvt)))\n",
    "\n",
    "\n",
    "valores_mvt"
   ]
  },
  {
   "cell_type": "markdown",
   "metadata": {
    "colab_type": "text",
    "id": "yA2F_f1P30ui"
   },
   "source": [
    "### 3.2 Representação Gráfica"
   ]
  },
  {
   "cell_type": "code",
   "execution_count": 9,
   "metadata": {
    "colab": {
     "base_uri": "https://localhost:8080/",
     "height": 370
    },
    "colab_type": "code",
    "executionInfo": {
     "elapsed": 112795,
     "status": "ok",
     "timestamp": 1590428929387,
     "user": {
      "displayName": "Fabricio cursino",
      "photoUrl": "https://lh3.googleusercontent.com/a-/AOh14GhnG-nqrNPPCFN9H00g-mfMpGHWYvF1j7hSO55-Tw=s64",
      "userId": "10988524738909547427"
     },
     "user_tz": 180
    },
    "id": "kkDUL-b9309k",
    "outputId": "7beb5cdc-462a-46da-c185-5cf1a473f0ac"
   },
   "outputs": [
    {
     "data": {
      "image/png": "[encoded data removed]",
      "text/plain": [
       "<Figure size 432x288 with 1 Axes>"
      ]
     },
     "metadata": {
      "needs_background": "light"
     },
     "output_type": "display_data"
    }
   ],
   "source": [
    "dados = ['Total de dados', '2020-01-16\\nDAT_RSS_FNT_ITT', '2020-01-17 17:50:42.746\\nDAT_INC_DBO']\n",
    "n = [len(df_mvt), valores_mvt[0], valores_mvt[1]]\n",
    "\n",
    "barlist = plt.bar(dados,[len(df_mvt), valores_mvt[0], valores_mvt[1]])\n",
    "barlist[0].set_color('#FF8C00')\n",
    "barlist[1].set_color('#3CB371')\n",
    "barlist[2].set_color('#3CB371')\n",
    "\n",
    "plt.xticks(dados, fontsize=12, rotation=25)\n",
    "plt.ylabel('Quantidade', fontsize=12)\n",
    "plt.xlabel('Dados', fontsize=14)\n",
    "plt.title('Recência dos dados da tabela STG_MVT_CRD', fontsize=18)\n",
    "\n",
    "plt.show()"
   ]
  },
  {
   "cell_type": "markdown",
   "metadata": {
    "colab_type": "text",
    "id": "qBqxy3rfytzB"
   },
   "source": [
    "# Análise da Integridade das Tabelas baseada nos Indicadores"
   ]
  },
  {
   "cell_type": "code",
   "execution_count": 0,
   "metadata": {
    "colab": {},
    "colab_type": "code",
    "id": "vzgEOM7sDCK-"
   },
   "outputs": [],
   "source": [
    "confiab_pc = confiab_fnt[0]\n",
    "dupl_pc = (sum(dupl_fnt)+sum(dupl_mdl))/2\n",
    "compl_pc = (sum(compl_fnt)+sum(compl_mvt)+sum(compl_opr)+sum(compl_pgt))/4\n",
    "confor_pc = (sum(confor_mvt)+sum(confor_opr)+sum(confor_pgt))/10\n",
    "recen_pc = (sum(recen_pgt)+sum(recen_opr)+sum(recen_mvt))/6\n"
   ]
  },
  {
   "cell_type": "code",
   "execution_count": 174,
   "metadata": {
    "colab": {
     "base_uri": "https://localhost:8080/",
     "height": 364
    },
    "colab_type": "code",
    "executionInfo": {
     "elapsed": 112734,
     "status": "ok",
     "timestamp": 1590428929390,
     "user": {
      "displayName": "Fabricio cursino",
      "photoUrl": "https://lh3.googleusercontent.com/a-/AOh14GhnG-nqrNPPCFN9H00g-mfMpGHWYvF1j7hSO55-Tw=s64",
      "userId": "10988524738909547427"
     },
     "user_tz": 180
    },
    "id": "FRVkB3FrDSJd",
    "outputId": "1efe2283-bbb6-4991-c393-692d408d2fb9"
   },
   "outputs": [
    {
     "data": {
      "image/png": "[encoded data removed]",
      "text/plain": [
       "<Figure size 432x288 with 1 Axes>"
      ]
     },
     "metadata": {
      "needs_background": "light",
      "tags": []
     },
     "output_type": "display_data"
    }
   ],
   "source": [
    "dados = ['Confiabilidade', 'Duplicidade', 'Completude', 'Conformidade', 'Recência']\n",
    "valores = [confiab_pc, dupl_pc, compl_pc, confor_pc, recen_pc]\n",
    "\n",
    "barlist = plt.bar(dados,[confiab_pc, dupl_pc, compl_pc, confor_pc, recen_pc])\n",
    "\n",
    "\n",
    "plt.xticks(dados, fontsize=12, rotation=45)\n",
    "plt.ylabel('Integridade(%)', fontsize=12)\n",
    "plt.xlabel('Indicadores', fontsize=14)\n",
    "plt.title('Percentual de Integridade da Remessa de Acordo com os Indicadores', fontsize=18)\n",
    "\n",
    "plt.show()"
   ]
  },
  {
   "cell_type": "code",
   "execution_count": 0,
   "metadata": {
    "colab": {},
    "colab_type": "code",
    "id": "dnmNzAOdp_Xv"
   },
   "outputs": [],
   "source": []
  }
 ],
 "metadata": {
  "colab": {
   "collapsed_sections": [
    "16xHL9CJhFZE",
    "KJW4KYaxhFad",
    "Z-esGA7PhFbS",
    "m0_PrkBOhFbS",
    "i0Hfpm6whFbc",
    "GnvScaUghFbc",
    "JCAFNhVrhFbc",
    "tlMsQf5MhFbc",
    "fDjc3UZghFbc",
    "40osJ_izhFbm",
    "XNPxdlDBhFbm",
    "4IpCE_fzhFbw",
    "11GIrvvQhFbw",
    "-LJSoKx4hFbw",
    "4ZFI40DRhFb6",
    "zJVkNZLhhFb6",
    "rqBGYkqvhFcI"
   ],
   "name": "Análise tabelas unificado (1).ipynb",
   "provenance": []
  },
  "kernelspec": {
   "display_name": "Python 3",
   "language": "python",
   "name": "python3"
  },
  "language_info": {
   "codemirror_mode": {
    "name": "ipython",
    "version": 3
   },
   "file_extension": ".py",
   "mimetype": "text/x-python",
   "name": "python",
   "nbconvert_exporter": "python",
   "pygments_lexer": "ipython3",
   "version": "3.5.2"
  }
 },
 "nbformat": 4,
 "nbformat_minor": 1
}
